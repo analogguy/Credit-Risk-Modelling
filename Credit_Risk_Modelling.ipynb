{
  "nbformat": 4,
  "nbformat_minor": 0,
  "metadata": {
    "colab": {
      "name": "Credit Risk Modelling.ipynb",
      "provenance": [],
      "collapsed_sections": []
    },
    "kernelspec": {
      "name": "python3",
      "display_name": "Python 3"
    },
    "language_info": {
      "name": "python"
    }
  },
  "cells": [
    {
      "cell_type": "markdown",
      "metadata": {
        "id": "niTgO9rH9jsU"
      },
      "source": [
        "#Understanding credit risk\n",
        "\n",
        "Three primary components\n",
        "1. PD - Probability of Default\n",
        "Likelihood someone will default on loan\n",
        "2. Exposure at Default (EAD)\n",
        "Amt outstanding at default\n",
        "3. LGD - Loss Given Default\n",
        "Ratio of exposure against any recovery from loss\n",
        "\n",
        "Expected loss = PD*EAD*LGD"
      ]
    },
    {
      "cell_type": "code",
      "metadata": {
        "colab": {
          "resources": {
            "http://localhost:8080/nbextensions/google.colab/files.js": {
              "data": "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",
              "ok": true,
              "headers": [
                [
                  "content-type",
                  "application/javascript"
                ]
              ],
              "status": 200,
              "status_text": ""
            }
          },
          "base_uri": "https://localhost:8080/",
          "height": 73
        },
        "id": "mzIc8D-L9e52",
        "outputId": "406df9a2-85f4-4a84-a430-c5053c6fc642"
      },
      "source": [
        "#Load the data\n",
        "from google.colab import files # Use to load data on Google Colab\n",
        "uploaded = files.upload() # Use to load data on Google Colab"
      ],
      "execution_count": 2,
      "outputs": [
        {
          "output_type": "display_data",
          "data": {
            "text/html": [
              "\n",
              "     <input type=\"file\" id=\"files-d081a969-2fec-4332-a6c9-0be2a89bd714\" name=\"files[]\" multiple disabled\n",
              "        style=\"border:none\" />\n",
              "     <output id=\"result-d081a969-2fec-4332-a6c9-0be2a89bd714\">\n",
              "      Upload widget is only available when the cell has been executed in the\n",
              "      current browser session. Please rerun this cell to enable.\n",
              "      </output>\n",
              "      <script src=\"/nbextensions/google.colab/files.js\"></script> "
            ],
            "text/plain": [
              "<IPython.core.display.HTML object>"
            ]
          },
          "metadata": {
            "tags": []
          }
        },
        {
          "output_type": "stream",
          "text": [
            "Saving cr_loan2.csv to cr_loan2.csv\n"
          ],
          "name": "stdout"
        }
      ]
    },
    {
      "cell_type": "code",
      "metadata": {
        "colab": {
          "base_uri": "https://localhost:8080/",
          "height": 222
        },
        "id": "vgroNKaq_Wpj",
        "outputId": "90edbc24-3bc3-4f75-9711-d14a9e3f7f00"
      },
      "source": [
        "import pandas as pd\n",
        "cr_loan = pd.read_csv('cr_loan2.csv')\n",
        "cr_loan.head()"
      ],
      "execution_count": 3,
      "outputs": [
        {
          "output_type": "execute_result",
          "data": {
            "text/html": [
              "<div>\n",
              "<style scoped>\n",
              "    .dataframe tbody tr th:only-of-type {\n",
              "        vertical-align: middle;\n",
              "    }\n",
              "\n",
              "    .dataframe tbody tr th {\n",
              "        vertical-align: top;\n",
              "    }\n",
              "\n",
              "    .dataframe thead th {\n",
              "        text-align: right;\n",
              "    }\n",
              "</style>\n",
              "<table border=\"1\" class=\"dataframe\">\n",
              "  <thead>\n",
              "    <tr style=\"text-align: right;\">\n",
              "      <th></th>\n",
              "      <th>person_age</th>\n",
              "      <th>person_income</th>\n",
              "      <th>person_home_ownership</th>\n",
              "      <th>person_emp_length</th>\n",
              "      <th>loan_intent</th>\n",
              "      <th>loan_grade</th>\n",
              "      <th>loan_amnt</th>\n",
              "      <th>loan_int_rate</th>\n",
              "      <th>loan_status</th>\n",
              "      <th>loan_percent_income</th>\n",
              "      <th>cb_person_default_on_file</th>\n",
              "      <th>cb_person_cred_hist_length</th>\n",
              "    </tr>\n",
              "  </thead>\n",
              "  <tbody>\n",
              "    <tr>\n",
              "      <th>0</th>\n",
              "      <td>22</td>\n",
              "      <td>59000</td>\n",
              "      <td>RENT</td>\n",
              "      <td>123.0</td>\n",
              "      <td>PERSONAL</td>\n",
              "      <td>D</td>\n",
              "      <td>35000</td>\n",
              "      <td>16.02</td>\n",
              "      <td>1</td>\n",
              "      <td>0.59</td>\n",
              "      <td>Y</td>\n",
              "      <td>3</td>\n",
              "    </tr>\n",
              "    <tr>\n",
              "      <th>1</th>\n",
              "      <td>21</td>\n",
              "      <td>9600</td>\n",
              "      <td>OWN</td>\n",
              "      <td>5.0</td>\n",
              "      <td>EDUCATION</td>\n",
              "      <td>B</td>\n",
              "      <td>1000</td>\n",
              "      <td>11.14</td>\n",
              "      <td>0</td>\n",
              "      <td>0.10</td>\n",
              "      <td>N</td>\n",
              "      <td>2</td>\n",
              "    </tr>\n",
              "    <tr>\n",
              "      <th>2</th>\n",
              "      <td>25</td>\n",
              "      <td>9600</td>\n",
              "      <td>MORTGAGE</td>\n",
              "      <td>1.0</td>\n",
              "      <td>MEDICAL</td>\n",
              "      <td>C</td>\n",
              "      <td>5500</td>\n",
              "      <td>12.87</td>\n",
              "      <td>1</td>\n",
              "      <td>0.57</td>\n",
              "      <td>N</td>\n",
              "      <td>3</td>\n",
              "    </tr>\n",
              "    <tr>\n",
              "      <th>3</th>\n",
              "      <td>23</td>\n",
              "      <td>65500</td>\n",
              "      <td>RENT</td>\n",
              "      <td>4.0</td>\n",
              "      <td>MEDICAL</td>\n",
              "      <td>C</td>\n",
              "      <td>35000</td>\n",
              "      <td>15.23</td>\n",
              "      <td>1</td>\n",
              "      <td>0.53</td>\n",
              "      <td>N</td>\n",
              "      <td>2</td>\n",
              "    </tr>\n",
              "    <tr>\n",
              "      <th>4</th>\n",
              "      <td>24</td>\n",
              "      <td>54400</td>\n",
              "      <td>RENT</td>\n",
              "      <td>8.0</td>\n",
              "      <td>MEDICAL</td>\n",
              "      <td>C</td>\n",
              "      <td>35000</td>\n",
              "      <td>14.27</td>\n",
              "      <td>1</td>\n",
              "      <td>0.55</td>\n",
              "      <td>Y</td>\n",
              "      <td>4</td>\n",
              "    </tr>\n",
              "  </tbody>\n",
              "</table>\n",
              "</div>"
            ],
            "text/plain": [
              "   person_age  ...  cb_person_cred_hist_length\n",
              "0          22  ...                           3\n",
              "1          21  ...                           2\n",
              "2          25  ...                           3\n",
              "3          23  ...                           2\n",
              "4          24  ...                           4\n",
              "\n",
              "[5 rows x 12 columns]"
            ]
          },
          "metadata": {
            "tags": []
          },
          "execution_count": 3
        }
      ]
    },
    {
      "cell_type": "code",
      "metadata": {
        "colab": {
          "base_uri": "https://localhost:8080/"
        },
        "id": "E70IcUjn_nva",
        "outputId": "838b9faa-c180-4acc-864b-2b50f8c7eef2"
      },
      "source": [
        "# Check the structure\n",
        "print(cr_loan.dtypes)\n",
        "\n",
        "# Check the first five rows\n",
        "print(cr_loan.head())"
      ],
      "execution_count": 4,
      "outputs": [
        {
          "output_type": "stream",
          "text": [
            "person_age                      int64\n",
            "person_income                   int64\n",
            "person_home_ownership          object\n",
            "person_emp_length             float64\n",
            "loan_intent                    object\n",
            "loan_grade                     object\n",
            "loan_amnt                       int64\n",
            "loan_int_rate                 float64\n",
            "loan_status                     int64\n",
            "loan_percent_income           float64\n",
            "cb_person_default_on_file      object\n",
            "cb_person_cred_hist_length      int64\n",
            "dtype: object\n",
            "   person_age  ...  cb_person_cred_hist_length\n",
            "0          22  ...                           3\n",
            "1          21  ...                           2\n",
            "2          25  ...                           3\n",
            "3          23  ...                           2\n",
            "4          24  ...                           4\n",
            "\n",
            "[5 rows x 12 columns]\n"
          ],
          "name": "stdout"
        }
      ]
    },
    {
      "cell_type": "code",
      "metadata": {
        "colab": {
          "base_uri": "https://localhost:8080/"
        },
        "id": "X61jTjatAWY8",
        "outputId": "5887db04-2d9d-4ee9-ba21-c49d9f1f6695"
      },
      "source": [
        "cr_loan.info()"
      ],
      "execution_count": 5,
      "outputs": [
        {
          "output_type": "stream",
          "text": [
            "<class 'pandas.core.frame.DataFrame'>\n",
            "RangeIndex: 32581 entries, 0 to 32580\n",
            "Data columns (total 12 columns):\n",
            " #   Column                      Non-Null Count  Dtype  \n",
            "---  ------                      --------------  -----  \n",
            " 0   person_age                  32581 non-null  int64  \n",
            " 1   person_income               32581 non-null  int64  \n",
            " 2   person_home_ownership       32581 non-null  object \n",
            " 3   person_emp_length           31686 non-null  float64\n",
            " 4   loan_intent                 32581 non-null  object \n",
            " 5   loan_grade                  32581 non-null  object \n",
            " 6   loan_amnt                   32581 non-null  int64  \n",
            " 7   loan_int_rate               29465 non-null  float64\n",
            " 8   loan_status                 32581 non-null  int64  \n",
            " 9   loan_percent_income         32581 non-null  float64\n",
            " 10  cb_person_default_on_file   32581 non-null  object \n",
            " 11  cb_person_cred_hist_length  32581 non-null  int64  \n",
            "dtypes: float64(3), int64(5), object(4)\n",
            "memory usage: 3.0+ MB\n"
          ],
          "name": "stdout"
        }
      ]
    },
    {
      "cell_type": "code",
      "metadata": {
        "colab": {
          "base_uri": "https://localhost:8080/",
          "height": 278
        },
        "id": "-EhPc6Ng_1Mz",
        "outputId": "85460a93-35ce-465d-ddee-37ce30aaa38f"
      },
      "source": [
        "import matplotlib.pyplot as plt\n",
        "# Look at the distribution of loan amounts with a histogram\n",
        "n, bins, patches = plt.hist(x=cr_loan['loan_amnt'], bins='auto', color='blue',alpha=0.7, rwidth=0.85)\n",
        "plt.xlabel(\"Loan Amount\")\n",
        "plt.show()"
      ],
      "execution_count": 6,
      "outputs": [
        {
          "output_type": "display_data",
          "data": {
            "image/png": "[encoded data removed]",
            "text/plain": [
              "<Figure size 432x288 with 1 Axes>"
            ]
          },
          "metadata": {
            "tags": [],
            "needs_background": "light"
          }
        }
      ]
    },
    {
      "cell_type": "code",
      "metadata": {
        "colab": {
          "base_uri": "https://localhost:8080/",
          "height": 296
        },
        "id": "-lMpHQzqASyK",
        "outputId": "5e01d2de-10f0-4776-8248-0d92f65b81a7"
      },
      "source": [
        "print(\"There are 32 000 rows of data so the scatter plot may take a little while to plot.\")\n",
        "\n",
        "# Plot a scatter plot of income against age\n",
        "plt.scatter(cr_loan['person_income'], cr_loan['person_age'],c='blue', alpha=0.5)\n",
        "plt.xlabel('Personal Income')\n",
        "plt.ylabel('Person Age')\n",
        "plt.show()"
      ],
      "execution_count": 7,
      "outputs": [
        {
          "output_type": "stream",
          "text": [
            "There are 32 000 rows of data so the scatter plot may take a little while to plot.\n"
          ],
          "name": "stdout"
        },
        {
          "output_type": "display_data",
          "data": {
            "image/png": "[encoded data removed]",
            "text/plain": [
              "<Figure size 432x288 with 1 Axes>"
            ]
          },
          "metadata": {
            "tags": [],
            "needs_background": "light"
          }
        }
      ]
    },
    {
      "cell_type": "markdown",
      "metadata": {
        "id": "FKfdIyAUAstX"
      },
      "source": [
        "We can already see a positive correlation with age and income, which could mean these older recipients are further along in their career and therefore earn higher salaries. There also appears to be an outlier in the data."
      ]
    },
    {
      "cell_type": "code",
      "metadata": {
        "colab": {
          "base_uri": "https://localhost:8080/"
        },
        "id": "xBguLchbA-8J",
        "outputId": "2b1ebe7c-4da0-4ee0-a5d1-cd088af84236"
      },
      "source": [
        "# Create a cross table of the loan intent and loan status\n",
        "print(pd.crosstab(cr_loan['loan_intent'], cr_loan['loan_status'], margins = True))  #crosstab shows loan_intent, grouped by loan_Status.."
      ],
      "execution_count": 8,
      "outputs": [
        {
          "output_type": "stream",
          "text": [
            "loan_status            0     1    All\n",
            "loan_intent                          \n",
            "DEBTCONSOLIDATION   3722  1490   5212\n",
            "EDUCATION           5342  1111   6453\n",
            "HOMEIMPROVEMENT     2664   941   3605\n",
            "MEDICAL             4450  1621   6071\n",
            "PERSONAL            4423  1098   5521\n",
            "VENTURE             4872   847   5719\n",
            "All                25473  7108  32581\n"
          ],
          "name": "stdout"
        }
      ]
    },
    {
      "cell_type": "markdown",
      "metadata": {
        "id": "pHFNOdxuBLea"
      },
      "source": [
        "1 - Default\n",
        "0- No default, so with cross tab you get to see\n",
        "how medical loans are most defaulted and then debt consolidation."
      ]
    },
    {
      "cell_type": "code",
      "metadata": {
        "colab": {
          "base_uri": "https://localhost:8080/"
        },
        "id": "kGkzM_XfBiUj",
        "outputId": "eb4ef682-50f6-40e6-98d3-cee09c23f1da"
      },
      "source": [
        "# Create a cross table of home ownership, loan status, and grade\n",
        "print(pd.crosstab(cr_loan['person_home_ownership'],[cr_loan['loan_status'],cr_loan['loan_grade']]))"
      ],
      "execution_count": 9,
      "outputs": [
        {
          "output_type": "stream",
          "text": [
            "loan_status               0                        ...    1                   \n",
            "loan_grade                A     B     C    D    E  ...    C     D    E   F   G\n",
            "person_home_ownership                              ...                        \n",
            "MORTGAGE               5219  3729  1934  658  178  ...  321   553  161  61  31\n",
            "OTHER                    23    29    11    9    2  ...    6    11    6   2   0\n",
            "OWN                     860   770   464  264   26  ...   31    18   31   8   5\n",
            "RENT                   3602  4222  2710  554  137  ...  981  1559  423  99  27\n",
            "\n",
            "[4 rows x 14 columns]\n"
          ],
          "name": "stdout"
        }
      ]
    },
    {
      "cell_type": "code",
      "metadata": {
        "colab": {
          "base_uri": "https://localhost:8080/"
        },
        "id": "QtjOxEhwBuPC",
        "outputId": "422c2ba2-5157-410f-db8f-9a9d1d983156"
      },
      "source": [
        "# Create a cross table of home ownership, loan status, and average percent income\n",
        "print(pd.crosstab(cr_loan['person_home_ownership'], cr_loan['loan_status'],\n",
        "                  values=cr_loan['loan_percent_income'], aggfunc='mean'))"
      ],
      "execution_count": 10,
      "outputs": [
        {
          "output_type": "stream",
          "text": [
            "loan_status                   0         1\n",
            "person_home_ownership                    \n",
            "MORTGAGE               0.146504  0.184882\n",
            "OTHER                  0.143784  0.300000\n",
            "OWN                    0.180013  0.297358\n",
            "RENT                   0.144611  0.264859\n"
          ],
          "name": "stdout"
        }
      ]
    },
    {
      "cell_type": "markdown",
      "metadata": {
        "id": "LLFDxQ1tC3Nq"
      },
      "source": [
        "For how to use crosstab, read this link. Very imp.\n",
        "\n",
        "https://pbpython.com/pandas-crosstab.html"
      ]
    },
    {
      "cell_type": "code",
      "metadata": {
        "colab": {
          "base_uri": "https://localhost:8080/",
          "height": 350
        },
        "id": "3nDAESclDAcM",
        "outputId": "1cf5b73a-821f-4c33-bb5b-c5e2a9b254ff"
      },
      "source": [
        "# Create a box plot of percentage income by loan status\n",
        "cr_loan.boxplot(column = ['loan_percent_income'], by = 'loan_status')\n",
        "plt.title('Average Percent Income by Loan Status')\n",
        "plt.suptitle('')\n",
        "plt.show()"
      ],
      "execution_count": 11,
      "outputs": [
        {
          "output_type": "stream",
          "text": [
            "/usr/local/lib/python3.7/dist-packages/numpy/core/_asarray.py:83: VisibleDeprecationWarning: Creating an ndarray from ragged nested sequences (which is a list-or-tuple of lists-or-tuples-or ndarrays with different lengths or shapes) is deprecated. If you meant to do this, you must specify 'dtype=object' when creating the ndarray\n",
            "  return array(a, dtype, copy=False, order=order)\n"
          ],
          "name": "stderr"
        },
        {
          "output_type": "display_data",
          "data": {
            "image/png": "[encoded data removed]",
            "text/plain": [
              "<Figure size 432x288 with 1 Axes>"
            ]
          },
          "metadata": {
            "tags": [],
            "needs_background": "light"
          }
        }
      ]
    },
    {
      "cell_type": "markdown",
      "metadata": {
        "id": "txAVhAObDIn9"
      },
      "source": [
        "It looks like the average percentage of income for defaults is higher. This could indicate those recipients have a debt-to-income ratio that's already too high."
      ]
    },
    {
      "cell_type": "markdown",
      "metadata": {
        "id": "ZAIjRgy6FF1s"
      },
      "source": [
        "Finding outliers with cross tables"
      ]
    },
    {
      "cell_type": "code",
      "metadata": {
        "colab": {
          "base_uri": "https://localhost:8080/"
        },
        "id": "NqNbp-K3DIZj",
        "outputId": "8e49e5f4-2de3-407d-d118-f5067bb4851d"
      },
      "source": [
        "# Create the cross table for loan status, home ownership, and the max employment length\n",
        "print(pd.crosstab(cr_loan['loan_status'],cr_loan['person_home_ownership'],\n",
        "                  values=cr_loan['person_emp_length'], aggfunc='max'))"
      ],
      "execution_count": 12,
      "outputs": [
        {
          "output_type": "stream",
          "text": [
            "person_home_ownership  MORTGAGE  OTHER   OWN   RENT\n",
            "loan_status                                        \n",
            "0                         123.0   24.0  31.0   41.0\n",
            "1                          34.0   11.0  17.0  123.0\n"
          ],
          "name": "stdout"
        }
      ]
    },
    {
      "cell_type": "markdown",
      "metadata": {
        "id": "wJ7ubcEIFfPT"
      },
      "source": [
        "^ see how aggfunc used here is max, to show the max value. It gives an idea if there's any outlier value or not"
      ]
    },
    {
      "cell_type": "code",
      "metadata": {
        "id": "D5dbDqL1FuYb"
      },
      "source": [
        "# Create an array of indices where employment length is greater than 60\n",
        "indices = cr_loan[cr_loan['person_emp_length'] > 60].index"
      ],
      "execution_count": 13,
      "outputs": []
    },
    {
      "cell_type": "code",
      "metadata": {
        "id": "ZOr8PBeHFx1a"
      },
      "source": [
        "# Drop the records from the data based on the indices and create a new dataframe\n",
        "cr_loan_new = cr_loan.drop(indices)"
      ],
      "execution_count": 14,
      "outputs": []
    },
    {
      "cell_type": "code",
      "metadata": {
        "colab": {
          "base_uri": "https://localhost:8080/"
        },
        "id": "GScguyzwF7fz",
        "outputId": "c9dc9027-bd02-4d2c-c461-1c37b2e43631"
      },
      "source": [
        "#All together\n",
        "\n",
        "# Create the cross table for loan status, home ownership, and the max employment length\n",
        "print(pd.crosstab(cr_loan['loan_status'],cr_loan['person_home_ownership'],\n",
        "                  values=cr_loan['person_emp_length'], aggfunc='max'))\n",
        "\n",
        "# Create an array of indices where employment length is greater than 60\n",
        "indices = cr_loan[cr_loan['person_emp_length'] > 60].index\n",
        "\n",
        "# Drop the records from the data based on the indices and create a new dataframe\n",
        "cr_loan_new = cr_loan.drop(indices)\n",
        "\n",
        "# Create the cross table from earlier and include minimum employment length\n",
        "try:\n",
        "  print(pd.crosstab(cr_loan_new['loan_status'],cr_loan_new['person_home_ownership'],\n",
        "            values=cr_loan_new['person_emp_length'], aggfunc=['min','max']))\n",
        "except KeyError:\n",
        "  pass"
      ],
      "execution_count": 15,
      "outputs": [
        {
          "output_type": "stream",
          "text": [
            "person_home_ownership  MORTGAGE  OTHER   OWN   RENT\n",
            "loan_status                                        \n",
            "0                         123.0   24.0  31.0   41.0\n",
            "1                          34.0   11.0  17.0  123.0\n"
          ],
          "name": "stdout"
        }
      ]
    },
    {
      "cell_type": "markdown",
      "metadata": {
        "id": "tWny9on0Hy7r"
      },
      "source": [
        "^ was getting an issue here, so used the keyerror thing, try except loop. Find info here - https://github.com/pandas-dev/pandas/issues/10291"
      ]
    },
    {
      "cell_type": "code",
      "metadata": {
        "colab": {
          "base_uri": "https://localhost:8080/",
          "height": 278
        },
        "id": "EgaQatBPH2GN",
        "outputId": "ec706cb8-1953-447e-a6ba-bb278ff01f42"
      },
      "source": [
        "# Create the scatter plot for age and amount\n",
        "plt.scatter(cr_loan['person_age'], cr_loan['loan_amnt'], c='blue', alpha=0.5)\n",
        "plt.xlabel(\"Person Age\")\n",
        "plt.ylabel(\"Loan Amount\")\n",
        "plt.show()"
      ],
      "execution_count": 16,
      "outputs": [
        {
          "output_type": "display_data",
          "data": {
            "image/png": "[encoded data removed]",
            "text/plain": [
              "<Figure size 432x288 with 1 Axes>"
            ]
          },
          "metadata": {
            "tags": [],
            "needs_background": "light"
          }
        }
      ]
    },
    {
      "cell_type": "code",
      "metadata": {
        "colab": {
          "base_uri": "https://localhost:8080/",
          "height": 278
        },
        "id": "6_aaUW__IKwD",
        "outputId": "adfff7c5-1037-4a3c-9722-e9872dc13039"
      },
      "source": [
        "import matplotlib\n",
        "# Use Pandas to drop the record from the data frame and create a new one\n",
        "cr_loan_new = cr_loan.drop(cr_loan[cr_loan['person_age'] > 100].index)\n",
        "\n",
        "# Create a scatter plot of age and interest rate\n",
        "colors = [\"blue\",\"red\"]\n",
        "plt.scatter(cr_loan_new['person_age'], cr_loan_new['loan_int_rate'],\n",
        "            c = cr_loan_new['loan_status'],  \n",
        "            cmap = matplotlib.colors.ListedColormap(colors),\n",
        "            alpha=0.5)\n",
        "\n",
        "plt.xlabel(\"Person Age\")\n",
        "plt.ylabel(\"Loan Interest Rate\")\n",
        "plt.show()"
      ],
      "execution_count": 17,
      "outputs": [
        {
          "output_type": "display_data",
          "data": {
            "image/png": "[encoded data removed]",
            "text/plain": [
              "<Figure size 432x288 with 1 Axes>"
            ]
          },
          "metadata": {
            "tags": [],
            "needs_background": "light"
          }
        }
      ]
    },
    {
      "cell_type": "markdown",
      "metadata": {
        "id": "tDvOGrHjK_Zb"
      },
      "source": [
        "Replacing missing credit data"
      ]
    },
    {
      "cell_type": "code",
      "metadata": {
        "colab": {
          "base_uri": "https://localhost:8080/",
          "height": 438
        },
        "id": "eBpBvuZ1MZVK",
        "outputId": "6b80ff06-897b-4846-c543-e42daf5cc3be"
      },
      "source": [
        "# Print a null value column array\n",
        "print(cr_loan.columns[cr_loan.isnull().any()])\n",
        "\n",
        "# Print the top five rows with nulls for employment length\n",
        "print(cr_loan[cr_loan['person_emp_length'].isnull()].head())\n",
        "\n",
        "# Impute the null values with the median value for all employment lengths\n",
        "cr_loan['person_emp_length'].fillna((cr_loan['person_emp_length'].median()), inplace=True)\n",
        "\n",
        "# Create a histogram of employment length\n",
        "n, bins, patches = plt.hist(cr_loan['person_emp_length'], bins='auto', color='blue')\n",
        "plt.xlabel(\"Person Employment Length\")\n",
        "plt.show()"
      ],
      "execution_count": 18,
      "outputs": [
        {
          "output_type": "stream",
          "text": [
            "Index(['person_emp_length', 'loan_int_rate'], dtype='object')\n",
            "     person_age  ...  cb_person_cred_hist_length\n",
            "105          22  ...                           4\n",
            "222          24  ...                           2\n",
            "379          24  ...                           3\n",
            "407          25  ...                           2\n",
            "408          22  ...                           3\n",
            "\n",
            "[5 rows x 12 columns]\n"
          ],
          "name": "stdout"
        },
        {
          "output_type": "display_data",
          "data": {
            "image/png": "[encoded data removed]",
            "text/plain": [
              "<Figure size 432x288 with 1 Axes>"
            ]
          },
          "metadata": {
            "tags": [],
            "needs_background": "light"
          }
        }
      ]
    },
    {
      "cell_type": "markdown",
      "metadata": {
        "id": "qd-g17GwMweo"
      },
      "source": [
        "Above we saw , person_emp_length and loan_int_rate had missing values, we filled in person_emp_length but we should not assume and rather drop missing ones in int rate."
      ]
    },
    {
      "cell_type": "code",
      "metadata": {
        "colab": {
          "base_uri": "https://localhost:8080/"
        },
        "id": "3AbTE6yFNEHp",
        "outputId": "2f55c00b-7b5a-460e-d582-770622a740e9"
      },
      "source": [
        "# Print the number of nulls\n",
        "print(cr_loan['loan_int_rate'].isnull().sum())\n",
        "\n",
        "# Store the array on indices\n",
        "indices = cr_loan[cr_loan['loan_int_rate'].isnull()].index\n",
        "\n",
        "# Save the new data without missing data\n",
        "cr_loan_clean = cr_loan.drop(indices)"
      ],
      "execution_count": 19,
      "outputs": [
        {
          "output_type": "stream",
          "text": [
            "3116\n"
          ],
          "name": "stdout"
        }
      ]
    },
    {
      "cell_type": "code",
      "metadata": {
        "colab": {
          "base_uri": "https://localhost:8080/"
        },
        "id": "rXgpOzucNHDx",
        "outputId": "74470dba-5a71-44d1-b89c-88186cc6b2db"
      },
      "source": [
        "#recheck\n",
        "print(cr_loan_clean.isnull().any().sum())\n",
        "\n",
        "print(cr_loan_clean.columns.isnull().sum())"
      ],
      "execution_count": 20,
      "outputs": [
        {
          "output_type": "stream",
          "text": [
            "0\n",
            "0\n"
          ],
          "name": "stdout"
        }
      ]
    },
    {
      "cell_type": "code",
      "metadata": {
        "colab": {
          "base_uri": "https://localhost:8080/"
        },
        "id": "sWQp-djaOJsy",
        "outputId": "ad28e27b-f72c-46fa-ca19-f635096c14fc"
      },
      "source": [
        "# Count the number of records for each unique value\n",
        "cr_loan_clean['person_home_ownership'].value_counts()"
      ],
      "execution_count": 21,
      "outputs": [
        {
          "output_type": "execute_result",
          "data": {
            "text/plain": [
              "RENT        14893\n",
              "MORTGAGE    12122\n",
              "OWN          2356\n",
              "OTHER          94\n",
              "Name: person_home_ownership, dtype: int64"
            ]
          },
          "metadata": {
            "tags": []
          },
          "execution_count": 21
        }
      ]
    },
    {
      "cell_type": "markdown",
      "metadata": {
        "id": "6ABhRQYMOP6a"
      },
      "source": [
        "#Logistic regression for probability of default"
      ]
    },
    {
      "cell_type": "markdown",
      "metadata": {
        "id": "0E_LnpNAQORr"
      },
      "source": [
        "Let us work with this new and all combined data now, ie. cr_loan_clean"
      ]
    },
    {
      "cell_type": "markdown",
      "metadata": {
        "id": "2vaaoW8VRh1O"
      },
      "source": [
        "Earlier in scatter plot we saw more red points, meaning more defaults happen at high interest rates, so let us build logistic regression just with that one factor for now."
      ]
    },
    {
      "cell_type": "code",
      "metadata": {
        "colab": {
          "base_uri": "https://localhost:8080/"
        },
        "id": "-JH9dw3pR1qK",
        "outputId": "ad8bd039-394d-4a56-f34e-c23c3204945e"
      },
      "source": [
        "from sklearn.linear_model import LogisticRegression\n",
        "import numpy as np\n",
        "\n",
        "# Create the X and y data sets\n",
        "X = cr_loan_clean[['loan_int_rate']]                       #feature\n",
        "y = cr_loan_clean[['loan_status']]                          #label to predict\n",
        "\n",
        "\n",
        "\n",
        "# Create and fit a logistic regression model\n",
        "clf_logistic_single = LogisticRegression(solver='lbfgs')         #created an instance of model, solver is same as we have in excel, lbfgs is default\n",
        "clf_logistic_single.fit(X, np.ravel(y))                               #fit on x, and y. we used np.ravel to have y as a one dimensional array, and not have it as a df.\n",
        "\n",
        "# Print the parameters of the model\n",
        "print(clf_logistic_single.get_params())\n",
        "\n",
        "# Print the intercept of the model\n",
        "print(clf_logistic_single.intercept_)"
      ],
      "execution_count": 22,
      "outputs": [
        {
          "output_type": "stream",
          "text": [
            "{'C': 1.0, 'class_weight': None, 'dual': False, 'fit_intercept': True, 'intercept_scaling': 1, 'l1_ratio': None, 'max_iter': 100, 'multi_class': 'auto', 'n_jobs': None, 'penalty': 'l2', 'random_state': None, 'solver': 'lbfgs', 'tol': 0.0001, 'verbose': 0, 'warm_start': False}\n",
            "[-4.4586918]\n"
          ],
          "name": "stdout"
        }
      ]
    },
    {
      "cell_type": "code",
      "metadata": {
        "colab": {
          "base_uri": "https://localhost:8080/"
        },
        "id": "92xexOD7ZF4x",
        "outputId": "beb2e53a-24b7-47ea-f74c-370773b26627"
      },
      "source": [
        "# Create X data for the model\n",
        "X_multi = cr_loan_clean[['loan_int_rate','person_emp_length']]\n",
        "\n",
        "# Create a set of y data for training\n",
        "y = cr_loan_clean[['loan_status']]\n",
        "\n",
        "# Create and train a new logistic regression\n",
        "clf_logistic_multi = LogisticRegression(solver='lbfgs').fit(X_multi, np.ravel(y))   #But I still prefer using the other approach better\n",
        "\n",
        "# Print the intercept of the model\n",
        "print(clf_logistic_multi.intercept_)"
      ],
      "execution_count": 23,
      "outputs": [
        {
          "output_type": "stream",
          "text": [
            "[-4.2253171]\n"
          ],
          "name": "stdout"
        }
      ]
    },
    {
      "cell_type": "markdown",
      "metadata": {
        "id": "2bg1ibmsaYaC"
      },
      "source": [
        "#So just using X, Y we get an intercept. Doesn't share much.\n",
        "But running it on train, test split for x and y will tell us more, and do prediction and forecasting."
      ]
    },
    {
      "cell_type": "markdown",
      "metadata": {
        "id": "fHJ3RqF2Z-yh"
      },
      "source": [
        "The new clf_logistic_multi model has an .intercept_ value closer to zero. This means the log odds of a non-default is approaching zero."
      ]
    },
    {
      "cell_type": "markdown",
      "metadata": {
        "id": "MsVnerpBaO7J"
      },
      "source": [
        "We know that the data should be separated into training and test sets. test_train_split() is used to create both at the same time. The training set is used to make predictions, while the test set is used for evaluation. Without evaluating the model, you have no way to tell how well it will perform on new loan data.\n",
        "\n",
        "In addition to the intercept_, which is an attribute of the model, LogisticRegression() models also have the .coef_ attribute. This shows how important each training column is for predicting the probability of default."
      ]
    },
    {
      "cell_type": "code",
      "metadata": {
        "colab": {
          "base_uri": "https://localhost:8080/"
        },
        "id": "9a6dzVW9bxb6",
        "outputId": "8f0430d9-05e6-4127-e8ae-d341636be67d"
      },
      "source": [
        "from sklearn.model_selection import train_test_split\n",
        "\n",
        "# Create the X and y data sets\n",
        "X = cr_loan_clean[['loan_int_rate','person_emp_length','person_income']]\n",
        "y = cr_loan_clean[['loan_status']]\n",
        "\n",
        "# Use test_train_split to create the training and test sets\n",
        "X_train, X_test, y_train, y_test = train_test_split(X, y, test_size=.4, random_state=123)\n",
        "\n",
        "# Create and fit the logistic regression model\n",
        "clf_logistic = LogisticRegression(solver='lbfgs').fit(X_train, np.ravel(y_train))\n",
        "\n",
        "# Print the models coefficients\n",
        "print(clf_logistic.coef_)"
      ],
      "execution_count": 24,
      "outputs": [
        {
          "output_type": "stream",
          "text": [
            "[[ 8.34020099e-02 -6.02470833e-02 -3.28983416e-05]]\n"
          ],
          "name": "stdout"
        }
      ]
    },
    {
      "cell_type": "markdown",
      "metadata": {
        "id": "vuFTDL1acGBh"
      },
      "source": [
        "The more positive the coefficient value, the more it predicts defaults.\n",
        "Hence loan interest rate predicts default in the highest way possible of all 3 data features we chose\n",
        "\n",
        "for one percent point increase in loan_int_rate , the probability of default increases by 8.3% points"
      ]
    },
    {
      "cell_type": "markdown",
      "metadata": {
        "id": "83i2f_k6ffCb"
      },
      "source": [
        "#One-hot encoding credit data"
      ]
    },
    {
      "cell_type": "code",
      "metadata": {
        "colab": {
          "base_uri": "https://localhost:8080/"
        },
        "id": "KGOILboKfloD",
        "outputId": "a7de746f-f4c1-4ba3-8fd1-15b19fe8a140"
      },
      "source": [
        "# Create two data sets for numeric and non-numeric data\n",
        "cred_num = cr_loan_clean.select_dtypes(exclude=['object'])\n",
        "cred_str = cr_loan_clean.select_dtypes(include=['object'])\n",
        "\n",
        "# One-hot encode the non-numeric columns\n",
        "cred_str_onehot = pd.get_dummies(cred_str)   #Use get dummies to one hot encode\n",
        "\n",
        "# Union the one-hot encoded columns to the numeric ones\n",
        "cr_loan_prep = pd.concat([cred_num, cred_str_onehot], axis=1)     #so column wise operation, i.e concatenation\n",
        "\n",
        "\n",
        "# Print the columns in the new data set\n",
        "print(cr_loan_prep.columns)"
      ],
      "execution_count": 25,
      "outputs": [
        {
          "output_type": "stream",
          "text": [
            "Index(['person_age', 'person_income', 'person_emp_length', 'loan_amnt',\n",
            "       'loan_int_rate', 'loan_status', 'loan_percent_income',\n",
            "       'cb_person_cred_hist_length', 'person_home_ownership_MORTGAGE',\n",
            "       'person_home_ownership_OTHER', 'person_home_ownership_OWN',\n",
            "       'person_home_ownership_RENT', 'loan_intent_DEBTCONSOLIDATION',\n",
            "       'loan_intent_EDUCATION', 'loan_intent_HOMEIMPROVEMENT',\n",
            "       'loan_intent_MEDICAL', 'loan_intent_PERSONAL', 'loan_intent_VENTURE',\n",
            "       'loan_grade_A', 'loan_grade_B', 'loan_grade_C', 'loan_grade_D',\n",
            "       'loan_grade_E', 'loan_grade_F', 'loan_grade_G',\n",
            "       'cb_person_default_on_file_N', 'cb_person_default_on_file_Y'],\n",
            "      dtype='object')\n"
          ],
          "name": "stdout"
        }
      ]
    },
    {
      "cell_type": "markdown",
      "metadata": {
        "id": "n5pQ_I9zgT4-"
      },
      "source": [
        "What makes more sense to me is to say it this way:\n",
        "\n",
        "Axis 0 will act on all the ROWS in each COLUMN\n",
        "\n",
        "Axis 1 will act on all the COLUMNS in each ROW\n",
        "\n",
        "So a mean on axis 0 will be the mean of all the rows in each column, and a mean on axis 1 will be a mean of all the columns in each row."
      ]
    },
    {
      "cell_type": "code",
      "metadata": {
        "colab": {
          "base_uri": "https://localhost:8080/"
        },
        "id": "h6EPZBUjgh2j",
        "outputId": "1abd1e7a-ed6b-4dce-9bbe-bbfff676a1c2"
      },
      "source": [
        "print(cred_num.head())\n",
        "print(cred_str.head())\n",
        "print(cr_loan_prep.head())"
      ],
      "execution_count": 26,
      "outputs": [
        {
          "output_type": "stream",
          "text": [
            "   person_age  person_income  ...  loan_percent_income  cb_person_cred_hist_length\n",
            "0          22          59000  ...                 0.59                           3\n",
            "1          21           9600  ...                 0.10                           2\n",
            "2          25           9600  ...                 0.57                           3\n",
            "3          23          65500  ...                 0.53                           2\n",
            "4          24          54400  ...                 0.55                           4\n",
            "\n",
            "[5 rows x 8 columns]\n",
            "  person_home_ownership loan_intent loan_grade cb_person_default_on_file\n",
            "0                  RENT    PERSONAL          D                         Y\n",
            "1                   OWN   EDUCATION          B                         N\n",
            "2              MORTGAGE     MEDICAL          C                         N\n",
            "3                  RENT     MEDICAL          C                         N\n",
            "4                  RENT     MEDICAL          C                         Y\n",
            "   person_age  ...  cb_person_default_on_file_Y\n",
            "0          22  ...                            1\n",
            "1          21  ...                            0\n",
            "2          25  ...                            0\n",
            "3          23  ...                            0\n",
            "4          24  ...                            1\n",
            "\n",
            "[5 rows x 27 columns]\n"
          ],
          "name": "stdout"
        }
      ]
    },
    {
      "cell_type": "code",
      "metadata": {
        "colab": {
          "base_uri": "https://localhost:8080/"
        },
        "id": "qniqnAQMg5VR",
        "outputId": "2baa1640-ebdf-4de3-a036-591114552556"
      },
      "source": [
        "# Train the logistic regression model on the training data\n",
        "clf_logistic = LogisticRegression(solver='lbfgs').fit(X_train, np.ravel(y_train))\n",
        "\n",
        "# Create predictions of probability for loan status using test data\n",
        "preds = clf_logistic.predict_proba(X_test)        #so to see probabilities of prediction on test data,once model has learned from train data\n",
        "\n",
        "\n",
        "#print(preds.head()) - this code won't work as preds is a numpy array that is returned to us.\n",
        "#so convert to dataframe first.\n",
        "\n",
        "# Create dataframes of first five predictions, and first five true labels\n",
        "preds1 = pd.DataFrame(preds)\n",
        "print(preds1.head()) \n",
        "\n",
        "#so it has prob of both non-default (0) and prob of non-default (1).\n",
        "\n",
        "preds_df = pd.DataFrame(preds[:,1][0:5], columns = ['prob_default'])   #take all rows, and first column and from this selection, take first 5 rows and name this as prob_default column\n",
        "true_df = y_test.head()\n",
        "\n",
        "# Concatenate and print the two data frames for comparison\n",
        "print(pd.concat([true_df.reset_index(drop = True), preds_df], axis = 1))\n",
        "\n",
        "#If you set drop = True , reset_index will delete the index instead of inserting it back into the columns of the DataFrame. \n",
        "#If you set drop = True , the current index will be deleted entirely and the numeric index will replace it."
      ],
      "execution_count": 27,
      "outputs": [
        {
          "output_type": "stream",
          "text": [
            "          0         1\n",
            "0  0.796405  0.203595\n",
            "1  0.862599  0.137401\n",
            "2  0.880378  0.119622\n",
            "3  0.692560  0.307440\n",
            "4  0.494215  0.505785\n",
            "   loan_status  prob_default\n",
            "0            0      0.203595\n",
            "1            0      0.137401\n",
            "2            0      0.119622\n",
            "3            0      0.307440\n",
            "4            0      0.505785\n"
          ],
          "name": "stdout"
        }
      ]
    },
    {
      "cell_type": "markdown",
      "metadata": {
        "id": "nOorOJqx2QWj"
      },
      "source": [
        "Let us run some classification reports to check our model's performance"
      ]
    },
    {
      "cell_type": "code",
      "metadata": {
        "colab": {
          "base_uri": "https://localhost:8080/"
        },
        "id": "UgpbNyF82vEc",
        "outputId": "c4d12260-cf4d-4107-a1ce-070828f20a47"
      },
      "source": [
        "from sklearn.metrics import classification_report\n",
        "\n",
        "# Create a dataframe for the probabilities of default\n",
        "preds_df = pd.DataFrame(preds[:,1], columns = ['prob_default'])\n",
        "\n",
        "\n",
        "#As all probs are in 0 to 1, we need to call them default or not or 0 or 1 to simply measure them up to y_test.\n",
        "\n",
        "# Reassign loan status based on the threshold\n",
        "preds_df['loan_status'] = preds_df['prob_default'].apply(lambda x: 1 if x > 0.50 else 0)\n",
        "\n",
        "# Print the row counts for each loan status\n",
        "print(preds_df['loan_status'].value_counts())\n",
        "\n",
        "# Print the classification report\n",
        "target_names = ['Non-Default', 'Default']\n",
        "print(classification_report(y_test, preds_df['loan_status'], target_names=target_names))     #as values are as 0,1 in inputs of classification, we enter target_names in same order"
      ],
      "execution_count": 28,
      "outputs": [
        {
          "output_type": "stream",
          "text": [
            "0    10861\n",
            "1      925\n",
            "Name: loan_status, dtype: int64\n",
            "              precision    recall  f1-score   support\n",
            "\n",
            " Non-Default       0.81      0.96      0.88      9194\n",
            "     Default       0.62      0.22      0.33      2592\n",
            "\n",
            "    accuracy                           0.80     11786\n",
            "   macro avg       0.72      0.59      0.61     11786\n",
            "weighted avg       0.77      0.80      0.76     11786\n",
            "\n"
          ],
          "name": "stdout"
        }
      ]
    },
    {
      "cell_type": "markdown",
      "metadata": {
        "id": "O6T5lbhF3R0R"
      },
      "source": [
        "The recall for defaults is 0.22 meaning 22% of our true defaults were predicted correctly.\n",
        "\n",
        "Recall is the number of relevant documents retrieved by a search divided by the total number of existing relevant documents, while precision is the number of relevant documents retrieved by a search divided by the total number of documents retrieved by that search.\n",
        "\n",
        "So precision is how precise you were , out of all you predicted how many are precisely correct.\n",
        "Recall is out of whole relevant ones, how many did you manage to predict."
      ]
    },
    {
      "cell_type": "markdown",
      "metadata": {
        "id": "F1trOr7t3-Um"
      },
      "source": [
        "The classification_report() has many different metrics within it, but you may not always want to print out the full report. Sometimes you just want specific values to compare models or use for other purposes.\n",
        "\n",
        "There is a function within scikit-learn that pulls out the values for you. That function is precision_recall_fscore_support() and it takes in the same parameters as classification_report.\n",
        "\n",
        "It is imported and used like this:\n",
        "\n",
        "`Import function\n",
        "from sklearn.metrics import precision_recall_fscore_support\n",
        "`Select all non-averaged values from the report\n",
        "precision_recall_fscore_support(y_true,predicted_values)"
      ]
    },
    {
      "cell_type": "code",
      "metadata": {
        "colab": {
          "base_uri": "https://localhost:8080/"
        },
        "id": "c6vlycbL4Qcr",
        "outputId": "bdfa2cdf-f91f-4c69-f4df-9d98a59905ff"
      },
      "source": [
        "from sklearn.metrics import precision_recall_fscore_support\n",
        "\n",
        "# Print the classification report\n",
        "target_names = ['Non-Default', 'Default']\n",
        "print(classification_report(y_test, preds_df['loan_status'], target_names=target_names))\n",
        "\n",
        "# Print all the non-average values from the report\n",
        "print(precision_recall_fscore_support(y_test,preds_df['loan_status']))\n",
        "\n",
        "# Print the first two numbers from the report\n",
        "print(precision_recall_fscore_support(y_test,preds_df['loan_status'])[0])"
      ],
      "execution_count": 29,
      "outputs": [
        {
          "output_type": "stream",
          "text": [
            "              precision    recall  f1-score   support\n",
            "\n",
            " Non-Default       0.81      0.96      0.88      9194\n",
            "     Default       0.62      0.22      0.33      2592\n",
            "\n",
            "    accuracy                           0.80     11786\n",
            "   macro avg       0.72      0.59      0.61     11786\n",
            "weighted avg       0.77      0.80      0.76     11786\n",
            "\n",
            "(array([0.81447381, 0.62378378]), array([0.96214923, 0.22260802]), array([0.88217402, 0.32812056]), array([9194, 2592]))\n",
            "[0.81447381 0.62378378]\n"
          ],
          "name": "stdout"
        }
      ]
    },
    {
      "cell_type": "code",
      "metadata": {
        "colab": {
          "base_uri": "https://localhost:8080/",
          "height": 300
        },
        "id": "PENVMXXl7rVU",
        "outputId": "ee9b8741-f529-4f29-c5f8-02936c23dbbe"
      },
      "source": [
        "from sklearn.metrics import roc_curve, roc_auc_score\n",
        "\n",
        "# Create predictions and store them in a variable\n",
        "preds = clf_logistic.predict_proba(X_test)\n",
        "\n",
        "# Print the accuracy score the model\n",
        "print(clf_logistic.score(X_test, y_test))\n",
        "\n",
        "# Plot the ROC curve of the probabilities of default\n",
        "prob_default = preds[:, 1]\n",
        "fallout, sensitivity, thresholds = roc_curve(y_test, prob_default)            #fallout, sensitivity is just a way of saying precision and recall\n",
        "plt.plot(fallout, sensitivity, color = 'darkorange')\n",
        "plt.plot([0, 1], [0, 1], linestyle='--')\n",
        "plt.show()\n",
        "\n",
        "# Compute the AUC and store it in a variable\n",
        "auc = roc_auc_score(y_test, prob_default) \n",
        "\n",
        "print(auc)\n",
        "\n",
        "\n",
        "#what the ROC chart shows us is the tradeoff between all values of our false positive rate (fallout) and true positive rate (sensitivity).#                                      #roc is plotted bw labels, i.e y_test and prob_default or probabilities predicted"
      ],
      "execution_count": 30,
      "outputs": [
        {
          "output_type": "stream",
          "text": [
            "0.7995078907178008\n"
          ],
          "name": "stdout"
        },
        {
          "output_type": "display_data",
          "data": {
            "image/png": "[encoded data removed]",
            "text/plain": [
              "<Figure size 432x288 with 1 Axes>"
            ]
          },
          "metadata": {
            "tags": [],
            "needs_background": "light"
          }
        },
        {
          "output_type": "stream",
          "text": [
            "0.7437090992313827\n"
          ],
          "name": "stdout"
        }
      ]
    },
    {
      "cell_type": "code",
      "metadata": {
        "colab": {
          "base_uri": "https://localhost:8080/"
        },
        "id": "G1x9cr4S9OjU",
        "outputId": "26b80255-b47c-44d6-a2f2-5463b618a3c1"
      },
      "source": [
        "from sklearn.metrics import confusion_matrix\n",
        "# Set the threshold for defaults to 0.5\n",
        "preds_df['loan_status'] = preds_df['prob_default'].apply(lambda x: 1 if x > 0.5 else 0)\n",
        "\n",
        "# Print the confusion matrix\n",
        "print(confusion_matrix(y_test,preds_df['loan_status']))\n",
        "\n",
        "# Set the threshold for defaults to 0.4\n",
        "preds_df['loan_status'] = preds_df['prob_default'].apply(lambda x: 1 if x > 0.4 else 0)\n",
        "\n",
        "# Print the confusion matrix\n",
        "print(confusion_matrix(y_test,preds_df['loan_status']))"
      ],
      "execution_count": 31,
      "outputs": [
        {
          "output_type": "stream",
          "text": [
            "[[8846  348]\n",
            " [2015  577]]\n",
            "[[8074 1120]\n",
            " [1477 1115]]\n"
          ],
          "name": "stdout"
        }
      ]
    },
    {
      "cell_type": "markdown",
      "metadata": {
        "id": "T5zDgypq94BA"
      },
      "source": [
        "format of confusion matrix looks like , \n",
        "![image.png](data:image/png;base64,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)"
      ]
    },
    {
      "cell_type": "markdown",
      "metadata": {
        "id": "IRfxSSp_-P1V"
      },
      "source": [
        "#which threshold gives us the highest value for default recall?\n",
        "\n",
        "Answer is recall for default is 4th cell, and highest with prob threshold of 0.4"
      ]
    },
    {
      "cell_type": "code",
      "metadata": {
        "colab": {
          "base_uri": "https://localhost:8080/"
        },
        "id": "6S3zljA--kC6",
        "outputId": "7a53bf1b-e836-4aea-a233-0e93dfa0288d"
      },
      "source": [
        "avg_loan_amnt = cr_loan_prep['loan_amnt'].mean()\n",
        "\n",
        "# Reassign the values of loan status based on the new threshold\n",
        "preds_df['loan_status'] = preds_df['prob_default'].apply(lambda x: 1 if x > 0.4 else 0)\n",
        "\n",
        "# Store the number of loan defaults from the prediction data\n",
        "num_defaults = preds_df['loan_status'].value_counts()[1]\n",
        "\n",
        "# Store the default recall from the classification report\n",
        "default_recall = precision_recall_fscore_support(y_test,preds_df['loan_status'])[1][1]\n",
        "\n",
        "# Calculate the estimated impact of the new default recall rate\n",
        "print(num_defaults * avg_loan_amnt * (1 - default_recall))"
      ],
      "execution_count": 32,
      "outputs": [
        {
          "output_type": "stream",
          "text": [
            "12206848.964421853\n"
          ],
          "name": "stdout"
        }
      ]
    },
    {
      "cell_type": "markdown",
      "metadata": {
        "id": "m9x4flDD-odk"
      },
      "source": [
        "^ wow, a brilliant code up above\n",
        "\n",
        "first line - set threshold to 0.4 and change values to 1 for default and 0 for non.\n",
        "\n",
        "second- count values of 0s and 1s, and save 1s in num_defaults, it gives how many cases default happened\n",
        "\n",
        "third- after running this precision_recall_f_support code, choose the 4th element or [1] row, [1] column.\n",
        "\n",
        "Fourth and the most imp-\n",
        "\n",
        "number of default * avg loan amt gives us how much we defaulted = a\n",
        "but a multiplied by (1-default_recall), where (1-default recall) gives us what percentage we didn't correctly see as default, or how many defaults did we miss\n",
        "\n",
        "so a *(1-default_recall) gives amount that can go default, that our model didn't predict."
      ]
    },
    {
      "cell_type": "markdown",
      "metadata": {
        "id": "LooVUpjmByTB"
      },
      "source": [
        "By our estimates, this loss would be around $12 million."
      ]
    },
    {
      "cell_type": "markdown",
      "metadata": {
        "id": "am-apdK5CGFr"
      },
      "source": [
        "~Threshold selection\n",
        "\n",
        "You know there is a trade off between metrics like default recall, non-default recall, and model accuracy. One easy way to approximate a good starting threshold value is to look at a plot of all three using matplotlib. With this graph, you can see how each of these metrics look as you change the threshold values and find the point at which the performance of all three is good enough to use for the credit data."
      ]
    },
    {
      "cell_type": "code",
      "metadata": {
        "colab": {
          "base_uri": "https://localhost:8080/",
          "height": 278
        },
        "id": "9Txz5uXfAYDa",
        "outputId": "0dc48c1e-cd0c-406b-c5c7-3e86828cbe57"
      },
      "source": [
        "thresh = [0.2, 0.225, 0.25, 0.275, 0.3, 0.325, 0.35, 0.375,0.4,0.425,0.45,0.475,0.5,0.525,0.55,0.575,0.6,0.625,0.65]\n",
        "ticks = [0.2, 0.25, 0.3, 0.35, 0.4, 0.45, 0.5, 0.55, 0.6, 0.65]\n",
        "def_recalls = [0.7981438515081206, 0.7583139984532096, 0.7157772621809745, 0.6759474091260634, 0.6349574632637278, 0.594354215003867, 0.5467904098994586, 0.5054137664346481,\n",
        " 0.46403712296983757, 0.39984532095901004, 0.32211910286156226, 0.2354988399071926, 0.16782675947409126, 0.1148491879350348, 0.07733952049497293, 0.05529775715390565,\n",
        " 0.03750966744006187, 0.026295436968290797, 0.017788089713843776]\n",
        "nondef_recalls = [0.5342465753424658, 0.5973037616873234, 0.6552511415525114, 0.708306153511633, 0.756468797564688, 0.8052837573385518, 0.8482278756251359, 0.8864970645792564,\n",
        " 0.9215046749293324, 0.9492280930637095, 0.9646662317895195, 0.9733637747336378, 0.9809741248097412, 0.9857577734290063, 0.9902152641878669, 0.992280930637095, 0.9948901935203305,\n",
        " 0.9966297021091541, 0.997499456403566]\n",
        "\n",
        "accs = [0.5921588594704684, 0.6326374745417516, 0.6685336048879837, 0.7012050237610319, 0.7298031228784793, 0.7589952477936185, 0.7820773930753564, 0.8028682959945689,\n",
        " 0.8211133740665308, 0.8286659877800407, 0.8236591989137814, 0.811439239646979, 0.8025288526816021, 0.7946367956551256, 0.7898845892735913, 0.7866598778004074, 0.7847929395790902,\n",
        " 0.7836897488119484, 0.7825016972165648]\n",
        "\n",
        "\n",
        "\n",
        "plt.plot(thresh,def_recalls)\n",
        "plt.plot(thresh,nondef_recalls)\n",
        "plt.plot(thresh,accs)\n",
        "plt.xlabel(\"Probability Threshold\")\n",
        "plt.xticks(ticks)\n",
        "plt.legend([\"Default Recall\",\"Non-default Recall\",\"Model Accuracy\"])\n",
        "plt.show()"
      ],
      "execution_count": 33,
      "outputs": [
        {
          "output_type": "display_data",
          "data": {
            "image/png": "[encoded data removed]",
            "text/plain": [
              "<Figure size 432x288 with 1 Axes>"
            ]
          },
          "metadata": {
            "tags": [],
            "needs_background": "light"
          }
        }
      ]
    },
    {
      "cell_type": "markdown",
      "metadata": {
        "id": "Oy9ynCBmDtwk"
      },
      "source": [
        "2.75 it's the point where all three lines converge. This threshold would make a great starting point, but declaring all loans about 0.275 to be a default is probably not practical. But it would maximize these scores evenly"
      ]
    },
    {
      "cell_type": "markdown",
      "metadata": {
        "id": "FYVmps7gBwVW"
      },
      "source": [
        "#Gradient boosted trees with XGBoost\n"
      ]
    },
    {
      "cell_type": "code",
      "metadata": {
        "colab": {
          "base_uri": "https://localhost:8080/"
        },
        "id": "4GWy0YjXCKsy",
        "outputId": "33c11113-13c1-438b-c3ad-e7331641b6ca"
      },
      "source": [
        "# Train a model\n",
        "import xgboost as xgb\n",
        "clf_gbt = xgb.XGBClassifier().fit(X_train, np.ravel(y_train))\n",
        "\n",
        "# Predict with a model\n",
        "gbt_preds = clf_gbt.predict_proba(X_test)\n",
        "\n",
        "# Create dataframes of first five predictions, and first five true labels\n",
        "preds_df = pd.DataFrame(gbt_preds[:,1][0:5], columns = ['prob_default'])\n",
        "true_df = y_test.head()\n",
        "\n",
        "print(true_df)\n",
        "\n",
        "#as you see loan status already has an index column with random numbers, they are needed to be replaced by 0,1,2,3.\n",
        "\n",
        "# Concatenate and print the two data frames for comparison\n",
        "print(pd.concat([true_df.reset_index(drop = True), preds_df], axis = 1))"
      ],
      "execution_count": 34,
      "outputs": [
        {
          "output_type": "stream",
          "text": [
            "       loan_status\n",
            "30015            0\n",
            "22648            0\n",
            "9634             0\n",
            "3455             0\n",
            "16426            0\n",
            "   loan_status  prob_default\n",
            "0            0      0.125217\n",
            "1            0      0.138303\n",
            "2            0      0.024192\n",
            "3            0      0.163811\n",
            "4            0      0.402502\n"
          ],
          "name": "stdout"
        }
      ]
    },
    {
      "cell_type": "markdown",
      "metadata": {
        "id": "ccfBzSfcD8Qu"
      },
      "source": [
        "Now, a random portfolio withprob. of default from both the models, loss given default = 20%, and loan amount, i.e. the exposure at default is created,\n",
        "\n",
        "^ This data is not with us, it is in Datacamp's env only. but it looks like this.\n",
        "\n",
        "print(portfolio.head())\n",
        "\n",
        "   gbt_prob_default  lr_prob_default  lgd  loan_amnt\n",
        "0          0.940435         0.445779  0.2      15000\n",
        "1          0.922014         0.223447  0.2      11200\n",
        "2          0.021707         0.288558  0.2      15000\n",
        "3          0.026483         0.169358  0.2      10800\n",
        "4          0.064803         0.114182  0.2       3000"
      ]
    },
    {
      "cell_type": "code",
      "metadata": {
        "colab": {
          "base_uri": "https://localhost:8080/",
          "height": 238
        },
        "id": "u7Ce55FRETBZ",
        "outputId": "dfdb1b07-e1c4-47d3-849c-8e1cce38ad95"
      },
      "source": [
        "# Print the first five rows of the portfolio data frame\n",
        "print(portfolio.head())\n",
        "\n",
        "# Create expected loss columns for each model using the formula\n",
        "\n",
        "#remember, expected loss = PD*EAD*LGD\n",
        "\n",
        "portfolio['gbt_expected_loss'] = portfolio['gbt_prob_default'] * portfolio['lgd'] * portfolio['loan_amnt']\n",
        "portfolio['lr_expected_loss'] = portfolio['lr_prob_default'] * portfolio['lgd'] * portfolio['loan_amnt']\n",
        "\n",
        "# Print the sum of the expected loss for lr\n",
        "print('LR expected loss: ', np.sum(portfolio['lr_expected_loss']))\n",
        "\n",
        "# Print the sum of the expected loss for gbt\n",
        "print('GBT expected loss: ', np.sum(portfolio['gbt_expected_loss']))"
      ],
      "execution_count": 35,
      "outputs": [
        {
          "output_type": "error",
          "ename": "NameError",
          "evalue": "ignored",
          "traceback": [
            "\u001b[0;31m---------------------------------------------------------------------------\u001b[0m",
            "\u001b[0;31mNameError\u001b[0m                                 Traceback (most recent call last)",
            "\u001b[0;32m<ipython-input-35-6c9dd163d085>\u001b[0m in \u001b[0;36m<module>\u001b[0;34m()\u001b[0m\n\u001b[1;32m      1\u001b[0m \u001b[0;31m# Print the first five rows of the portfolio data frame\u001b[0m\u001b[0;34m\u001b[0m\u001b[0;34m\u001b[0m\u001b[0;34m\u001b[0m\u001b[0m\n\u001b[0;32m----> 2\u001b[0;31m \u001b[0mprint\u001b[0m\u001b[0;34m(\u001b[0m\u001b[0mportfolio\u001b[0m\u001b[0;34m.\u001b[0m\u001b[0mhead\u001b[0m\u001b[0;34m(\u001b[0m\u001b[0;34m)\u001b[0m\u001b[0;34m)\u001b[0m\u001b[0;34m\u001b[0m\u001b[0;34m\u001b[0m\u001b[0m\n\u001b[0m\u001b[1;32m      3\u001b[0m \u001b[0;34m\u001b[0m\u001b[0m\n\u001b[1;32m      4\u001b[0m \u001b[0;31m# Create expected loss columns for each model using the formula\u001b[0m\u001b[0;34m\u001b[0m\u001b[0;34m\u001b[0m\u001b[0;34m\u001b[0m\u001b[0m\n\u001b[1;32m      5\u001b[0m \u001b[0;34m\u001b[0m\u001b[0m\n",
            "\u001b[0;31mNameError\u001b[0m: name 'portfolio' is not defined"
          ]
        }
      ]
    },
    {
      "cell_type": "markdown",
      "metadata": {
        "id": "Ki3IeLxzE76n"
      },
      "source": [
        "Output:\n",
        "\n",
        "LR expected loss:  5596776.979852879;\n",
        "\n",
        "GBT expected loss:  5447712.9423716515\n",
        "\n",
        "So, as we want the expected loss to be lower, Gradient boost method shows us what we want to see for now. Not neccesarily accurate."
      ]
    },
    {
      "cell_type": "markdown",
      "metadata": {
        "id": "4gkGuFmFHb-Y"
      },
      "source": [
        "Assessing gradient boosted trees\n",
        "\n",
        "So you've now used XGBClassifier() models to predict probability of default using predict_proba. But these models can also use the .predict() method for creating predictions that give the actual class for loan_status.\n",
        "\n",
        "You should check the model's initial performance by looking at the metrics from the classification_report(). "
      ]
    },
    {
      "cell_type": "code",
      "metadata": {
        "colab": {
          "base_uri": "https://localhost:8080/"
        },
        "id": "_0M5A5UMHvHE",
        "outputId": "8a63a580-bf67-4405-e6d9-697a8cf5bdd2"
      },
      "source": [
        "# Predict the labels for loan status\n",
        "gbt_preds = clf_gbt.predict(X_test)\n",
        "\n",
        "# Check the values created by the predict method\n",
        "print(gbt_preds)\n",
        "\n",
        "# Print the classification report of the model\n",
        "target_names = ['Non-Default', 'Default']\n",
        "print(classification_report(y_test, gbt_preds, target_names=target_names))   # so, classification report(actual, predicted, name them/label as nd-0, d-1)"
      ],
      "execution_count": 36,
      "outputs": [
        {
          "output_type": "stream",
          "text": [
            "[0 0 0 ... 0 0 0]\n",
            "              precision    recall  f1-score   support\n",
            "\n",
            " Non-Default       0.85      0.96      0.90      9194\n",
            "     Default       0.76      0.40      0.52      2592\n",
            "\n",
            "    accuracy                           0.84     11786\n",
            "   macro avg       0.80      0.68      0.71     11786\n",
            "weighted avg       0.83      0.84      0.82     11786\n",
            "\n"
          ],
          "name": "stdout"
        }
      ]
    },
    {
      "cell_type": "markdown",
      "metadata": {
        "id": "m8QOf-e5IGk5"
      },
      "source": [
        "It is showing better results than earlier one.\n",
        "Almost all Non-defaults predicted correctly."
      ]
    },
    {
      "cell_type": "markdown",
      "metadata": {
        "id": "4cjjq1Ak5dJJ"
      },
      "source": [
        "Column importances"
      ]
    },
    {
      "cell_type": "code",
      "metadata": {
        "colab": {
          "base_uri": "https://localhost:8080/",
          "height": 332
        },
        "id": "2FxQDDz25bOa",
        "outputId": "d92369da-7b4a-4705-dc31-77194c3fc495"
      },
      "source": [
        "from sklearn.model_selection import train_test_split\n",
        "\n",
        "# Create the X and y data sets\n",
        "X = cr_loan_prep.drop(columns=['loan_status'])\n",
        "#X = cr_loan_clean.drop(['loan_status'], axis = 1) #Can use wither of two, axis = 1 specifies we want to drop col wise.\n",
        "y = cr_loan_prep[['loan_status']]\n",
        "\n",
        "# Use test_train_split to create the training and test sets\n",
        "X_train, X_test, y_train, y_test = train_test_split(X, y, test_size=.4, random_state=123)\n",
        "\n",
        "\n",
        "# Create and train the model on the training data\n",
        "clf_gbt = xgb.XGBClassifier().fit(X_train,np.ravel(y_train))\n",
        "\n",
        "# Print the column importances from the model\n",
        "print(clf_gbt.get_booster().get_score(importance_type = 'weight'))\n",
        "\n",
        "xgb.plot_importance(clf_gbt, importance_type = 'weight')\n",
        "plt.show()"
      ],
      "execution_count": 40,
      "outputs": [
        {
          "output_type": "stream",
          "text": [
            "{'loan_percent_income': 62, 'loan_int_rate': 110, 'person_income': 123, 'person_emp_length': 23, 'person_home_ownership_RENT': 51, 'loan_grade_C': 9, 'loan_intent_DEBTCONSOLIDATION': 26, 'loan_grade_D': 33, 'loan_intent_MEDICAL': 28, 'person_home_ownership_OWN': 42, 'loan_intent_HOMEIMPROVEMENT': 25, 'loan_intent_VENTURE': 20, 'loan_grade_E': 17, 'loan_intent_EDUCATION': 6, 'cb_person_cred_hist_length': 1, 'person_home_ownership_OTHER': 4, 'loan_grade_G': 14, 'loan_amnt': 9, 'cb_person_default_on_file_N': 1, 'person_home_ownership_MORTGAGE': 2, 'person_age': 4, 'loan_grade_F': 1}\n"
          ],
          "name": "stdout"
        },
        {
          "output_type": "display_data",
          "data": {
            "image/png": "[encoded data removed]",
            "text/plain": [
              "<Figure size 432x288 with 1 Axes>"
            ]
          },
          "metadata": {
            "tags": [],
            "needs_background": "light"
          }
        }
      ]
    },
    {
      "cell_type": "markdown",
      "metadata": {
        "id": "LjG84y5e84Au"
      },
      "source": [
        "Now you can create multiple training sets,keeping only few columns at a time..\n",
        "Foll code is just pseudo code to drive home the idea that how to do that. Define new X_trains and run on them, and get classfication report to see F1 score to see how both accuracy and recall are affected.\n",
        "A high F1 score for default will show both precision and recall are correct."
      ]
    },
    {
      "cell_type": "code",
      "metadata": {
        "id": "Of26pbDs8Rsz"
      },
      "source": [
        "# Create and train the model on the training data\n",
        "clf_gbt = xgb.XGBClassifier().fit(X_train,np.ravel(y_train))\n",
        "\n",
        "# Print the column importances from the model\n",
        "print(clf_gbt.get_booster().get_score(importance_type = 'weight'))"
      ],
      "execution_count": null,
      "outputs": []
    },
    {
      "cell_type": "code",
      "metadata": {
        "id": "QDSSHHTc8aAq"
      },
      "source": [
        "# Train a model on the X data with 3 columns\n",
        "clf_gbt3 = xgb.XGBClassifier().fit(X3_train,np.ravel(y_train))\n",
        "\n",
        "# Plot the column importance for this model\n",
        "xgb.plot_importance(clf_gbt3, importance_type = 'weight')\n",
        "plt.show()"
      ],
      "execution_count": null,
      "outputs": []
    },
    {
      "cell_type": "code",
      "metadata": {
        "id": "U-xvm8UQ8tqp"
      },
      "source": [
        "# Predict the loan_status using each model\n",
        "gbt_preds = gbt.predict(X_test)\n",
        "gbt2_preds = gbt2.predict(X2_test)\n",
        "\n",
        "# Print the classification report of the first model\n",
        "target_names = ['Non-Default', 'Default']\n",
        "print(classification_report(y_test, gbt_preds, target_names=target_names))\n",
        "\n",
        "# Print the classification report of the second model\n",
        "print(classification_report(y_test, gbt2_preds, target_names=target_names))"
      ],
      "execution_count": null,
      "outputs": []
    },
    {
      "cell_type": "markdown",
      "metadata": {
        "id": "M_mDKtuEBIob"
      },
      "source": [
        "#Cross validating credit models\n",
        "\n",
        "Quite imp\n",
        "\n",
        "First we see the difficult way, then we do the easy way."
      ]
    },
    {
      "cell_type": "code",
      "metadata": {
        "colab": {
          "base_uri": "https://localhost:8080/"
        },
        "id": "y07gdPm-BL7a",
        "outputId": "64a15b0c-4e2e-4d5c-dde3-c97d18903d2f"
      },
      "source": [
        "#First way\n",
        "\n",
        "# Set the values for number of folds and stopping iterations\n",
        "n_folds = 5\n",
        "early_stopping = 10              #It is a number when we stop our iterations. Because after a while, the performance starts to saturate and not improve further\n",
        "\n",
        "params = {'objective': 'binary:logistic', 'seed': 123, 'eval_metric': 'auc'}   #params has to be a dictionary, with objective - binary logistic, i.e \n",
        "#predict if default or not defaulted (1/0). seed we know to reproduce. eval_metric is increase the area under curve.\n",
        "\n",
        "\n",
        "# Create the DTrain matrix for XGBoost\n",
        "DTrain = xgb.DMatrix(X_train, label = y_train)          #DMatrix is a way of creating a data matrix that can be k-folded\n",
        "# Create the data frame of cross validations\n",
        "\n",
        "\n",
        "cv_df = xgb.cv(params, DTrain, num_boost_round = 5, nfold=n_folds,          #xgb.cv is the key code here, rest are just parameters passed\n",
        "            early_stopping_rounds=early_stopping)\n",
        "\n",
        "# Print the cross validations data frame\n",
        "print(cv_df)"
      ],
      "execution_count": 41,
      "outputs": [
        {
          "output_type": "stream",
          "text": [
            "   train-auc-mean  train-auc-std  test-auc-mean  test-auc-std\n",
            "0        0.895947       0.002251       0.891604      0.009428\n",
            "1        0.902931       0.003206       0.897648      0.008133\n",
            "2        0.911380       0.001820       0.905553      0.007240\n",
            "3        0.915385       0.000750       0.908138      0.008153\n",
            "4        0.920330       0.001100       0.912328      0.006981\n"
          ],
          "name": "stdout"
        }
      ]
    },
    {
      "cell_type": "markdown",
      "metadata": {
        "id": "0srMovMXCIsK"
      },
      "source": [
        "^ so we see that as we go from 1st set of fold -train and 1st test to 2nd..that is one iteration.\n",
        "And the performace is increasing if train/test-auc-mean is increasing. Std similarily should decrease\n",
        "\n",
        "you see how the AUC for both train-auc-mean and test-auc-mean improves at each iteration of cross-validation? As the iterations progress the scores get better, but will they eventually reach 1.0?"
      ]
    },
    {
      "cell_type": "code",
      "metadata": {
        "colab": {
          "base_uri": "https://localhost:8080/",
          "height": 418
        },
        "id": "KyHHhHOcFl5z",
        "outputId": "07cb3c8c-6a6e-4afc-c47e-3dc4cb9a5a77"
      },
      "source": [
        "import matplotlib.pyplot as plt\n",
        "\n",
        "cv_results_big = xgb.cv(params, DTrain, num_boost_round = 600, nfold=10,\n",
        "            shuffle = True)\n",
        "\n",
        "# Print the first five rows of the CV results data frame\n",
        "print(cv_results_big.head())\n",
        "\n",
        "# Calculate the mean of the test AUC scores\n",
        "print(np.mean(cv_results_big['test-auc-mean']))  #.round(2))\n",
        "\n",
        "# Plot the test AUC scores for each iteration\n",
        "plt.plot(cv_results_big['test-auc-mean'])\n",
        "plt.title('Test AUC Score Over 600 Iterations')\n",
        "plt.xlabel('Iteration Number')\n",
        "plt.ylabel('Test AUC Score')\n",
        "plt.show()"
      ],
      "execution_count": 45,
      "outputs": [
        {
          "output_type": "stream",
          "text": [
            "   train-auc-mean  train-auc-std  test-auc-mean  test-auc-std\n",
            "0        0.896007       0.002084       0.891142      0.013071\n",
            "1        0.903197       0.001911       0.897610      0.011157\n",
            "2        0.911369       0.001791       0.904430      0.011304\n",
            "3        0.915447       0.001476       0.907551      0.010186\n",
            "4        0.920176       0.001249       0.911863      0.009559\n",
            "0.9433008954999991\n"
          ],
          "name": "stdout"
        },
        {
          "output_type": "display_data",
          "data": {
            "image/png": "[encoded data removed]",
            "text/plain": [
              "<Figure size 432x288 with 1 Axes>"
            ]
          },
          "metadata": {
            "tags": [],
            "needs_background": "light"
          }
        }
      ]
    },
    {
      "cell_type": "markdown",
      "metadata": {
        "id": "XSK9PIkRF_cC"
      },
      "source": [
        "Notice that the test AUC score never quite reaches 1.0 and begins to decrease slightly after 100 iterations. This is because this much cross-validation can actually cause the model to become overfit. "
      ]
    },
    {
      "cell_type": "markdown",
      "metadata": {
        "id": "SBveOd0VGKh7"
      },
      "source": [
        "#Second way to cross-validate, much easier\n",
        "\n",
        "It combines the above huge code in just 1-2 lines"
      ]
    },
    {
      "cell_type": "code",
      "metadata": {
        "colab": {
          "base_uri": "https://localhost:8080/"
        },
        "id": "rU4vYMf5GFoU",
        "outputId": "ae0fc027-f974-4ee7-c244-0e26e63f50ea"
      },
      "source": [
        "from sklearn.model_selection import cross_val_score\n",
        "# Create a gradient boosted tree model using two hyperparameters\n",
        "gbt = xgb.XGBClassifier(learning_rate = 0.1, max_depth = 7)             #specify instance of model with hyperparameters\n",
        "\n",
        "# Calculate the cross validation scores for 4 folds\n",
        "cv_scores = cross_val_score(gbt, X_train, np.ravel(y_train), cv = 4)          #to get the cv_results , unlike above-simply use cross_val_score. gives us everything we need.\n",
        "\n",
        "                                                                          # pass in the model, X and y, and specify how many folds, so cv= cross val folds = 4\n",
        "# Print the cross validation scores\n",
        "print(cv_scores)\n",
        "\n",
        "# Print the average accuracy and standard deviation of the scores\n",
        "print(\"Average accuracy: %0.2f (+/- %0.2f)\" % (cv_scores.mean(),\n",
        "                                              cv_scores.std() * 2))"
      ],
      "execution_count": 47,
      "outputs": [
        {
          "output_type": "stream",
          "text": [
            "[0.93574661 0.92986425 0.93506787 0.92984838]\n",
            "Average accuracy: 0.93 (+/- 0.01)\n"
          ],
          "name": "stdout"
        }
      ]
    },
    {
      "cell_type": "markdown",
      "metadata": {
        "id": "xyaQ5XzBJKrj"
      },
      "source": [
        "#How to resolve class imbalance\n",
        "Ofcourse, a non-default classified as default is less damaging than a default classified as non-default\n",
        "\n",
        "1. Get more data\n",
        "2. Custom loss function\n",
        "3. Resample data\n",
        "\n",
        "Let us try resampling data"
      ]
    },
    {
      "cell_type": "code",
      "metadata": {
        "colab": {
          "base_uri": "https://localhost:8080/"
        },
        "id": "_tfJvt4EJbZD",
        "outputId": "8145d3c7-b7f5-49b1-e8fe-a2c9a55e8138"
      },
      "source": [
        "X_y_train = pd.concat([X_train.reset_index(drop = True),\n",
        "                       y_train.reset_index(drop = True)], axis = 1) #combined our data, as we want all train data to be resampled.\n",
        "\n",
        "\n",
        "count_nondefault, count_default = X_y_train['loan_status'].value_counts()\n",
        "\n",
        "# Create data sets for defaults and non-defaults\n",
        "nondefaults = X_y_train[X_y_train['loan_status'] == 0]\n",
        "defaults = X_y_train[X_y_train['loan_status'] == 1]\n",
        "\n",
        "# Undersample the non-defaults\n",
        "nondefaults_under = nondefaults.sample(count_default)     #If out of 100 samples, there are 20 defaults, in our new data set, we want only 20 non-defaults then. This is resampling\n",
        "\n",
        "# Concatenate the undersampled nondefaults with defaults\n",
        "X_y_train_under = pd.concat([nondefaults_under.reset_index(drop = True),\n",
        "                             defaults.reset_index(drop = True)], axis = 0)            #concat these 2 again, ie total all defaults and non defaults = count of defaults\n",
        "\n",
        "# Print the value counts for loan status\n",
        "print(X_y_train_under['loan_status'].value_counts())"
      ],
      "execution_count": 48,
      "outputs": [
        {
          "output_type": "stream",
          "text": [
            "1    3872\n",
            "0    3872\n",
            "Name: loan_status, dtype: int64\n"
          ],
          "name": "stdout"
        }
      ]
    },
    {
      "cell_type": "markdown",
      "metadata": {
        "id": "-GGcUE7NKMLv"
      },
      "source": [
        "Now, our training set has an even number of defaults and non-defaults. Let's test out some machine learning models on this new undersampled data set and compare their performance to the models trained on the regular data set."
      ]
    },
    {
      "cell_type": "code",
      "metadata": {
        "colab": {
          "base_uri": "https://localhost:8080/"
        },
        "id": "bsMMD-rEKh2a",
        "outputId": "f87c99e1-4625-4e01-823f-5944a2472307"
      },
      "source": [
        "# Train a model on the old data\n",
        "gbt = xgb.XGBClassifier().fit(X_train, np.ravel(y_train))\n",
        "\n",
        "\n",
        "#Create train_test_split on the NEW data\n",
        "\n",
        "X_under = X_y_train_under.drop(['loan_status'], axis = 1)\n",
        "y_under = X_y_train_under['loan_status']\n",
        "\n",
        "# Use test_train_split to create the NEW training and test sets\n",
        "X_train_under, X_test_under, y_train_under, y_test_under = train_test_split(X_under, y_under, test_size=.4, random_state=123)\n",
        "\n",
        "#Another model instantiated\n",
        "gbt2 = xgb.XGBClassifier().fit(X_train_under, np.ravel(y_train_under))\n",
        "\n",
        "# Predict the loan_status using each model\n",
        "gbt_preds = gbt.predict(X_test)\n",
        "gbt2_preds = gbt2.predict(X_test_under)\n",
        "\n",
        "# Check the classification reports\n",
        "target_names = ['Non-Default', 'Default']\n",
        "print(classification_report(y_test, gbt_preds, target_names=target_names))\n",
        "print(classification_report(y_test_under, gbt2_preds, target_names=target_names))"
      ],
      "execution_count": 56,
      "outputs": [
        {
          "output_type": "stream",
          "text": [
            "              precision    recall  f1-score   support\n",
            "\n",
            " Non-Default       0.92      0.99      0.95      9194\n",
            "     Default       0.95      0.70      0.81      2592\n",
            "\n",
            "    accuracy                           0.93     11786\n",
            "   macro avg       0.94      0.85      0.88     11786\n",
            "weighted avg       0.93      0.93      0.92     11786\n",
            "\n",
            "              precision    recall  f1-score   support\n",
            "\n",
            " Non-Default       0.79      0.90      0.84      1563\n",
            "     Default       0.88      0.76      0.81      1535\n",
            "\n",
            "    accuracy                           0.83      3098\n",
            "   macro avg       0.84      0.83      0.83      3098\n",
            "weighted avg       0.84      0.83      0.83      3098\n",
            "\n"
          ],
          "name": "stdout"
        }
      ]
    },
    {
      "cell_type": "markdown",
      "metadata": {
        "id": "z7WK2jCON93t"
      },
      "source": [
        "^Notice how recall for defaults has improved."
      ]
    },
    {
      "cell_type": "code",
      "metadata": {
        "colab": {
          "base_uri": "https://localhost:8080/"
        },
        "id": "iOCmuVfGYCFr",
        "outputId": "600f8adb-e12c-4b9f-c7f1-1c8f4c8dd6f8"
      },
      "source": [
        "# Print the confusion matrix for both old and new models\n",
        "print(confusion_matrix(y_test,gbt_preds))\n",
        "print(confusion_matrix(y_test_under,gbt2_preds))"
      ],
      "execution_count": 57,
      "outputs": [
        {
          "output_type": "stream",
          "text": [
            "[[9107   87]\n",
            " [ 772 1820]]\n",
            "[[1404  159]\n",
            " [ 370 1165]]\n"
          ],
          "name": "stdout"
        }
      ]
    },
    {
      "cell_type": "code",
      "metadata": {
        "colab": {
          "base_uri": "https://localhost:8080/"
        },
        "id": "3INWf0RGYIN2",
        "outputId": "93ada77d-abfb-48b1-a72a-eaf447c79fb4"
      },
      "source": [
        "# Print and compare the AUC scores of the old and new models\n",
        "print(roc_auc_score(y_test, gbt_preds))\n",
        "print(roc_auc_score(y_test_under, gbt2_preds))"
      ],
      "execution_count": 58,
      "outputs": [
        {
          "output_type": "stream",
          "text": [
            "0.8463489003832343\n",
            "0.8286151037531182\n"
          ],
          "name": "stdout"
        }
      ]
    },
    {
      "cell_type": "markdown",
      "metadata": {
        "id": "_XjgsjGyYXyA"
      },
      "source": [
        "but looking at [1][1] element in confusion matrix , which is true positives or recall, leads us to believe undersampling didn't work well. \n",
        "and also, for auc score, it reduced for undersampling, :/\n",
        "\n",
        "It is not what we expected , but hey, that's real life.\n",
        "Not Datacamp, where they change data to show you what you were expecting :)!"
      ]
    }
  ]
}