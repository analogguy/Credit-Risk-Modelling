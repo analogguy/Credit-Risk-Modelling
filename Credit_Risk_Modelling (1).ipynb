{
  "nbformat": 4,
  "nbformat_minor": 0,
  "metadata": {
    "colab": {
      "name": "Credit Risk Modelling.ipynb",
      "provenance": [],
      "collapsed_sections": []
    },
    "kernelspec": {
      "name": "python3",
      "display_name": "Python 3"
    },
    "language_info": {
      "name": "python"
    },
    "accelerator": "GPU"
  },
  "cells": [
    {
      "cell_type": "markdown",
      "metadata": {
        "id": "niTgO9rH9jsU"
      },
      "source": [
        "#Understanding credit risk\n",
        "\n",
        "Three primary components\n",
        "1. PD - Probability of Default\n",
        "Likelihood someone will default on loan\n",
        "2. Exposure at Default (EAD)\n",
        "Amt outstanding at default\n",
        "3. LGD - Loss Given Default\n",
        "Ratio of exposure against any recovery from loss\n",
        "\n",
        "Expected loss = PD(*)EAD(*)LGD"
      ]
    },
    {
      "cell_type": "code",
      "metadata": {
        "colab": {
          "resources": {
            "http://localhost:8080/nbextensions/google.colab/files.js": {
              "data": "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",
              "ok": true,
              "headers": [
                [
                  "content-type",
                  "application/javascript"
                ]
              ],
              "status": 200,
              "status_text": ""
            }
          },
          "base_uri": "https://localhost:8080/",
          "height": 70
        },
        "id": "mzIc8D-L9e52",
        "outputId": "f346b18b-a695-48db-ca97-361273e827e2"
      },
      "source": [
        "#Load the data\n",
        "from google.colab import files # Use to load data on Google Colab\n",
        "uploaded = files.upload() # Use to load data on Google Colab"
      ],
      "execution_count": 3,
      "outputs": [
        {
          "output_type": "display_data",
          "data": {
            "text/html": [
              "\n",
              "     <input type=\"file\" id=\"files-7ec5b2bd-bccb-42ad-b28d-8855b2b40e87\" name=\"files[]\" multiple disabled\n",
              "        style=\"border:none\" />\n",
              "     <output id=\"result-7ec5b2bd-bccb-42ad-b28d-8855b2b40e87\">\n",
              "      Upload widget is only available when the cell has been executed in the\n",
              "      current browser session. Please rerun this cell to enable.\n",
              "      </output>\n",
              "      <script src=\"/nbextensions/google.colab/files.js\"></script> "
            ],
            "text/plain": [
              "<IPython.core.display.HTML object>"
            ]
          },
          "metadata": {
            "tags": []
          }
        },
        {
          "output_type": "stream",
          "text": [
            "Saving cr_loan2.csv to cr_loan2.csv\n"
          ],
          "name": "stdout"
        }
      ]
    },
    {
      "cell_type": "code",
      "metadata": {
        "colab": {
          "base_uri": "https://localhost:8080/",
          "height": 220
        },
        "id": "vgroNKaq_Wpj",
        "outputId": "cf770339-1c6a-40c5-843b-8a340a119b2b"
      },
      "source": [
        "import pandas as pd\n",
        "cr_loan = pd.read_csv('cr_loan2.csv')\n",
        "cr_loan.head()"
      ],
      "execution_count": 70,
      "outputs": [
        {
          "output_type": "execute_result",
          "data": {
            "text/html": [
              "<div>\n",
              "<style scoped>\n",
              "    .dataframe tbody tr th:only-of-type {\n",
              "        vertical-align: middle;\n",
              "    }\n",
              "\n",
              "    .dataframe tbody tr th {\n",
              "        vertical-align: top;\n",
              "    }\n",
              "\n",
              "    .dataframe thead th {\n",
              "        text-align: right;\n",
              "    }\n",
              "</style>\n",
              "<table border=\"1\" class=\"dataframe\">\n",
              "  <thead>\n",
              "    <tr style=\"text-align: right;\">\n",
              "      <th></th>\n",
              "      <th>person_age</th>\n",
              "      <th>person_income</th>\n",
              "      <th>person_home_ownership</th>\n",
              "      <th>person_emp_length</th>\n",
              "      <th>loan_intent</th>\n",
              "      <th>loan_grade</th>\n",
              "      <th>loan_amnt</th>\n",
              "      <th>loan_int_rate</th>\n",
              "      <th>loan_status</th>\n",
              "      <th>loan_percent_income</th>\n",
              "      <th>cb_person_default_on_file</th>\n",
              "      <th>cb_person_cred_hist_length</th>\n",
              "    </tr>\n",
              "  </thead>\n",
              "  <tbody>\n",
              "    <tr>\n",
              "      <th>0</th>\n",
              "      <td>22</td>\n",
              "      <td>59000</td>\n",
              "      <td>RENT</td>\n",
              "      <td>123.0</td>\n",
              "      <td>PERSONAL</td>\n",
              "      <td>D</td>\n",
              "      <td>35000</td>\n",
              "      <td>16.02</td>\n",
              "      <td>1</td>\n",
              "      <td>0.59</td>\n",
              "      <td>Y</td>\n",
              "      <td>3</td>\n",
              "    </tr>\n",
              "    <tr>\n",
              "      <th>1</th>\n",
              "      <td>21</td>\n",
              "      <td>9600</td>\n",
              "      <td>OWN</td>\n",
              "      <td>5.0</td>\n",
              "      <td>EDUCATION</td>\n",
              "      <td>B</td>\n",
              "      <td>1000</td>\n",
              "      <td>11.14</td>\n",
              "      <td>0</td>\n",
              "      <td>0.10</td>\n",
              "      <td>N</td>\n",
              "      <td>2</td>\n",
              "    </tr>\n",
              "    <tr>\n",
              "      <th>2</th>\n",
              "      <td>25</td>\n",
              "      <td>9600</td>\n",
              "      <td>MORTGAGE</td>\n",
              "      <td>1.0</td>\n",
              "      <td>MEDICAL</td>\n",
              "      <td>C</td>\n",
              "      <td>5500</td>\n",
              "      <td>12.87</td>\n",
              "      <td>1</td>\n",
              "      <td>0.57</td>\n",
              "      <td>N</td>\n",
              "      <td>3</td>\n",
              "    </tr>\n",
              "    <tr>\n",
              "      <th>3</th>\n",
              "      <td>23</td>\n",
              "      <td>65500</td>\n",
              "      <td>RENT</td>\n",
              "      <td>4.0</td>\n",
              "      <td>MEDICAL</td>\n",
              "      <td>C</td>\n",
              "      <td>35000</td>\n",
              "      <td>15.23</td>\n",
              "      <td>1</td>\n",
              "      <td>0.53</td>\n",
              "      <td>N</td>\n",
              "      <td>2</td>\n",
              "    </tr>\n",
              "    <tr>\n",
              "      <th>4</th>\n",
              "      <td>24</td>\n",
              "      <td>54400</td>\n",
              "      <td>RENT</td>\n",
              "      <td>8.0</td>\n",
              "      <td>MEDICAL</td>\n",
              "      <td>C</td>\n",
              "      <td>35000</td>\n",
              "      <td>14.27</td>\n",
              "      <td>1</td>\n",
              "      <td>0.55</td>\n",
              "      <td>Y</td>\n",
              "      <td>4</td>\n",
              "    </tr>\n",
              "  </tbody>\n",
              "</table>\n",
              "</div>"
            ],
            "text/plain": [
              "   person_age  ...  cb_person_cred_hist_length\n",
              "0          22  ...                           3\n",
              "1          21  ...                           2\n",
              "2          25  ...                           3\n",
              "3          23  ...                           2\n",
              "4          24  ...                           4\n",
              "\n",
              "[5 rows x 12 columns]"
            ]
          },
          "metadata": {
            "tags": []
          },
          "execution_count": 70
        }
      ]
    },
    {
      "cell_type": "code",
      "metadata": {
        "colab": {
          "base_uri": "https://localhost:8080/"
        },
        "id": "E70IcUjn_nva",
        "outputId": "dc03a26a-dd62-4d4e-ed33-c593ece44fa6"
      },
      "source": [
        "# Check the structure\n",
        "print(cr_loan.dtypes)\n",
        "\n",
        "# Check the first five rows\n",
        "print(cr_loan.head())"
      ],
      "execution_count": 71,
      "outputs": [
        {
          "output_type": "stream",
          "text": [
            "person_age                      int64\n",
            "person_income                   int64\n",
            "person_home_ownership          object\n",
            "person_emp_length             float64\n",
            "loan_intent                    object\n",
            "loan_grade                     object\n",
            "loan_amnt                       int64\n",
            "loan_int_rate                 float64\n",
            "loan_status                     int64\n",
            "loan_percent_income           float64\n",
            "cb_person_default_on_file      object\n",
            "cb_person_cred_hist_length      int64\n",
            "dtype: object\n",
            "   person_age  ...  cb_person_cred_hist_length\n",
            "0          22  ...                           3\n",
            "1          21  ...                           2\n",
            "2          25  ...                           3\n",
            "3          23  ...                           2\n",
            "4          24  ...                           4\n",
            "\n",
            "[5 rows x 12 columns]\n"
          ],
          "name": "stdout"
        }
      ]
    },
    {
      "cell_type": "code",
      "metadata": {
        "colab": {
          "base_uri": "https://localhost:8080/"
        },
        "id": "X61jTjatAWY8",
        "outputId": "1c5faf44-0cc4-4ed9-a17b-695db6bd19c3"
      },
      "source": [
        "cr_loan.info()"
      ],
      "execution_count": 72,
      "outputs": [
        {
          "output_type": "stream",
          "text": [
            "<class 'pandas.core.frame.DataFrame'>\n",
            "RangeIndex: 32581 entries, 0 to 32580\n",
            "Data columns (total 12 columns):\n",
            " #   Column                      Non-Null Count  Dtype  \n",
            "---  ------                      --------------  -----  \n",
            " 0   person_age                  32581 non-null  int64  \n",
            " 1   person_income               32581 non-null  int64  \n",
            " 2   person_home_ownership       32581 non-null  object \n",
            " 3   person_emp_length           31686 non-null  float64\n",
            " 4   loan_intent                 32581 non-null  object \n",
            " 5   loan_grade                  32581 non-null  object \n",
            " 6   loan_amnt                   32581 non-null  int64  \n",
            " 7   loan_int_rate               29465 non-null  float64\n",
            " 8   loan_status                 32581 non-null  int64  \n",
            " 9   loan_percent_income         32581 non-null  float64\n",
            " 10  cb_person_default_on_file   32581 non-null  object \n",
            " 11  cb_person_cred_hist_length  32581 non-null  int64  \n",
            "dtypes: float64(3), int64(5), object(4)\n",
            "memory usage: 3.0+ MB\n"
          ],
          "name": "stdout"
        }
      ]
    },
    {
      "cell_type": "code",
      "metadata": {
        "colab": {
          "base_uri": "https://localhost:8080/",
          "height": 278
        },
        "id": "-EhPc6Ng_1Mz",
        "outputId": "d53b7a08-b01b-4f81-980e-c3ddf61e141a"
      },
      "source": [
        "import matplotlib.pyplot as plt\n",
        "# Look at the distribution of loan amounts with a histogram\n",
        "n, bins, patches = plt.hist(x=cr_loan['loan_amnt'], bins='auto', color='blue',alpha=0.7, rwidth=0.85)\n",
        "plt.xlabel(\"Loan Amount\")\n",
        "plt.show()"
      ],
      "execution_count": 73,
      "outputs": [
        {
          "output_type": "display_data",
          "data": {
            "image/png": "[encoded data removed]",
            "text/plain": [
              "<Figure size 432x288 with 1 Axes>"
            ]
          },
          "metadata": {
            "tags": [],
            "needs_background": "light"
          }
        }
      ]
    },
    {
      "cell_type": "code",
      "metadata": {
        "colab": {
          "base_uri": "https://localhost:8080/",
          "height": 295
        },
        "id": "-lMpHQzqASyK",
        "outputId": "3bfc1195-b22d-40a8-e825-9878260b710e"
      },
      "source": [
        "print(\"There are 32 000 rows of data so the scatter plot may take a little while to plot.\")\n",
        "\n",
        "# Plot a scatter plot of income against age\n",
        "plt.scatter(cr_loan['person_income'], cr_loan['person_age'],c='blue', alpha=0.5)\n",
        "plt.xlabel('Personal Income')\n",
        "plt.ylabel('Person Age')\n",
        "plt.show()"
      ],
      "execution_count": 74,
      "outputs": [
        {
          "output_type": "stream",
          "text": [
            "There are 32 000 rows of data so the scatter plot may take a little while to plot.\n"
          ],
          "name": "stdout"
        },
        {
          "output_type": "display_data",
          "data": {
            "image/png": "[encoded data removed]",
            "text/plain": [
              "<Figure size 432x288 with 1 Axes>"
            ]
          },
          "metadata": {
            "tags": [],
            "needs_background": "light"
          }
        }
      ]
    },
    {
      "cell_type": "markdown",
      "metadata": {
        "id": "FKfdIyAUAstX"
      },
      "source": [
        "We can already see a positive correlation with age and income, which could mean these older recipients are further along in their career and therefore earn higher salaries. There also appears to be an outlier in the data."
      ]
    },
    {
      "cell_type": "code",
      "metadata": {
        "colab": {
          "base_uri": "https://localhost:8080/"
        },
        "id": "xBguLchbA-8J",
        "outputId": "8d383423-5b7d-4a0f-8374-1faee639672e"
      },
      "source": [
        "# Create a cross table of the loan intent and loan status\n",
        "print(pd.crosstab(cr_loan['loan_intent'], cr_loan['loan_status'], margins = True))  #crosstab shows loan_intent, grouped by loan_Status.."
      ],
      "execution_count": 75,
      "outputs": [
        {
          "output_type": "stream",
          "text": [
            "loan_status            0     1    All\n",
            "loan_intent                          \n",
            "DEBTCONSOLIDATION   3722  1490   5212\n",
            "EDUCATION           5342  1111   6453\n",
            "HOMEIMPROVEMENT     2664   941   3605\n",
            "MEDICAL             4450  1621   6071\n",
            "PERSONAL            4423  1098   5521\n",
            "VENTURE             4872   847   5719\n",
            "All                25473  7108  32581\n"
          ],
          "name": "stdout"
        }
      ]
    },
    {
      "cell_type": "markdown",
      "metadata": {
        "id": "pHFNOdxuBLea"
      },
      "source": [
        "1 - Default\n",
        "0- No default, so with cross tab you get to see\n",
        "how medical loans are most defaulted and then debt consolidation."
      ]
    },
    {
      "cell_type": "code",
      "metadata": {
        "colab": {
          "base_uri": "https://localhost:8080/"
        },
        "id": "kGkzM_XfBiUj",
        "outputId": "702ec565-69c4-484b-add8-aac2b5d09250"
      },
      "source": [
        "# Create a cross table of home ownership, loan status, and grade\n",
        "print(pd.crosstab(cr_loan['person_home_ownership'],[cr_loan['loan_status'],cr_loan['loan_grade']]))"
      ],
      "execution_count": 76,
      "outputs": [
        {
          "output_type": "stream",
          "text": [
            "loan_status               0                        ...    1                   \n",
            "loan_grade                A     B     C    D    E  ...    C     D    E   F   G\n",
            "person_home_ownership                              ...                        \n",
            "MORTGAGE               5219  3729  1934  658  178  ...  321   553  161  61  31\n",
            "OTHER                    23    29    11    9    2  ...    6    11    6   2   0\n",
            "OWN                     860   770   464  264   26  ...   31    18   31   8   5\n",
            "RENT                   3602  4222  2710  554  137  ...  981  1559  423  99  27\n",
            "\n",
            "[4 rows x 14 columns]\n"
          ],
          "name": "stdout"
        }
      ]
    },
    {
      "cell_type": "code",
      "metadata": {
        "colab": {
          "base_uri": "https://localhost:8080/"
        },
        "id": "QtjOxEhwBuPC",
        "outputId": "7f4d18d6-16f3-4db3-fb84-f4ade773a06f"
      },
      "source": [
        "# Create a cross table of home ownership, loan status, and average percent income\n",
        "print(pd.crosstab(cr_loan['person_home_ownership'], cr_loan['loan_status'],\n",
        "                  values=cr_loan['loan_percent_income'], aggfunc='mean'))"
      ],
      "execution_count": 77,
      "outputs": [
        {
          "output_type": "stream",
          "text": [
            "loan_status                   0         1\n",
            "person_home_ownership                    \n",
            "MORTGAGE               0.146504  0.184882\n",
            "OTHER                  0.143784  0.300000\n",
            "OWN                    0.180013  0.297358\n",
            "RENT                   0.144611  0.264859\n"
          ],
          "name": "stdout"
        }
      ]
    },
    {
      "cell_type": "markdown",
      "metadata": {
        "id": "LLFDxQ1tC3Nq"
      },
      "source": [
        "For how to use crosstab, read this link. Very imp.\n",
        "\n",
        "https://pbpython.com/pandas-crosstab.html"
      ]
    },
    {
      "cell_type": "code",
      "metadata": {
        "colab": {
          "base_uri": "https://localhost:8080/",
          "height": 347
        },
        "id": "3nDAESclDAcM",
        "outputId": "b21c42f7-8f48-434c-b743-740b6f1479c2"
      },
      "source": [
        "# Create a box plot of percentage income by loan status\n",
        "cr_loan.boxplot(column = ['loan_percent_income'], by = 'loan_status')\n",
        "plt.title('Average Percent Income by Loan Status')\n",
        "plt.suptitle('')\n",
        "plt.show()"
      ],
      "execution_count": 78,
      "outputs": [
        {
          "output_type": "stream",
          "text": [
            "/usr/local/lib/python3.7/dist-packages/numpy/core/_asarray.py:83: VisibleDeprecationWarning: Creating an ndarray from ragged nested sequences (which is a list-or-tuple of lists-or-tuples-or ndarrays with different lengths or shapes) is deprecated. If you meant to do this, you must specify 'dtype=object' when creating the ndarray\n",
            "  return array(a, dtype, copy=False, order=order)\n"
          ],
          "name": "stderr"
        },
        {
          "output_type": "display_data",
          "data": {
            "image/png": "[encoded data removed]",
            "text/plain": [
              "<Figure size 432x288 with 1 Axes>"
            ]
          },
          "metadata": {
            "tags": [],
            "needs_background": "light"
          }
        }
      ]
    },
    {
      "cell_type": "markdown",
      "metadata": {
        "id": "txAVhAObDIn9"
      },
      "source": [
        "It looks like the average percentage of income for defaults is higher. This could indicate those recipients have a debt-to-income ratio that's already too high."
      ]
    },
    {
      "cell_type": "markdown",
      "metadata": {
        "id": "ZAIjRgy6FF1s"
      },
      "source": [
        "Finding outliers with cross tables"
      ]
    },
    {
      "cell_type": "code",
      "metadata": {
        "colab": {
          "base_uri": "https://localhost:8080/"
        },
        "id": "NqNbp-K3DIZj",
        "outputId": "cd6a524d-ffb0-4616-ecaa-d828cbec0330"
      },
      "source": [
        "# Create the cross table for loan status, home ownership, and the max employment length\n",
        "print(pd.crosstab(cr_loan['loan_status'],cr_loan['person_home_ownership'],\n",
        "                  values=cr_loan['person_emp_length'], aggfunc='max'))"
      ],
      "execution_count": 79,
      "outputs": [
        {
          "output_type": "stream",
          "text": [
            "person_home_ownership  MORTGAGE  OTHER   OWN   RENT\n",
            "loan_status                                        \n",
            "0                         123.0   24.0  31.0   41.0\n",
            "1                          34.0   11.0  17.0  123.0\n"
          ],
          "name": "stdout"
        }
      ]
    },
    {
      "cell_type": "markdown",
      "metadata": {
        "id": "wJ7ubcEIFfPT"
      },
      "source": [
        "^ see how aggfunc used here is max, to show the max value. It gives an idea if there's any outlier value or not"
      ]
    },
    {
      "cell_type": "code",
      "metadata": {
        "id": "D5dbDqL1FuYb"
      },
      "source": [
        "# Create an array of indices where employment length is greater than 60\n",
        "indices = cr_loan[cr_loan['person_emp_length'] > 60].index"
      ],
      "execution_count": 80,
      "outputs": []
    },
    {
      "cell_type": "code",
      "metadata": {
        "id": "ZOr8PBeHFx1a"
      },
      "source": [
        "# Drop the records from the data based on the indices and create a new dataframe\n",
        "cr_loan_new = cr_loan.drop(indices)"
      ],
      "execution_count": 81,
      "outputs": []
    },
    {
      "cell_type": "code",
      "metadata": {
        "colab": {
          "base_uri": "https://localhost:8080/"
        },
        "id": "GScguyzwF7fz",
        "outputId": "1b6da420-524a-4957-e5c4-4cc533f4a8dd"
      },
      "source": [
        "#All together\n",
        "\n",
        "# Create the cross table for loan status, home ownership, and the max employment length\n",
        "print(pd.crosstab(cr_loan['loan_status'],cr_loan['person_home_ownership'],\n",
        "                  values=cr_loan['person_emp_length'], aggfunc='max'))\n",
        "\n",
        "# Create an array of indices where employment length is greater than 60\n",
        "indices = cr_loan[cr_loan['person_emp_length'] > 60].index\n",
        "\n",
        "# Drop the records from the data based on the indices and create a new dataframe\n",
        "cr_loan_new = cr_loan.drop(indices)\n",
        "\n",
        "# Create the cross table from earlier and include minimum employment length\n",
        "try:\n",
        "  print(pd.crosstab(cr_loan_new['loan_status'],cr_loan_new['person_home_ownership'],\n",
        "            values=cr_loan_new['person_emp_length'], aggfunc=['min','max']))\n",
        "except KeyError:\n",
        "  pass"
      ],
      "execution_count": 82,
      "outputs": [
        {
          "output_type": "stream",
          "text": [
            "person_home_ownership  MORTGAGE  OTHER   OWN   RENT\n",
            "loan_status                                        \n",
            "0                         123.0   24.0  31.0   41.0\n",
            "1                          34.0   11.0  17.0  123.0\n"
          ],
          "name": "stdout"
        }
      ]
    },
    {
      "cell_type": "markdown",
      "metadata": {
        "id": "tWny9on0Hy7r"
      },
      "source": [
        "^ was getting an issue here, so used the keyerror thing, try except loop. Find info here - https://github.com/pandas-dev/pandas/issues/10291"
      ]
    },
    {
      "cell_type": "code",
      "metadata": {
        "colab": {
          "base_uri": "https://localhost:8080/",
          "height": 278
        },
        "id": "EgaQatBPH2GN",
        "outputId": "c6f978e1-2680-4e8f-fc8d-b7bc79057b61"
      },
      "source": [
        "# Create the scatter plot for age and amount\n",
        "plt.scatter(cr_loan['person_age'], cr_loan['loan_amnt'], c='blue', alpha=0.5)\n",
        "plt.xlabel(\"Person Age\")\n",
        "plt.ylabel(\"Loan Amount\")\n",
        "plt.show()"
      ],
      "execution_count": 83,
      "outputs": [
        {
          "output_type": "display_data",
          "data": {
            "image/png": "[encoded data removed]",
            "text/plain": [
              "<Figure size 432x288 with 1 Axes>"
            ]
          },
          "metadata": {
            "tags": [],
            "needs_background": "light"
          }
        }
      ]
    },
    {
      "cell_type": "code",
      "metadata": {
        "colab": {
          "base_uri": "https://localhost:8080/",
          "height": 278
        },
        "id": "6_aaUW__IKwD",
        "outputId": "ae985845-555d-42b8-a0a3-caafd1ad8d6e"
      },
      "source": [
        "import matplotlib\n",
        "# Use Pandas to drop the record from the data frame and create a new one\n",
        "cr_loan_new = cr_loan.drop(cr_loan[cr_loan['person_age'] > 100].index)\n",
        "\n",
        "# Create a scatter plot of age and interest rate\n",
        "colors = [\"blue\",\"red\"]\n",
        "plt.scatter(cr_loan_new['person_age'], cr_loan_new['loan_int_rate'],\n",
        "            c = cr_loan_new['loan_status'],  \n",
        "            cmap = matplotlib.colors.ListedColormap(colors),\n",
        "            alpha=0.5)\n",
        "\n",
        "plt.xlabel(\"Person Age\")\n",
        "plt.ylabel(\"Loan Interest Rate\")\n",
        "plt.show()"
      ],
      "execution_count": 84,
      "outputs": [
        {
          "output_type": "display_data",
          "data": {
            "image/png": "[encoded data removed]",
            "text/plain": [
              "<Figure size 432x288 with 1 Axes>"
            ]
          },
          "metadata": {
            "tags": [],
            "needs_background": "light"
          }
        }
      ]
    },
    {
      "cell_type": "markdown",
      "metadata": {
        "id": "tDvOGrHjK_Zb"
      },
      "source": [
        "Replacing missing credit data"
      ]
    },
    {
      "cell_type": "code",
      "metadata": {
        "colab": {
          "base_uri": "https://localhost:8080/",
          "height": 425
        },
        "id": "eBpBvuZ1MZVK",
        "outputId": "60c34504-2cac-434d-d09d-71c45271d632"
      },
      "source": [
        "# Print a null value column array\n",
        "print(cr_loan.columns[cr_loan.isnull().any()])\n",
        "\n",
        "# Print the top five rows with nulls for employment length\n",
        "print(cr_loan[cr_loan['person_emp_length'].isnull()].head())\n",
        "\n",
        "# Impute the null values with the median value for all employment lengths\n",
        "cr_loan['person_emp_length'].fillna((cr_loan['person_emp_length'].median()), inplace=True)\n",
        "\n",
        "# Create a histogram of employment length\n",
        "n, bins, patches = plt.hist(cr_loan['person_emp_length'], bins='auto', color='blue')\n",
        "plt.xlabel(\"Person Employment Length\")\n",
        "plt.show()"
      ],
      "execution_count": 85,
      "outputs": [
        {
          "output_type": "stream",
          "text": [
            "Index(['person_emp_length', 'loan_int_rate'], dtype='object')\n",
            "     person_age  ...  cb_person_cred_hist_length\n",
            "105          22  ...                           4\n",
            "222          24  ...                           2\n",
            "379          24  ...                           3\n",
            "407          25  ...                           2\n",
            "408          22  ...                           3\n",
            "\n",
            "[5 rows x 12 columns]\n"
          ],
          "name": "stdout"
        },
        {
          "output_type": "display_data",
          "data": {
            "image/png": "[encoded data removed]",
            "text/plain": [
              "<Figure size 432x288 with 1 Axes>"
            ]
          },
          "metadata": {
            "tags": [],
            "needs_background": "light"
          }
        }
      ]
    },
    {
      "cell_type": "markdown",
      "metadata": {
        "id": "qd-g17GwMweo"
      },
      "source": [
        "Above we saw , person_emp_length and loan_int_rate had missing values, we filled in person_emp_length but we should not assume and rather drop missing ones in int rate."
      ]
    },
    {
      "cell_type": "code",
      "metadata": {
        "colab": {
          "base_uri": "https://localhost:8080/"
        },
        "id": "3AbTE6yFNEHp",
        "outputId": "5fd2dd4f-fe3e-4462-e0bf-385349af0abe"
      },
      "source": [
        "# Print the number of nulls\n",
        "print(cr_loan['loan_int_rate'].isnull().sum())\n",
        "\n",
        "# Store the array on indices\n",
        "indices = cr_loan[cr_loan['loan_int_rate'].isnull()].index\n",
        "\n",
        "# Save the new data without missing data\n",
        "cr_loan_clean = cr_loan.drop(indices)"
      ],
      "execution_count": 86,
      "outputs": [
        {
          "output_type": "stream",
          "text": [
            "3116\n"
          ],
          "name": "stdout"
        }
      ]
    },
    {
      "cell_type": "code",
      "metadata": {
        "colab": {
          "base_uri": "https://localhost:8080/"
        },
        "id": "rXgpOzucNHDx",
        "outputId": "6039c1fb-b21b-448b-b5c4-59bd72981392"
      },
      "source": [
        "#recheck\n",
        "print(cr_loan_clean.isnull().any().sum())\n",
        "\n",
        "print(cr_loan_clean.columns.isnull().sum())"
      ],
      "execution_count": 87,
      "outputs": [
        {
          "output_type": "stream",
          "text": [
            "0\n",
            "0\n"
          ],
          "name": "stdout"
        }
      ]
    },
    {
      "cell_type": "code",
      "metadata": {
        "colab": {
          "base_uri": "https://localhost:8080/"
        },
        "id": "sWQp-djaOJsy",
        "outputId": "1d0329f0-e897-4b3f-c404-8b59d8b11752"
      },
      "source": [
        "# Count the number of records for each unique value\n",
        "cr_loan_clean['person_home_ownership'].value_counts()"
      ],
      "execution_count": 88,
      "outputs": [
        {
          "output_type": "execute_result",
          "data": {
            "text/plain": [
              "RENT        14893\n",
              "MORTGAGE    12122\n",
              "OWN          2356\n",
              "OTHER          94\n",
              "Name: person_home_ownership, dtype: int64"
            ]
          },
          "metadata": {
            "tags": []
          },
          "execution_count": 88
        }
      ]
    },
    {
      "cell_type": "markdown",
      "metadata": {
        "id": "6ABhRQYMOP6a"
      },
      "source": [
        "#Logistic regression for probability of default"
      ]
    },
    {
      "cell_type": "markdown",
      "metadata": {
        "id": "0E_LnpNAQORr"
      },
      "source": [
        "Let us work with this new and all combined data now, ie. cr_loan_clean"
      ]
    },
    {
      "cell_type": "markdown",
      "metadata": {
        "id": "2vaaoW8VRh1O"
      },
      "source": [
        "Earlier in scatter plot we saw more red points, meaning more defaults happen at high interest rates, so let us build logistic regression just with that one factor for now."
      ]
    },
    {
      "cell_type": "code",
      "metadata": {
        "colab": {
          "base_uri": "https://localhost:8080/"
        },
        "id": "-JH9dw3pR1qK",
        "outputId": "8b0eb167-f004-4c10-9dc3-ff0e937f21c0"
      },
      "source": [
        "from sklearn.linear_model import LogisticRegression\n",
        "import numpy as np\n",
        "\n",
        "# Create the X and y data sets\n",
        "X = cr_loan_clean[['loan_int_rate']]                       #feature\n",
        "y = cr_loan_clean[['loan_status']]                          #label to predict\n",
        "\n",
        "\n",
        "\n",
        "# Create and fit a logistic regression model\n",
        "clf_logistic_single = LogisticRegression(solver='lbfgs')         #created an instance of model, solver is same as we have in excel, lbfgs is default\n",
        "clf_logistic_single.fit(X, np.ravel(y))                               #fit on x, and y. we used np.ravel to have y as a one dimensional array, and not have it as a df.\n",
        "\n",
        "# Print the parameters of the model\n",
        "print(clf_logistic_single.get_params())\n",
        "\n",
        "# Print the intercept of the model\n",
        "print(clf_logistic_single.intercept_)"
      ],
      "execution_count": 89,
      "outputs": [
        {
          "output_type": "stream",
          "text": [
            "{'C': 1.0, 'class_weight': None, 'dual': False, 'fit_intercept': True, 'intercept_scaling': 1, 'l1_ratio': None, 'max_iter': 100, 'multi_class': 'auto', 'n_jobs': None, 'penalty': 'l2', 'random_state': None, 'solver': 'lbfgs', 'tol': 0.0001, 'verbose': 0, 'warm_start': False}\n",
            "[-4.4586918]\n"
          ],
          "name": "stdout"
        }
      ]
    },
    {
      "cell_type": "code",
      "metadata": {
        "colab": {
          "base_uri": "https://localhost:8080/"
        },
        "id": "92xexOD7ZF4x",
        "outputId": "d396468b-3dd9-4a1c-deb7-f82e0eaeba5f"
      },
      "source": [
        "# Create X data for the model\n",
        "X_multi = cr_loan_clean[['loan_int_rate','person_emp_length']]\n",
        "\n",
        "# Create a set of y data for training\n",
        "y = cr_loan_clean[['loan_status']]\n",
        "\n",
        "# Create and train a new logistic regression\n",
        "clf_logistic_multi = LogisticRegression(solver='lbfgs').fit(X_multi, np.ravel(y))   #But I still prefer using the other approach better\n",
        "\n",
        "# Print the intercept of the model\n",
        "print(clf_logistic_multi.intercept_)"
      ],
      "execution_count": 90,
      "outputs": [
        {
          "output_type": "stream",
          "text": [
            "[-4.2253171]\n"
          ],
          "name": "stdout"
        }
      ]
    },
    {
      "cell_type": "markdown",
      "metadata": {
        "id": "2bg1ibmsaYaC"
      },
      "source": [
        "#So just using X, Y we get an intercept. Doesn't share much.\n",
        "But running it on train, test split for x and y will tell us more, and do prediction and forecasting."
      ]
    },
    {
      "cell_type": "markdown",
      "metadata": {
        "id": "fHJ3RqF2Z-yh"
      },
      "source": [
        "The new clf_logistic_multi model has an .intercept_ value closer to zero. This means the log odds of a non-default is approaching zero."
      ]
    },
    {
      "cell_type": "markdown",
      "metadata": {
        "id": "MsVnerpBaO7J"
      },
      "source": [
        "We know that the data should be separated into training and test sets. test_train_split() is used to create both at the same time. The training set is used to make predictions, while the test set is used for evaluation. Without evaluating the model, you have no way to tell how well it will perform on new loan data.\n",
        "\n",
        "In addition to the intercept_, which is an attribute of the model, LogisticRegression() models also have the .coef_ attribute. This shows how important each training column is for predicting the probability of default."
      ]
    },
    {
      "cell_type": "code",
      "metadata": {
        "colab": {
          "base_uri": "https://localhost:8080/"
        },
        "id": "9a6dzVW9bxb6",
        "outputId": "1a694a79-b898-48b5-9270-dd69b4fc02f4"
      },
      "source": [
        "from sklearn.model_selection import train_test_split\n",
        "\n",
        "# Create the X and y data sets\n",
        "X = cr_loan_clean[['loan_int_rate','person_emp_length','person_income']]\n",
        "y = cr_loan_clean[['loan_status']]\n",
        "\n",
        "# Use test_train_split to create the training and test sets\n",
        "X_train, X_test, y_train, y_test = train_test_split(X, y, test_size=.4, random_state=123)\n",
        "\n",
        "# Create and fit the logistic regression model\n",
        "clf_logistic = LogisticRegression(solver='lbfgs').fit(X_train, np.ravel(y_train))\n",
        "\n",
        "# Print the models coefficients\n",
        "print(clf_logistic.coef_)"
      ],
      "execution_count": 91,
      "outputs": [
        {
          "output_type": "stream",
          "text": [
            "[[ 8.34020099e-02 -6.02470833e-02 -3.28983416e-05]]\n"
          ],
          "name": "stdout"
        }
      ]
    },
    {
      "cell_type": "markdown",
      "metadata": {
        "id": "vuFTDL1acGBh"
      },
      "source": [
        "The more positive the coefficient value, the more it predicts defaults.\n",
        "Hence loan interest rate predicts default in the highest way possible of all 3 data features we chose\n",
        "\n",
        "for one percent point increase in loan_int_rate , the probability of default increases by 8.3% points"
      ]
    },
    {
      "cell_type": "markdown",
      "metadata": {
        "id": "83i2f_k6ffCb"
      },
      "source": [
        "#One-hot encoding credit data"
      ]
    },
    {
      "cell_type": "code",
      "metadata": {
        "colab": {
          "base_uri": "https://localhost:8080/"
        },
        "id": "KGOILboKfloD",
        "outputId": "365010c9-d702-4f28-bfb4-605c17064597"
      },
      "source": [
        "# Create two data sets for numeric and non-numeric data\n",
        "cred_num = cr_loan_clean.select_dtypes(exclude=['object'])\n",
        "cred_str = cr_loan_clean.select_dtypes(include=['object'])\n",
        "\n",
        "# One-hot encode the non-numeric columns\n",
        "cred_str_onehot = pd.get_dummies(cred_str)   #Use get dummies to one hot encode\n",
        "\n",
        "# Union the one-hot encoded columns to the numeric ones\n",
        "cr_loan_prep = pd.concat([cred_num, cred_str_onehot], axis=1)     #so column wise operation, i.e concatenation\n",
        "\n",
        "\n",
        "# Print the columns in the new data set\n",
        "print(cr_loan_prep.columns)"
      ],
      "execution_count": 92,
      "outputs": [
        {
          "output_type": "stream",
          "text": [
            "Index(['person_age', 'person_income', 'person_emp_length', 'loan_amnt',\n",
            "       'loan_int_rate', 'loan_status', 'loan_percent_income',\n",
            "       'cb_person_cred_hist_length', 'person_home_ownership_MORTGAGE',\n",
            "       'person_home_ownership_OTHER', 'person_home_ownership_OWN',\n",
            "       'person_home_ownership_RENT', 'loan_intent_DEBTCONSOLIDATION',\n",
            "       'loan_intent_EDUCATION', 'loan_intent_HOMEIMPROVEMENT',\n",
            "       'loan_intent_MEDICAL', 'loan_intent_PERSONAL', 'loan_intent_VENTURE',\n",
            "       'loan_grade_A', 'loan_grade_B', 'loan_grade_C', 'loan_grade_D',\n",
            "       'loan_grade_E', 'loan_grade_F', 'loan_grade_G',\n",
            "       'cb_person_default_on_file_N', 'cb_person_default_on_file_Y'],\n",
            "      dtype='object')\n"
          ],
          "name": "stdout"
        }
      ]
    },
    {
      "cell_type": "markdown",
      "metadata": {
        "id": "n5pQ_I9zgT4-"
      },
      "source": [
        "What makes more sense to me is to say it this way:\n",
        "\n",
        "Axis 0 will act on all the ROWS in each COLUMN\n",
        "\n",
        "Axis 1 will act on all the COLUMNS in each ROW\n",
        "\n",
        "So a mean on axis 0 will be the mean of all the rows in each column, and a mean on axis 1 will be a mean of all the columns in each row."
      ]
    },
    {
      "cell_type": "code",
      "metadata": {
        "colab": {
          "base_uri": "https://localhost:8080/"
        },
        "id": "h6EPZBUjgh2j",
        "outputId": "85288f63-ce8a-468d-9b3c-cf2a82b18c94"
      },
      "source": [
        "print(cred_num.head())\n",
        "print(cred_str.head())\n",
        "print(cr_loan_prep.head())"
      ],
      "execution_count": 93,
      "outputs": [
        {
          "output_type": "stream",
          "text": [
            "   person_age  person_income  ...  loan_percent_income  cb_person_cred_hist_length\n",
            "0          22          59000  ...                 0.59                           3\n",
            "1          21           9600  ...                 0.10                           2\n",
            "2          25           9600  ...                 0.57                           3\n",
            "3          23          65500  ...                 0.53                           2\n",
            "4          24          54400  ...                 0.55                           4\n",
            "\n",
            "[5 rows x 8 columns]\n",
            "  person_home_ownership loan_intent loan_grade cb_person_default_on_file\n",
            "0                  RENT    PERSONAL          D                         Y\n",
            "1                   OWN   EDUCATION          B                         N\n",
            "2              MORTGAGE     MEDICAL          C                         N\n",
            "3                  RENT     MEDICAL          C                         N\n",
            "4                  RENT     MEDICAL          C                         Y\n",
            "   person_age  ...  cb_person_default_on_file_Y\n",
            "0          22  ...                            1\n",
            "1          21  ...                            0\n",
            "2          25  ...                            0\n",
            "3          23  ...                            0\n",
            "4          24  ...                            1\n",
            "\n",
            "[5 rows x 27 columns]\n"
          ],
          "name": "stdout"
        }
      ]
    },
    {
      "cell_type": "code",
      "metadata": {
        "colab": {
          "base_uri": "https://localhost:8080/"
        },
        "id": "qniqnAQMg5VR",
        "outputId": "2108b5e4-6164-4689-c547-386f449b6f4d"
      },
      "source": [
        "# Train the logistic regression model on the training data\n",
        "clf_logistic = LogisticRegression(solver='lbfgs').fit(X_train, np.ravel(y_train))\n",
        "\n",
        "# Create predictions of probability for loan status using test data\n",
        "preds = clf_logistic.predict_proba(X_test)        #so to see probabilities of prediction on test data,once model has learned from train data\n",
        "\n",
        "\n",
        "#print(preds.head()) - this code won't work as preds is a numpy array that is returned to us.\n",
        "#so convert to dataframe first.\n",
        "\n",
        "# Create dataframes of first five predictions, and first five true labels\n",
        "preds1 = pd.DataFrame(preds)\n",
        "print(preds1.head()) \n",
        "\n",
        "#so it has prob of both non-default (0) and prob of non-default (1).\n",
        "\n",
        "preds_df = pd.DataFrame(preds[:,1][0:5], columns = ['prob_default'])   #take all rows, and first column and from this selection, take first 5 rows and name this as prob_default column\n",
        "true_df = y_test.head()\n",
        "\n",
        "# Concatenate and print the two data frames for comparison\n",
        "print(pd.concat([true_df.reset_index(drop = True), preds_df], axis = 1))\n",
        "\n",
        "#If you set drop = True , reset_index will delete the index instead of inserting it back into the columns of the DataFrame. \n",
        "#If you set drop = True , the current index will be deleted entirely and the numeric index will replace it."
      ],
      "execution_count": 94,
      "outputs": [
        {
          "output_type": "stream",
          "text": [
            "          0         1\n",
            "0  0.796405  0.203595\n",
            "1  0.862599  0.137401\n",
            "2  0.880378  0.119622\n",
            "3  0.692560  0.307440\n",
            "4  0.494215  0.505785\n",
            "   loan_status  prob_default\n",
            "0            0      0.203595\n",
            "1            0      0.137401\n",
            "2            0      0.119622\n",
            "3            0      0.307440\n",
            "4            0      0.505785\n"
          ],
          "name": "stdout"
        }
      ]
    },
    {
      "cell_type": "markdown",
      "metadata": {
        "id": "nOorOJqx2QWj"
      },
      "source": [
        "Let us run some classification reports to check our model's performance"
      ]
    },
    {
      "cell_type": "code",
      "metadata": {
        "colab": {
          "base_uri": "https://localhost:8080/"
        },
        "id": "UgpbNyF82vEc",
        "outputId": "1f8de4ea-0e2a-40f1-eefb-77c1ee8f3548"
      },
      "source": [
        "from sklearn.metrics import classification_report\n",
        "\n",
        "# Create a dataframe for the probabilities of default\n",
        "preds_df = pd.DataFrame(preds[:,1], columns = ['prob_default'])\n",
        "\n",
        "log_preds_df = preds_df\n",
        "\n",
        "\n",
        "#As all probs are in 0 to 1, we need to call them default or not or 0 or 1 to simply measure them up to y_test.\n",
        "\n",
        "# Reassign loan status based on the threshold\n",
        "preds_df['loan_status'] = preds_df['prob_default'].apply(lambda x: 1 if x > 0.50 else 0)\n",
        "\n",
        "# Print the row counts for each loan status\n",
        "print(preds_df['loan_status'].value_counts())\n",
        "\n",
        "# Print the classification report\n",
        "target_names = ['Non-Default', 'Default']\n",
        "print(classification_report(y_test, preds_df['loan_status'], target_names=target_names))     #as values are as 0,1 in inputs of classification, we enter target_names in same order"
      ],
      "execution_count": 95,
      "outputs": [
        {
          "output_type": "stream",
          "text": [
            "0    10861\n",
            "1      925\n",
            "Name: loan_status, dtype: int64\n",
            "              precision    recall  f1-score   support\n",
            "\n",
            " Non-Default       0.81      0.96      0.88      9194\n",
            "     Default       0.62      0.22      0.33      2592\n",
            "\n",
            "    accuracy                           0.80     11786\n",
            "   macro avg       0.72      0.59      0.61     11786\n",
            "weighted avg       0.77      0.80      0.76     11786\n",
            "\n"
          ],
          "name": "stdout"
        }
      ]
    },
    {
      "cell_type": "markdown",
      "metadata": {
        "id": "O6T5lbhF3R0R"
      },
      "source": [
        "The recall for defaults is 0.22 meaning 22% of our true defaults were predicted correctly.\n",
        "\n",
        "Recall is the number of relevant documents retrieved by a search divided by the total number of existing relevant documents, while precision is the number of relevant documents retrieved by a search divided by the total number of documents retrieved by that search.\n",
        "\n",
        "So precision is how precise you were , out of all you predicted how many are precisely correct.\n",
        "Recall is out of whole relevant ones, how many did you manage to predict."
      ]
    },
    {
      "cell_type": "markdown",
      "metadata": {
        "id": "F1trOr7t3-Um"
      },
      "source": [
        "The classification_report() has many different metrics within it, but you may not always want to print out the full report. Sometimes you just want specific values to compare models or use for other purposes.\n",
        "\n",
        "There is a function within scikit-learn that pulls out the values for you. That function is precision_recall_fscore_support() and it takes in the same parameters as classification_report.\n",
        "\n",
        "It is imported and used like this:\n",
        "\n",
        "`Import function\n",
        "from sklearn.metrics import precision_recall_fscore_support\n",
        "`Select all non-averaged values from the report\n",
        "precision_recall_fscore_support(y_true,predicted_values)"
      ]
    },
    {
      "cell_type": "code",
      "metadata": {
        "colab": {
          "base_uri": "https://localhost:8080/"
        },
        "id": "c6vlycbL4Qcr",
        "outputId": "9b56c92b-aa7b-45a3-e3cd-e371ccd80170"
      },
      "source": [
        "from sklearn.metrics import precision_recall_fscore_support\n",
        "\n",
        "# Print the classification report\n",
        "target_names = ['Non-Default', 'Default']\n",
        "print(classification_report(y_test, preds_df['loan_status'], target_names=target_names))\n",
        "\n",
        "# Print all the non-average values from the report\n",
        "print(precision_recall_fscore_support(y_test,preds_df['loan_status']))\n",
        "\n",
        "# Print the first two numbers from the report\n",
        "print(precision_recall_fscore_support(y_test,preds_df['loan_status'])[0])\n",
        "\n",
        "\n"
      ],
      "execution_count": 96,
      "outputs": [
        {
          "output_type": "stream",
          "text": [
            "              precision    recall  f1-score   support\n",
            "\n",
            " Non-Default       0.81      0.96      0.88      9194\n",
            "     Default       0.62      0.22      0.33      2592\n",
            "\n",
            "    accuracy                           0.80     11786\n",
            "   macro avg       0.72      0.59      0.61     11786\n",
            "weighted avg       0.77      0.80      0.76     11786\n",
            "\n",
            "(array([0.81447381, 0.62378378]), array([0.96214923, 0.22260802]), array([0.88217402, 0.32812056]), array([9194, 2592]))\n",
            "[0.81447381 0.62378378]\n"
          ],
          "name": "stdout"
        }
      ]
    },
    {
      "cell_type": "code",
      "metadata": {
        "colab": {
          "base_uri": "https://localhost:8080/",
          "height": 297
        },
        "id": "PENVMXXl7rVU",
        "outputId": "1708032f-2369-4d00-ed1e-4f5e8752b8b0"
      },
      "source": [
        "from sklearn.metrics import roc_curve, roc_auc_score\n",
        "\n",
        "# Create predictions and store them in a variable\n",
        "preds = clf_logistic.predict_proba(X_test)\n",
        "\n",
        "# Print the accuracy score the model\n",
        "print(clf_logistic.score(X_test, y_test))\n",
        "\n",
        "# Plot the ROC curve of the probabilities of default\n",
        "prob_default = preds[:, 1]\n",
        "fallout, sensitivity, thresholds = roc_curve(y_test, prob_default)            #fallout, sensitivity is just a way of saying precision and recall\n",
        "plt.plot(fallout, sensitivity, color = 'darkorange')\n",
        "plt.plot([0, 1], [0, 1], linestyle='--')\n",
        "plt.show()\n",
        "\n",
        "# Compute the AUC and store it in a variable\n",
        "auc = roc_auc_score(y_test, prob_default) \n",
        "\n",
        "print(auc)\n",
        "\n",
        "\n",
        "#what the ROC chart shows us is the tradeoff between all values of our false positive rate (fallout) and true positive rate (sensitivity).#                                      #roc is plotted bw labels, i.e y_test and prob_default or probabilities predicted"
      ],
      "execution_count": 97,
      "outputs": [
        {
          "output_type": "stream",
          "text": [
            "0.7995078907178008\n"
          ],
          "name": "stdout"
        },
        {
          "output_type": "display_data",
          "data": {
            "image/png": "[encoded data removed]",
            "text/plain": [
              "<Figure size 432x288 with 1 Axes>"
            ]
          },
          "metadata": {
            "tags": [],
            "needs_background": "light"
          }
        },
        {
          "output_type": "stream",
          "text": [
            "0.7437090992313827\n"
          ],
          "name": "stdout"
        }
      ]
    },
    {
      "cell_type": "code",
      "metadata": {
        "colab": {
          "base_uri": "https://localhost:8080/"
        },
        "id": "G1x9cr4S9OjU",
        "outputId": "3de8ddc1-ee54-483d-e6f8-d0926e01eab5"
      },
      "source": [
        "from sklearn.metrics import confusion_matrix\n",
        "# Set the threshold for defaults to 0.5\n",
        "preds_df['loan_status'] = preds_df['prob_default'].apply(lambda x: 1 if x > 0.5 else 0)\n",
        "\n",
        "# Print the confusion matrix\n",
        "print(confusion_matrix(y_test,preds_df['loan_status']))\n",
        "\n",
        "# Set the threshold for defaults to 0.4\n",
        "preds_df['loan_status'] = preds_df['prob_default'].apply(lambda x: 1 if x > 0.4 else 0)\n",
        "\n",
        "# Print the confusion matrix\n",
        "print(confusion_matrix(y_test,preds_df['loan_status']))"
      ],
      "execution_count": 98,
      "outputs": [
        {
          "output_type": "stream",
          "text": [
            "[[8846  348]\n",
            " [2015  577]]\n",
            "[[8074 1120]\n",
            " [1477 1115]]\n"
          ],
          "name": "stdout"
        }
      ]
    },
    {
      "cell_type": "markdown",
      "metadata": {
        "id": "T5zDgypq94BA"
      },
      "source": [
        "format of confusion matrix looks like , \n",
        "![image.png](data:image/png;base64,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)"
      ]
    },
    {
      "cell_type": "markdown",
      "metadata": {
        "id": "IRfxSSp_-P1V"
      },
      "source": [
        "#which threshold gives us the highest value for default recall?\n",
        "\n",
        "Answer is recall for default is 4th cell, and highest with prob threshold of 0.4"
      ]
    },
    {
      "cell_type": "code",
      "metadata": {
        "colab": {
          "base_uri": "https://localhost:8080/"
        },
        "id": "6S3zljA--kC6",
        "outputId": "436c96f9-933a-4534-e63d-88ce1a1a83eb"
      },
      "source": [
        "avg_loan_amnt = cr_loan_prep['loan_amnt'].mean()\n",
        "\n",
        "# Reassign the values of loan status based on the new threshold\n",
        "preds_df['loan_status'] = preds_df['prob_default'].apply(lambda x: 1 if x > 0.4 else 0)\n",
        "\n",
        "# Store the number of loan defaults from the prediction data\n",
        "num_defaults = preds_df['loan_status'].value_counts()[1]\n",
        "\n",
        "# Store the default recall from the classification report\n",
        "default_recall = precision_recall_fscore_support(y_test,preds_df['loan_status'])[1][1]\n",
        "\n",
        "# Calculate the estimated impact of the new default recall rate\n",
        "print(num_defaults * avg_loan_amnt * (1 - default_recall))"
      ],
      "execution_count": 99,
      "outputs": [
        {
          "output_type": "stream",
          "text": [
            "12206848.964421853\n"
          ],
          "name": "stdout"
        }
      ]
    },
    {
      "cell_type": "markdown",
      "metadata": {
        "id": "m9x4flDD-odk"
      },
      "source": [
        "^ wow, a brilliant code up above\n",
        "\n",
        "first line - set threshold to 0.4 and change values to 1 for default and 0 for non.\n",
        "\n",
        "second- count values of 0s and 1s, and save 1s in num_defaults, it gives how many cases default happened\n",
        "\n",
        "third- after running this precision_recall_f_support code, choose the 4th element or [1] row, [1] column.\n",
        "\n",
        "Fourth and the most imp-\n",
        "\n",
        "number of default * avg loan amt gives us how much we defaulted = a\n",
        "but a multiplied by (1-default_recall), where (1-default recall) gives us what percentage we didn't correctly see as default, or how many defaults did we miss\n",
        "\n",
        "so a *(1-default_recall) gives amount that can go default, that our model didn't predict."
      ]
    },
    {
      "cell_type": "markdown",
      "metadata": {
        "id": "LooVUpjmByTB"
      },
      "source": [
        "By our estimates, this loss would be around $12 million."
      ]
    },
    {
      "cell_type": "markdown",
      "metadata": {
        "id": "am-apdK5CGFr"
      },
      "source": [
        "~Threshold selection\n",
        "\n",
        "You know there is a trade off between metrics like default recall, non-default recall, and model accuracy. One easy way to approximate a good starting threshold value is to look at a plot of all three using matplotlib. With this graph, you can see how each of these metrics look as you change the threshold values and find the point at which the performance of all three is good enough to use for the credit data."
      ]
    },
    {
      "cell_type": "code",
      "metadata": {
        "colab": {
          "base_uri": "https://localhost:8080/",
          "height": 278
        },
        "id": "9Txz5uXfAYDa",
        "outputId": "493239a2-0a9e-4b12-d126-a4d8f5ea7a34"
      },
      "source": [
        "thresh = [0.2, 0.225, 0.25, 0.275, 0.3, 0.325, 0.35, 0.375,0.4,0.425,0.45,0.475,0.5,0.525,0.55,0.575,0.6,0.625,0.65]\n",
        "ticks = [0.2, 0.25, 0.3, 0.35, 0.4, 0.45, 0.5, 0.55, 0.6, 0.65]\n",
        "def_recalls = [0.7981438515081206, 0.7583139984532096, 0.7157772621809745, 0.6759474091260634, 0.6349574632637278, 0.594354215003867, 0.5467904098994586, 0.5054137664346481,\n",
        " 0.46403712296983757, 0.39984532095901004, 0.32211910286156226, 0.2354988399071926, 0.16782675947409126, 0.1148491879350348, 0.07733952049497293, 0.05529775715390565,\n",
        " 0.03750966744006187, 0.026295436968290797, 0.017788089713843776]\n",
        "nondef_recalls = [0.5342465753424658, 0.5973037616873234, 0.6552511415525114, 0.708306153511633, 0.756468797564688, 0.8052837573385518, 0.8482278756251359, 0.8864970645792564,\n",
        " 0.9215046749293324, 0.9492280930637095, 0.9646662317895195, 0.9733637747336378, 0.9809741248097412, 0.9857577734290063, 0.9902152641878669, 0.992280930637095, 0.9948901935203305,\n",
        " 0.9966297021091541, 0.997499456403566]\n",
        "\n",
        "accs = [0.5921588594704684, 0.6326374745417516, 0.6685336048879837, 0.7012050237610319, 0.7298031228784793, 0.7589952477936185, 0.7820773930753564, 0.8028682959945689,\n",
        " 0.8211133740665308, 0.8286659877800407, 0.8236591989137814, 0.811439239646979, 0.8025288526816021, 0.7946367956551256, 0.7898845892735913, 0.7866598778004074, 0.7847929395790902,\n",
        " 0.7836897488119484, 0.7825016972165648]\n",
        "\n",
        "\n",
        "\n",
        "plt.plot(thresh,def_recalls)\n",
        "plt.plot(thresh,nondef_recalls)\n",
        "plt.plot(thresh,accs)\n",
        "plt.xlabel(\"Probability Threshold\")\n",
        "plt.xticks(ticks)\n",
        "plt.legend([\"Default Recall\",\"Non-default Recall\",\"Model Accuracy\"])\n",
        "plt.show()"
      ],
      "execution_count": 100,
      "outputs": [
        {
          "output_type": "display_data",
          "data": {
            "image/png": "[encoded data removed]",
            "text/plain": [
              "<Figure size 432x288 with 1 Axes>"
            ]
          },
          "metadata": {
            "tags": [],
            "needs_background": "light"
          }
        }
      ]
    },
    {
      "cell_type": "markdown",
      "metadata": {
        "id": "Oy9ynCBmDtwk"
      },
      "source": [
        "2.75 it's the point where all three lines converge. This threshold would make a great starting point, but declaring all loans about 0.275 to be a default is probably not practical. But it would maximize these scores evenly"
      ]
    },
    {
      "cell_type": "markdown",
      "metadata": {
        "id": "FYVmps7gBwVW"
      },
      "source": [
        "#Gradient boosted trees with XGBoost\n"
      ]
    },
    {
      "cell_type": "code",
      "metadata": {
        "colab": {
          "base_uri": "https://localhost:8080/"
        },
        "id": "4GWy0YjXCKsy",
        "outputId": "94b18940-ff9d-44c1-e71f-31de7fff7b31"
      },
      "source": [
        "# Train a model\n",
        "import xgboost as xgb\n",
        "clf_gbt = xgb.XGBClassifier().fit(X_train, np.ravel(y_train))\n",
        "\n",
        "# Predict with a model\n",
        "gbt_preds = clf_gbt.predict_proba(X_test)\n",
        "\n",
        "# Create dataframes of first five predictions, and first five true labels\n",
        "preds_df = pd.DataFrame(gbt_preds[:,1][0:5], columns = ['prob_default'])\n",
        "true_df = y_test.head()\n",
        "\n",
        "print(true_df)\n",
        "\n",
        "#as you see loan status already has an index column with random numbers, they are needed to be replaced by 0,1,2,3. hence we do reset_index\n",
        "\n",
        "# Concatenate and print the two data frames for comparison\n",
        "print(pd.concat([true_df.reset_index(drop = True), preds_df], axis = 1))"
      ],
      "execution_count": 101,
      "outputs": [
        {
          "output_type": "stream",
          "text": [
            "       loan_status\n",
            "30015            0\n",
            "22648            0\n",
            "9634             0\n",
            "3455             0\n",
            "16426            0\n",
            "   loan_status  prob_default\n",
            "0            0      0.125217\n",
            "1            0      0.138303\n",
            "2            0      0.024192\n",
            "3            0      0.163811\n",
            "4            0      0.402502\n"
          ],
          "name": "stdout"
        }
      ]
    },
    {
      "cell_type": "markdown",
      "metadata": {
        "id": "ccfBzSfcD8Qu"
      },
      "source": [
        "Now, a random portfolio withprob. of default from both the models, loss given default = 20%, and loan amount, i.e. the exposure at default is created,\n",
        "\n",
        "^ This data is not with us, it is in Datacamp's env only. but it looks like this.\n",
        "\n",
        "print(portfolio.head())\n",
        "\n",
        "   gbt_prob_default  lr_prob_default  lgd  loan_amnt\n",
        "0          0.940435         0.445779  0.2      15000\n",
        "1          0.922014         0.223447  0.2      11200\n",
        "2          0.021707         0.288558  0.2      15000\n",
        "3          0.026483         0.169358  0.2      10800\n",
        "4          0.064803         0.114182  0.2       3000"
      ]
    },
    {
      "cell_type": "code",
      "metadata": {
        "colab": {
          "base_uri": "https://localhost:8080/",
          "height": 223
        },
        "id": "u7Ce55FRETBZ",
        "outputId": "613179c3-dc4b-4774-f1a2-8f41dbe1aa55"
      },
      "source": [
        "# Print the first five rows of the portfolio data frame\n",
        "print(portfolio.head())\n",
        "\n",
        "# Create expected loss columns for each model using the formula\n",
        "\n",
        "#remember, expected loss = PD*EAD*LGD\n",
        "\n",
        "portfolio['gbt_expected_loss'] = portfolio['gbt_prob_default'] * portfolio['lgd'] * portfolio['loan_amnt']\n",
        "portfolio['lr_expected_loss'] = portfolio['lr_prob_default'] * portfolio['lgd'] * portfolio['loan_amnt']\n",
        "\n",
        "# Print the sum of the expected loss for lr\n",
        "print('LR expected loss: ', np.sum(portfolio['lr_expected_loss']))\n",
        "\n",
        "# Print the sum of the expected loss for gbt\n",
        "print('GBT expected loss: ', np.sum(portfolio['gbt_expected_loss']))"
      ],
      "execution_count": 102,
      "outputs": [
        {
          "output_type": "error",
          "ename": "NameError",
          "evalue": "ignored",
          "traceback": [
            "\u001b[0;31m---------------------------------------------------------------------------\u001b[0m",
            "\u001b[0;31mNameError\u001b[0m                                 Traceback (most recent call last)",
            "\u001b[0;32m<ipython-input-102-6c9dd163d085>\u001b[0m in \u001b[0;36m<module>\u001b[0;34m()\u001b[0m\n\u001b[1;32m      1\u001b[0m \u001b[0;31m# Print the first five rows of the portfolio data frame\u001b[0m\u001b[0;34m\u001b[0m\u001b[0;34m\u001b[0m\u001b[0;34m\u001b[0m\u001b[0m\n\u001b[0;32m----> 2\u001b[0;31m \u001b[0mprint\u001b[0m\u001b[0;34m(\u001b[0m\u001b[0mportfolio\u001b[0m\u001b[0;34m.\u001b[0m\u001b[0mhead\u001b[0m\u001b[0;34m(\u001b[0m\u001b[0;34m)\u001b[0m\u001b[0;34m)\u001b[0m\u001b[0;34m\u001b[0m\u001b[0;34m\u001b[0m\u001b[0m\n\u001b[0m\u001b[1;32m      3\u001b[0m \u001b[0;34m\u001b[0m\u001b[0m\n\u001b[1;32m      4\u001b[0m \u001b[0;31m# Create expected loss columns for each model using the formula\u001b[0m\u001b[0;34m\u001b[0m\u001b[0;34m\u001b[0m\u001b[0;34m\u001b[0m\u001b[0m\n\u001b[1;32m      5\u001b[0m \u001b[0;34m\u001b[0m\u001b[0m\n",
            "\u001b[0;31mNameError\u001b[0m: name 'portfolio' is not defined"
          ]
        }
      ]
    },
    {
      "cell_type": "markdown",
      "metadata": {
        "id": "Ki3IeLxzE76n"
      },
      "source": [
        "Output:\n",
        "\n",
        "LR expected loss:  5596776.979852879;\n",
        "\n",
        "GBT expected loss:  5447712.9423716515\n",
        "\n",
        "So, as we want the expected loss to be lower, Gradient boost method shows us what we want to see for now. Not neccesarily accurate."
      ]
    },
    {
      "cell_type": "markdown",
      "metadata": {
        "id": "4gkGuFmFHb-Y"
      },
      "source": [
        "Assessing gradient boosted trees\n",
        "\n",
        "So you've now used XGBClassifier() models to predict probability of default using predict_proba. But these models can also use the .predict() method for creating predictions that give the actual class for loan_status.\n",
        "\n",
        "You should check the model's initial performance by looking at the metrics from the classification_report(). "
      ]
    },
    {
      "cell_type": "code",
      "metadata": {
        "colab": {
          "base_uri": "https://localhost:8080/"
        },
        "id": "_0M5A5UMHvHE",
        "outputId": "508e35ea-d209-491a-8fe4-33549e24b7a0"
      },
      "source": [
        "# Predict the labels for loan status\n",
        "gbt_preds = clf_gbt.predict(X_test)\n",
        "\n",
        "preds_df_gbt = pd.DataFrame(gbt_preds)\n",
        "\n",
        "# Check the values created by the predict method\n",
        "print(gbt_preds)\n",
        "\n",
        "# Print the classification report of the model\n",
        "target_names = ['Non-Default', 'Default']\n",
        "print(classification_report(y_test, gbt_preds, target_names=target_names))   # so, classification report(actual, predicted, name them/label as nd-0, d-1)"
      ],
      "execution_count": 103,
      "outputs": [
        {
          "output_type": "stream",
          "text": [
            "[0 0 0 ... 0 0 0]\n",
            "              precision    recall  f1-score   support\n",
            "\n",
            " Non-Default       0.85      0.96      0.90      9194\n",
            "     Default       0.76      0.40      0.52      2592\n",
            "\n",
            "    accuracy                           0.84     11786\n",
            "   macro avg       0.80      0.68      0.71     11786\n",
            "weighted avg       0.83      0.84      0.82     11786\n",
            "\n"
          ],
          "name": "stdout"
        }
      ]
    },
    {
      "cell_type": "markdown",
      "metadata": {
        "id": "m8QOf-e5IGk5"
      },
      "source": [
        "It is showing better results than earlier one.\n",
        "Almost all Non-defaults predicted correctly."
      ]
    },
    {
      "cell_type": "markdown",
      "metadata": {
        "id": "4cjjq1Ak5dJJ"
      },
      "source": [
        "Column importances"
      ]
    },
    {
      "cell_type": "code",
      "metadata": {
        "colab": {
          "base_uri": "https://localhost:8080/",
          "height": 331
        },
        "id": "2FxQDDz25bOa",
        "outputId": "8107c775-b69e-41ab-eb75-1732093e3208"
      },
      "source": [
        "from sklearn.model_selection import train_test_split\n",
        "\n",
        "# Create the X and y data sets\n",
        "X = cr_loan_prep.drop(columns=['loan_status'])\n",
        "#X = cr_loan_clean.drop(['loan_status'], axis = 1) #Can use wither of two, axis = 1 specifies we want to drop col wise.\n",
        "y = cr_loan_prep[['loan_status']]\n",
        "\n",
        "# Use test_train_split to create the training and test sets\n",
        "X_train, X_test, y_train, y_test = train_test_split(X, y, test_size=.4, random_state=123)\n",
        "\n",
        "\n",
        "# Create and train the model on the training data\n",
        "clf_gbt = xgb.XGBClassifier().fit(X_train,np.ravel(y_train))\n",
        "\n",
        "# Print the column importances from the model\n",
        "print(clf_gbt.get_booster().get_score(importance_type = 'weight'))\n",
        "\n",
        "xgb.plot_importance(clf_gbt, importance_type = 'weight')\n",
        "plt.show()"
      ],
      "execution_count": 104,
      "outputs": [
        {
          "output_type": "stream",
          "text": [
            "{'loan_percent_income': 62, 'loan_int_rate': 110, 'person_income': 123, 'person_emp_length': 23, 'person_home_ownership_RENT': 51, 'loan_grade_C': 9, 'loan_intent_DEBTCONSOLIDATION': 26, 'loan_grade_D': 33, 'loan_intent_MEDICAL': 28, 'person_home_ownership_OWN': 42, 'loan_intent_HOMEIMPROVEMENT': 25, 'loan_intent_VENTURE': 20, 'loan_grade_E': 17, 'loan_intent_EDUCATION': 6, 'cb_person_cred_hist_length': 1, 'person_home_ownership_OTHER': 4, 'loan_grade_G': 14, 'loan_amnt': 9, 'cb_person_default_on_file_N': 1, 'person_home_ownership_MORTGAGE': 2, 'person_age': 4, 'loan_grade_F': 1}\n"
          ],
          "name": "stdout"
        },
        {
          "output_type": "display_data",
          "data": {
            "image/png": "[encoded data removed]",
            "text/plain": [
              "<Figure size 432x288 with 1 Axes>"
            ]
          },
          "metadata": {
            "tags": [],
            "needs_background": "light"
          }
        }
      ]
    },
    {
      "cell_type": "markdown",
      "metadata": {
        "id": "LjG84y5e84Au"
      },
      "source": [
        "Now you can create multiple training sets,keeping only few columns at a time..\n",
        "Foll code is just pseudo code to drive home the idea that how to do that. Define new X_trains and run on them, and get classfication report to see F1 score to see how both accuracy and recall are affected.\n",
        "A high F1 score for default will show both precision and recall are correct."
      ]
    },
    {
      "cell_type": "code",
      "metadata": {
        "id": "Of26pbDs8Rsz",
        "colab": {
          "base_uri": "https://localhost:8080/"
        },
        "outputId": "fe6befb5-5493-4756-a498-2d10029cafb9"
      },
      "source": [
        "# Create and train the model on the training data\n",
        "clf_gbt = xgb.XGBClassifier().fit(X_train,np.ravel(y_train))\n",
        "\n",
        "# Print the column importances from the model\n",
        "print(clf_gbt.get_booster().get_score(importance_type = 'weight'))"
      ],
      "execution_count": 105,
      "outputs": [
        {
          "output_type": "stream",
          "text": [
            "{'loan_percent_income': 62, 'loan_int_rate': 110, 'person_income': 123, 'person_emp_length': 23, 'person_home_ownership_RENT': 51, 'loan_grade_C': 9, 'loan_intent_DEBTCONSOLIDATION': 26, 'loan_grade_D': 33, 'loan_intent_MEDICAL': 28, 'person_home_ownership_OWN': 42, 'loan_intent_HOMEIMPROVEMENT': 25, 'loan_intent_VENTURE': 20, 'loan_grade_E': 17, 'loan_intent_EDUCATION': 6, 'cb_person_cred_hist_length': 1, 'person_home_ownership_OTHER': 4, 'loan_grade_G': 14, 'loan_amnt': 9, 'cb_person_default_on_file_N': 1, 'person_home_ownership_MORTGAGE': 2, 'person_age': 4, 'loan_grade_F': 1}\n"
          ],
          "name": "stdout"
        }
      ]
    },
    {
      "cell_type": "code",
      "metadata": {
        "id": "QDSSHHTc8aAq"
      },
      "source": [
        "# Train a model on the X data with 3 columns\n",
        "clf_gbt3 = xgb.XGBClassifier().fit(X3_train,np.ravel(y_train))\n",
        "\n",
        "# Plot the column importance for this model\n",
        "xgb.plot_importance(clf_gbt3, importance_type = 'weight')\n",
        "plt.show()"
      ],
      "execution_count": null,
      "outputs": []
    },
    {
      "cell_type": "code",
      "metadata": {
        "id": "U-xvm8UQ8tqp"
      },
      "source": [
        "# Predict the loan_status using each model\n",
        "gbt_preds = gbt.predict(X_test)\n",
        "gbt2_preds = gbt2.predict(X2_test)\n",
        "\n",
        "# Print the classification report of the first model\n",
        "target_names = ['Non-Default', 'Default']\n",
        "print(classification_report(y_test, gbt_preds, target_names=target_names))\n",
        "\n",
        "# Print the classification report of the second model\n",
        "print(classification_report(y_test, gbt2_preds, target_names=target_names))"
      ],
      "execution_count": null,
      "outputs": []
    },
    {
      "cell_type": "markdown",
      "metadata": {
        "id": "M_mDKtuEBIob"
      },
      "source": [
        "#Cross validating credit models\n",
        "\n",
        "Quite imp\n",
        "\n",
        "First we see the difficult way, then we do the easy way."
      ]
    },
    {
      "cell_type": "code",
      "metadata": {
        "colab": {
          "base_uri": "https://localhost:8080/"
        },
        "id": "y07gdPm-BL7a",
        "outputId": "9d344e10-adab-47ce-9ee5-63494e06fc5e"
      },
      "source": [
        "#First way\n",
        "\n",
        "# Set the values for number of folds and stopping iterations\n",
        "n_folds = 5\n",
        "early_stopping = 10              #It is a number when we stop our iterations. Because after a while, the performance starts to saturate and not improve further\n",
        "\n",
        "params = {'objective': 'binary:logistic', 'seed': 123, 'eval_metric': 'auc'}   #params has to be a dictionary, with objective - binary logistic, i.e \n",
        "#predict if default or not defaulted (1/0). seed we know to reproduce. eval_metric is increase the area under curve.\n",
        "\n",
        "\n",
        "# Create the DTrain matrix for XGBoost\n",
        "DTrain = xgb.DMatrix(X_train, label = y_train)          #DMatrix is a way of creating a data matrix that can be k-folded\n",
        "# Create the data frame of cross validations\n",
        "\n",
        "\n",
        "cv_df = xgb.cv(params, DTrain, num_boost_round = 5, nfold=n_folds,          #xgb.cv is the key code here, rest are just parameters passed\n",
        "            early_stopping_rounds=early_stopping)\n",
        "\n",
        "# Print the cross validations data frame\n",
        "print(cv_df)"
      ],
      "execution_count": 106,
      "outputs": [
        {
          "output_type": "stream",
          "text": [
            "   train-auc-mean  train-auc-std  test-auc-mean  test-auc-std\n",
            "0        0.895947       0.002251       0.891604      0.009428\n",
            "1        0.902931       0.003206       0.897648      0.008133\n",
            "2        0.911380       0.001820       0.905553      0.007240\n",
            "3        0.915385       0.000750       0.908138      0.008153\n",
            "4        0.920330       0.001100       0.912328      0.006981\n"
          ],
          "name": "stdout"
        }
      ]
    },
    {
      "cell_type": "markdown",
      "metadata": {
        "id": "0srMovMXCIsK"
      },
      "source": [
        "^ so we see that as we go from 1st set of fold -train and 1st test to 2nd..that is one iteration.\n",
        "And the performace is increasing if train/test-auc-mean is increasing. Std similarily should decrease\n",
        "\n",
        "you see how the AUC for both train-auc-mean and test-auc-mean improves at each iteration of cross-validation? As the iterations progress the scores get better, but will they eventually reach 1.0?"
      ]
    },
    {
      "cell_type": "code",
      "metadata": {
        "colab": {
          "base_uri": "https://localhost:8080/",
          "height": 408
        },
        "id": "KyHHhHOcFl5z",
        "outputId": "8552376f-235f-4aa0-9ba0-5010acd0dfbd"
      },
      "source": [
        "import matplotlib.pyplot as plt\n",
        "\n",
        "cv_results_big = xgb.cv(params, DTrain, num_boost_round = 600, nfold=10,\n",
        "            shuffle = True)\n",
        "\n",
        "# Print the first five rows of the CV results data frame\n",
        "print(cv_results_big.head())\n",
        "\n",
        "# Calculate the mean of the test AUC scores\n",
        "print(np.mean(cv_results_big['test-auc-mean']))  #.round(2))\n",
        "\n",
        "# Plot the test AUC scores for each iteration\n",
        "plt.plot(cv_results_big['test-auc-mean'])\n",
        "plt.title('Test AUC Score Over 600 Iterations')\n",
        "plt.xlabel('Iteration Number')\n",
        "plt.ylabel('Test AUC Score')\n",
        "plt.show()"
      ],
      "execution_count": 107,
      "outputs": [
        {
          "output_type": "stream",
          "text": [
            "   train-auc-mean  train-auc-std  test-auc-mean  test-auc-std\n",
            "0        0.896007       0.002084       0.891142      0.013071\n",
            "1        0.903197       0.001911       0.897610      0.011157\n",
            "2        0.911369       0.001791       0.904430      0.011304\n",
            "3        0.915447       0.001476       0.907551      0.010186\n",
            "4        0.920176       0.001249       0.911863      0.009559\n",
            "0.9433009021666663\n"
          ],
          "name": "stdout"
        },
        {
          "output_type": "display_data",
          "data": {
            "image/png": "[encoded data removed]",
            "text/plain": [
              "<Figure size 432x288 with 1 Axes>"
            ]
          },
          "metadata": {
            "tags": [],
            "needs_background": "light"
          }
        }
      ]
    },
    {
      "cell_type": "markdown",
      "metadata": {
        "id": "XSK9PIkRF_cC"
      },
      "source": [
        "Notice that the test AUC score never quite reaches 1.0 and begins to decrease slightly after 100 iterations. This is because this much cross-validation can actually cause the model to become overfit. "
      ]
    },
    {
      "cell_type": "markdown",
      "metadata": {
        "id": "SBveOd0VGKh7"
      },
      "source": [
        "#Second way to cross-validate, much easier\n",
        "\n",
        "It combines the above huge code in just 1-2 lines"
      ]
    },
    {
      "cell_type": "code",
      "metadata": {
        "colab": {
          "base_uri": "https://localhost:8080/"
        },
        "id": "rU4vYMf5GFoU",
        "outputId": "96e25624-6093-4a18-dc05-8a96626760f3"
      },
      "source": [
        "from sklearn.model_selection import cross_val_score\n",
        "# Create a gradient boosted tree model using two hyperparameters\n",
        "gbt = xgb.XGBClassifier(learning_rate = 0.1, max_depth = 7)             #specify instance of model with hyperparameters\n",
        "\n",
        "# Calculate the cross validation scores for 4 folds\n",
        "cv_scores = cross_val_score(gbt, X_train, np.ravel(y_train), cv = 4)          #to get the cv_results , unlike above-simply use cross_val_score. gives us everything we need.\n",
        "\n",
        "                                                                          # pass in the model, X and y, and specify how many folds, so cv= cross val folds = 4\n",
        "# Print the cross validation scores\n",
        "print(cv_scores)\n",
        "\n",
        "# Print the average accuracy and standard deviation of the scores\n",
        "print(\"Average accuracy: %0.2f (+/- %0.2f)\" % (cv_scores.mean(),\n",
        "                                              cv_scores.std() * 2))"
      ],
      "execution_count": 108,
      "outputs": [
        {
          "output_type": "stream",
          "text": [
            "[0.93574661 0.92986425 0.93506787 0.92984838]\n",
            "Average accuracy: 0.93 (+/- 0.01)\n"
          ],
          "name": "stdout"
        }
      ]
    },
    {
      "cell_type": "markdown",
      "metadata": {
        "id": "xyaQ5XzBJKrj"
      },
      "source": [
        "#How to resolve class imbalance\n",
        "Ofcourse, a non-default classified as default is less damaging than a default classified as non-default\n",
        "\n",
        "1. Get more data\n",
        "2. Custom loss function\n",
        "3. Resample data\n",
        "\n",
        "Let us try resampling data"
      ]
    },
    {
      "cell_type": "code",
      "metadata": {
        "colab": {
          "base_uri": "https://localhost:8080/"
        },
        "id": "_tfJvt4EJbZD",
        "outputId": "86dfd526-6ef2-41f6-cb9d-87de38de6476"
      },
      "source": [
        "X_y_train = pd.concat([X_train.reset_index(drop = True),\n",
        "                       y_train.reset_index(drop = True)], axis = 1) #combined our data, as we want all train data to be resampled.\n",
        "\n",
        "\n",
        "count_nondefault, count_default = X_y_train['loan_status'].value_counts()\n",
        "\n",
        "# Create data sets for defaults and non-defaults\n",
        "nondefaults = X_y_train[X_y_train['loan_status'] == 0]\n",
        "defaults = X_y_train[X_y_train['loan_status'] == 1]\n",
        "\n",
        "# Undersample the non-defaults\n",
        "nondefaults_under = nondefaults.sample(count_default)     #If out of 100 samples, there are 20 defaults, in our new data set, we want only 20 non-defaults then. This is resampling\n",
        "\n",
        "# Concatenate the undersampled nondefaults with defaults\n",
        "X_y_train_under = pd.concat([nondefaults_under.reset_index(drop = True),\n",
        "                             defaults.reset_index(drop = True)], axis = 0)            #concat these 2 again, ie total all defaults and non defaults = count of defaults\n",
        "\n",
        "# Print the value counts for loan status\n",
        "print(X_y_train_under['loan_status'].value_counts())"
      ],
      "execution_count": 109,
      "outputs": [
        {
          "output_type": "stream",
          "text": [
            "1    3872\n",
            "0    3872\n",
            "Name: loan_status, dtype: int64\n"
          ],
          "name": "stdout"
        }
      ]
    },
    {
      "cell_type": "markdown",
      "metadata": {
        "id": "-GGcUE7NKMLv"
      },
      "source": [
        "Now, our training set has an even number of defaults and non-defaults. Let's test out some machine learning models on this new undersampled data set and compare their performance to the models trained on the regular data set."
      ]
    },
    {
      "cell_type": "code",
      "metadata": {
        "colab": {
          "base_uri": "https://localhost:8080/"
        },
        "id": "bsMMD-rEKh2a",
        "outputId": "902dfe8d-db6f-4bc7-c1a9-031c2ee22c07"
      },
      "source": [
        "# Train a model on the old data\n",
        "gbt = xgb.XGBClassifier().fit(X_train, np.ravel(y_train))\n",
        "\n",
        "\n",
        "#Create train_test_split on the NEW data\n",
        "\n",
        "X_under = X_y_train_under.drop(['loan_status'], axis = 1)\n",
        "y_under = X_y_train_under['loan_status']\n",
        "\n",
        "# Use test_train_split to create the NEW training and test sets\n",
        "X_train_under, X_test_under, y_train_under, y_test_under = train_test_split(X_under, y_under, test_size=.4, random_state=123)\n",
        "\n",
        "#Another model instantiated\n",
        "gbt2 = xgb.XGBClassifier().fit(X_train_under, np.ravel(y_train_under))\n",
        "\n",
        "# Predict the loan_status using each model\n",
        "gbt_preds = gbt.predict(X_test)\n",
        "gbt2_preds = gbt2.predict(X_test_under)\n",
        "\n",
        "# Check the classification reports\n",
        "target_names = ['Non-Default', 'Default']\n",
        "print(classification_report(y_test, gbt_preds, target_names=target_names))\n",
        "print(classification_report(y_test_under, gbt2_preds, target_names=target_names))\n"
      ],
      "execution_count": 110,
      "outputs": [
        {
          "output_type": "stream",
          "text": [
            "              precision    recall  f1-score   support\n",
            "\n",
            " Non-Default       0.92      0.99      0.95      9194\n",
            "     Default       0.95      0.70      0.81      2592\n",
            "\n",
            "    accuracy                           0.93     11786\n",
            "   macro avg       0.94      0.85      0.88     11786\n",
            "weighted avg       0.93      0.93      0.92     11786\n",
            "\n",
            "              precision    recall  f1-score   support\n",
            "\n",
            " Non-Default       0.79      0.90      0.84      1563\n",
            "     Default       0.88      0.76      0.81      1535\n",
            "\n",
            "    accuracy                           0.83      3098\n",
            "   macro avg       0.84      0.83      0.83      3098\n",
            "weighted avg       0.84      0.83      0.83      3098\n",
            "\n"
          ],
          "name": "stdout"
        }
      ]
    },
    {
      "cell_type": "markdown",
      "metadata": {
        "id": "z7WK2jCON93t"
      },
      "source": [
        "^Notice how recall for defaults has improved."
      ]
    },
    {
      "cell_type": "code",
      "metadata": {
        "colab": {
          "base_uri": "https://localhost:8080/"
        },
        "id": "eWNflFTHKgWu",
        "outputId": "3fec8032-f577-4da2-e217-cde8b7044fda"
      },
      "source": [
        "print(gbt2_preds)"
      ],
      "execution_count": 111,
      "outputs": [
        {
          "output_type": "stream",
          "text": [
            "[1 0 0 ... 1 0 0]\n"
          ],
          "name": "stdout"
        }
      ]
    },
    {
      "cell_type": "code",
      "metadata": {
        "colab": {
          "base_uri": "https://localhost:8080/"
        },
        "id": "iOCmuVfGYCFr",
        "outputId": "a78464fa-9338-4e29-d46f-ddc40a41f677"
      },
      "source": [
        "# Print the confusion matrix for both old and new models\n",
        "print(confusion_matrix(y_test,gbt_preds))\n",
        "print(confusion_matrix(y_test_under,gbt2_preds))"
      ],
      "execution_count": 112,
      "outputs": [
        {
          "output_type": "stream",
          "text": [
            "[[9107   87]\n",
            " [ 772 1820]]\n",
            "[[1404  159]\n",
            " [ 370 1165]]\n"
          ],
          "name": "stdout"
        }
      ]
    },
    {
      "cell_type": "code",
      "metadata": {
        "colab": {
          "base_uri": "https://localhost:8080/"
        },
        "id": "3INWf0RGYIN2",
        "outputId": "7053144a-6e47-4203-e59a-460742f1fc58"
      },
      "source": [
        "# Print and compare the AUC scores of the old and new models\n",
        "print(roc_auc_score(y_test, gbt_preds))\n",
        "print(roc_auc_score(y_test_under, gbt2_preds))"
      ],
      "execution_count": 113,
      "outputs": [
        {
          "output_type": "stream",
          "text": [
            "0.8463489003832343\n",
            "0.8286151037531182\n"
          ],
          "name": "stdout"
        }
      ]
    },
    {
      "cell_type": "markdown",
      "metadata": {
        "id": "_XjgsjGyYXyA"
      },
      "source": [
        "but looking at [1][1] element in confusion matrix , which is true positives or recall, leads us to believe undersampling didn't work well. \n",
        "and also, for auc score, it reduced for undersampling, :/\n",
        "\n",
        "It is not what we expected , but hey, that's real life.\n",
        "Not Datacamp, where they change data to show you what you were expecting :)!"
      ]
    },
    {
      "cell_type": "markdown",
      "metadata": {
        "id": "E9Q2Bz99CXWa"
      },
      "source": [
        "#model-evaluation-and-implementation"
      ]
    },
    {
      "cell_type": "markdown",
      "metadata": {
        "id": "O2sZtI88CcUq"
      },
      "source": [
        "Comparing model reports\n",
        "\n",
        "You've used logistic regression models and gradient boosted trees. It's time to compare these two to see which model will be used to make the final predictions.\n",
        "\n",
        "One of the easiest first steps for comparing different models' ability to predict the probability of default is to look at their metrics from the classification_report(). With this, you can see many different scoring metrics side-by-side for each model. Because the data and models are normally unbalanced with few defaults, focus on the metrics for defaults for now."
      ]
    },
    {
      "cell_type": "code",
      "metadata": {
        "colab": {
          "base_uri": "https://localhost:8080/",
          "height": 223
        },
        "id": "2ZoOkcKHCfUB",
        "outputId": "670f8e8e-ba64-4ab6-8a51-13990f1efaa5"
      },
      "source": [
        "# Print the logistic regression classification report\n",
        "target_names = ['Non-Default', 'Default']\n",
        "print(classification_report(y_test, preds_df_lr['loan_status'], target_names=target_names)) #this is predicted loan status by LR\n",
        "\n",
        "# Print the gradient boosted tree classification report\n",
        "print(classification_report(y_test, preds_df_gbt['loan_status'], target_names=target_names))  ##this is predicted loan status by GBT\n",
        "\n",
        "# Print the default F-1 scores for the logistic regression\n",
        "print(precision_recall_fscore_support(y_test,preds_df_lr['loan_status'], average = 'macro')[2])\n",
        "\n",
        "# Print the default F-1 scores for the gradient boosted tree\n",
        "print(precision_recall_fscore_support(y_test,preds_df_gbt['loan_status'], average = 'macro')[2])"
      ],
      "execution_count": 114,
      "outputs": [
        {
          "output_type": "error",
          "ename": "NameError",
          "evalue": "ignored",
          "traceback": [
            "\u001b[0;31m---------------------------------------------------------------------------\u001b[0m",
            "\u001b[0;31mNameError\u001b[0m                                 Traceback (most recent call last)",
            "\u001b[0;32m<ipython-input-114-ab036c5bd2a1>\u001b[0m in \u001b[0;36m<module>\u001b[0;34m()\u001b[0m\n\u001b[1;32m      1\u001b[0m \u001b[0;31m# Print the logistic regression classification report\u001b[0m\u001b[0;34m\u001b[0m\u001b[0;34m\u001b[0m\u001b[0;34m\u001b[0m\u001b[0m\n\u001b[1;32m      2\u001b[0m \u001b[0mtarget_names\u001b[0m \u001b[0;34m=\u001b[0m \u001b[0;34m[\u001b[0m\u001b[0;34m'Non-Default'\u001b[0m\u001b[0;34m,\u001b[0m \u001b[0;34m'Default'\u001b[0m\u001b[0;34m]\u001b[0m\u001b[0;34m\u001b[0m\u001b[0;34m\u001b[0m\u001b[0m\n\u001b[0;32m----> 3\u001b[0;31m \u001b[0mprint\u001b[0m\u001b[0;34m(\u001b[0m\u001b[0mclassification_report\u001b[0m\u001b[0;34m(\u001b[0m\u001b[0my_test\u001b[0m\u001b[0;34m,\u001b[0m \u001b[0mpreds_df_lr\u001b[0m\u001b[0;34m[\u001b[0m\u001b[0;34m'loan_status'\u001b[0m\u001b[0;34m]\u001b[0m\u001b[0;34m,\u001b[0m \u001b[0mtarget_names\u001b[0m\u001b[0;34m=\u001b[0m\u001b[0mtarget_names\u001b[0m\u001b[0;34m)\u001b[0m\u001b[0;34m)\u001b[0m \u001b[0;31m#this is predicted loan status by LR\u001b[0m\u001b[0;34m\u001b[0m\u001b[0;34m\u001b[0m\u001b[0m\n\u001b[0m\u001b[1;32m      4\u001b[0m \u001b[0;34m\u001b[0m\u001b[0m\n\u001b[1;32m      5\u001b[0m \u001b[0;31m# Print the gradient boosted tree classification report\u001b[0m\u001b[0;34m\u001b[0m\u001b[0;34m\u001b[0m\u001b[0;34m\u001b[0m\u001b[0m\n",
            "\u001b[0;31mNameError\u001b[0m: name 'preds_df_lr' is not defined"
          ]
        }
      ]
    },
    {
      "cell_type": "markdown",
      "metadata": {
        "id": "uxS79XetD2V1"
      },
      "source": [
        "<script.py> output:\n",
        "\n",
        "                  precision    recall  f1-score   support\n",
        "    \n",
        "     Non-Default       0.86      0.92      0.89      9198\n",
        "         Default       0.62      0.46      0.53      2586\n",
        "    \n",
        "       micro avg       0.82      0.82      0.82     11784\n",
        "       macro avg       0.74      0.69      0.71     11784\n",
        "    weighted avg       0.81      0.82      0.81     11784\n",
        "    \n",
        "                  precision    recall  f1-score   support\n",
        "    \n",
        "     Non-Default       0.93      0.99      0.96      9198\n",
        "         Default       0.94      0.73      0.82      2586\n",
        "    \n",
        "       micro avg       0.93      0.93      0.93     11784\n",
        "       macro avg       0.93      0.86      0.89     11784\n",
        "    weighted avg       0.93      0.93      0.93     11784\n",
        "    \n",
        "    0.7108943782814463\n",
        "    0.8909014142736051"
      ]
    },
    {
      "cell_type": "markdown",
      "metadata": {
        "id": "t4XblV64D7jL"
      },
      "source": [
        "Do you see that the scores from the classification_report() are all higher for the gradient boosted tree? This means the tree model is better in all of these aspects. Let's check the ROC curve.\n",
        "\n",
        "The lift is how far the curve is from the random prediction. The AUC is the area between the curve and the random prediction. The model with more lift, and a higher AUC, is the one that's better at making predictions accurately."
      ]
    },
    {
      "cell_type": "code",
      "metadata": {
        "id": "Qeoh22BpEDUY"
      },
      "source": [
        "# ROC chart components\n",
        "fallout_lr, sensitivity_lr, thresholds_lr = roc_curve(y_test, clf_logistic_preds)\n",
        "fallout_gbt, sensitivity_gbt, thresholds_gbt = roc_curve(y_test, clf_gbt_preds)\n",
        "\n",
        "# ROC Chart with both\n",
        "plt.plot(fallout_lr, sensitivity_lr, color = 'blue', label='%s' % 'Logistic Regression')\n",
        "plt.plot(fallout_gbt, sensitivity_gbt, color = 'green', label='%s' % 'GBT')\n",
        "plt.plot([0, 1], [0, 1], linestyle='--', label='%s' % 'Random Prediction')\n",
        "plt.title(\"ROC Chart for LR and GBT on the Probability of Default\")\n",
        "plt.xlabel('Fall-out')\n",
        "plt.ylabel('Sensitivity')\n",
        "plt.legend()\n",
        "plt.show()"
      ],
      "execution_count": null,
      "outputs": []
    },
    {
      "cell_type": "code",
      "metadata": {
        "id": "keOVFCMFEI1g"
      },
      "source": [
        "# Print the logistic regression AUC with formatting\n",
        "print(\"Logistic Regression AUC Score: %0.2f\" % roc_auc_score(y_test, clf_logistic_preds))\n",
        "\n",
        "# Print the gradient boosted tree AUC with formatting\n",
        "print(\"Gradient Boosted Tree AUC Score: %0.2f\" % roc_auc_score(y_test, clf_gbt_preds))"
      ],
      "execution_count": null,
      "outputs": []
    },
    {
      "cell_type": "markdown",
      "metadata": {
        "id": "fNro7cAREa6x"
      },
      "source": [
        "![image.png](data:image/png;base64,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)"
      ]
    },
    {
      "cell_type": "code",
      "metadata": {
        "id": "ccZ961jPEcBT"
      },
      "source": [
        "# Print the logistic regression AUC with formatting\n",
        "print(\"Logistic Regression AUC Score: %0.2f\" % roc_auc_score(y_test, clf_logistic_preds))\n",
        "\n",
        "# Print the gradient boosted tree AUC with formatting\n",
        "print(\"Gradient Boosted Tree AUC Score: %0.2f\" % roc_auc_score(y_test, clf_gbt_preds))"
      ],
      "execution_count": null,
      "outputs": []
    },
    {
      "cell_type": "markdown",
      "metadata": {
        "id": "1RJqExdUEhUO"
      },
      "source": [
        "![image.png](data:image/png;base64,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)"
      ]
    },
    {
      "cell_type": "markdown",
      "metadata": {
        "id": "ynnxallvEgdy"
      },
      "source": [
        "Look at the ROC curve for the gradient boosted tree. Not only is the lift much higher, the calculated AUC score is also quite a bit higher. It's beginning to look like the gradient boosted tree is best. "
      ]
    },
    {
      "cell_type": "markdown",
      "metadata": {
        "id": "eOBAdvMGEtpJ"
      },
      "source": [
        "#Calibration curve\n",
        "\n",
        "You now know that the gradient boosted tree clf_gbt has the best overall performance. You need to check the calibration of the two models to see how stable the default prediction performance is across probabilities. You can use a chart of each model's calibration to check this by calling the calibration_curve() function."
      ]
    },
    {
      "cell_type": "code",
      "metadata": {
        "colab": {
          "base_uri": "https://localhost:8080/",
          "height": 295
        },
        "id": "HjqI4o6aEtU5",
        "outputId": "9e27f8c2-d21a-404c-be7f-027f706834db"
      },
      "source": [
        "# Create the calibration curve plot with the guideline\n",
        "plt.plot([0, 1], [0, 1], 'k:', label='Perfectly calibrated')    \n",
        "plt.ylabel('Fraction of positives')\n",
        "plt.xlabel('Average Predicted Probability')\n",
        "plt.legend()\n",
        "plt.title('Calibration Curve')\n",
        "plt.show()"
      ],
      "execution_count": 115,
      "outputs": [
        {
          "output_type": "display_data",
          "data": {
            "image/png": "[encoded data removed]",
            "text/plain": [
              "<Figure size 432x288 with 1 Axes>"
            ]
          },
          "metadata": {
            "tags": [],
            "needs_background": "light"
          }
        }
      ]
    },
    {
      "cell_type": "code",
      "metadata": {
        "colab": {
          "base_uri": "https://localhost:8080/",
          "height": 472
        },
        "id": "hhYjQCqnE1Z0",
        "outputId": "4eda0d1d-dbea-4b07-aad0-df09e54bb71e"
      },
      "source": [
        "# Add the calibration curve for the logistic regression to the plot\n",
        "plt.plot([0, 1], [0, 1], 'k:', label='Perfectly calibrated')    \n",
        "plt.plot(mean_pred_val_lr, frac_of_pos_lr,\n",
        "         's-', label='%s' % 'Logistic Regression')\n",
        "plt.ylabel('Fraction of positives')\n",
        "plt.xlabel('Average Predicted Probability')\n",
        "plt.legend()\n",
        "plt.title('Calibration Curve')\n",
        "plt.show()"
      ],
      "execution_count": 116,
      "outputs": [
        {
          "output_type": "error",
          "ename": "NameError",
          "evalue": "ignored",
          "traceback": [
            "\u001b[0;31m---------------------------------------------------------------------------\u001b[0m",
            "\u001b[0;31mNameError\u001b[0m                                 Traceback (most recent call last)",
            "\u001b[0;32m<ipython-input-116-3facfef536bf>\u001b[0m in \u001b[0;36m<module>\u001b[0;34m()\u001b[0m\n\u001b[1;32m      1\u001b[0m \u001b[0;31m# Add the calibration curve for the logistic regression to the plot\u001b[0m\u001b[0;34m\u001b[0m\u001b[0;34m\u001b[0m\u001b[0;34m\u001b[0m\u001b[0m\n\u001b[1;32m      2\u001b[0m \u001b[0mplt\u001b[0m\u001b[0;34m.\u001b[0m\u001b[0mplot\u001b[0m\u001b[0;34m(\u001b[0m\u001b[0;34m[\u001b[0m\u001b[0;36m0\u001b[0m\u001b[0;34m,\u001b[0m \u001b[0;36m1\u001b[0m\u001b[0;34m]\u001b[0m\u001b[0;34m,\u001b[0m \u001b[0;34m[\u001b[0m\u001b[0;36m0\u001b[0m\u001b[0;34m,\u001b[0m \u001b[0;36m1\u001b[0m\u001b[0;34m]\u001b[0m\u001b[0;34m,\u001b[0m \u001b[0;34m'k:'\u001b[0m\u001b[0;34m,\u001b[0m \u001b[0mlabel\u001b[0m\u001b[0;34m=\u001b[0m\u001b[0;34m'Perfectly calibrated'\u001b[0m\u001b[0;34m)\u001b[0m\u001b[0;34m\u001b[0m\u001b[0;34m\u001b[0m\u001b[0m\n\u001b[0;32m----> 3\u001b[0;31m plt.plot(mean_pred_val_lr, frac_of_pos_lr,\n\u001b[0m\u001b[1;32m      4\u001b[0m          's-', label='%s' % 'Logistic Regression')\n\u001b[1;32m      5\u001b[0m \u001b[0mplt\u001b[0m\u001b[0;34m.\u001b[0m\u001b[0mylabel\u001b[0m\u001b[0;34m(\u001b[0m\u001b[0;34m'Fraction of positives'\u001b[0m\u001b[0;34m)\u001b[0m\u001b[0;34m\u001b[0m\u001b[0;34m\u001b[0m\u001b[0m\n",
            "\u001b[0;31mNameError\u001b[0m: name 'mean_pred_val_lr' is not defined"
          ]
        },
        {
          "output_type": "display_data",
          "data": {
            "image/png": "[encoded data removed]",
            "text/plain": [
              "<Figure size 432x288 with 1 Axes>"
            ]
          },
          "metadata": {
            "tags": [],
            "needs_background": "light"
          }
        }
      ]
    },
    {
      "cell_type": "code",
      "metadata": {
        "id": "QLbOLs_SE4UB"
      },
      "source": [
        "# Add the calibration curve for the gradient boosted tree\n",
        "plt.plot([0, 1], [0, 1], 'k:', label='Perfectly calibrated')    \n",
        "plt.plot(mean_pred_val_lr, frac_of_pos_lr,\n",
        "         's-', label='%s' % 'Logistic Regression')\n",
        "plt.plot(mean_pred_val_gbt, frac_of_pos_gbt,\n",
        "         's-', label='%s' % 'Gradient Boosted Tree')\n",
        "plt.ylabel('Fraction of positives')\n",
        "plt.xlabel('Average Predicted Probability')\n",
        "plt.legend()\n",
        "plt.title('Calibration Curve')\n",
        "plt.show()"
      ],
      "execution_count": null,
      "outputs": []
    },
    {
      "cell_type": "markdown",
      "metadata": {
        "id": "IIK1HyNUFAI5"
      },
      "source": [
        "![image.png](data:image/png;base64,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)"
      ]
    },
    {
      "cell_type": "markdown",
      "metadata": {
        "id": "GhJYeD4RFE0A"
      },
      "source": [
        "how to read this now\n",
        "\n",
        "when avg predicted default prob was 0.6 for GBT , actual defaults in data were 0.3. So model isn't very accurate but predicting a non-default as default is still less costly.\n",
        "\n",
        "whereas, in LR, when avg predicted default was 0.4, actual defaults in data were 0.7. This is costly"
      ]
    },
    {
      "cell_type": "markdown",
      "metadata": {
        "id": "eKvpj36iHXyq"
      },
      "source": [
        "#Acceptance rate"
      ]
    },
    {
      "cell_type": "code",
      "metadata": {
        "colab": {
          "base_uri": "https://localhost:8080/"
        },
        "id": "Epz3vuwFHoB-",
        "outputId": "f8c996bf-b64b-47a7-8597-fca77a04a3ae"
      },
      "source": [
        "print(gbt_preds)"
      ],
      "execution_count": 117,
      "outputs": [
        {
          "output_type": "stream",
          "text": [
            "[0 0 0 ... 1 0 1]\n"
          ],
          "name": "stdout"
        }
      ]
    },
    {
      "cell_type": "markdown",
      "metadata": {
        "id": "CEG8OrUAIBSJ"
      },
      "source": [
        "So assume we saved gbt2_preds as a dataframe called test_pred_df, column name = prob_default"
      ]
    },
    {
      "cell_type": "code",
      "metadata": {
        "id": "OZ0rODfRIUCM"
      },
      "source": [
        "test_pred_df = pd.DataFrame(gbt2_preds, columns = ['prob_default'])"
      ],
      "execution_count": 118,
      "outputs": []
    },
    {
      "cell_type": "markdown",
      "metadata": {
        "id": "mnuKYWzeH7I6"
      },
      "source": [
        "The trained model clf_gbt and the data frame of it's predictions, test_pred_df, are available."
      ]
    },
    {
      "cell_type": "code",
      "metadata": {
        "colab": {
          "base_uri": "https://localhost:8080/"
        },
        "id": "YubQAHpSFBJ1",
        "outputId": "7a4ab4c3-cf24-4349-e2aa-738390052af8"
      },
      "source": [
        "# Check the statistics of the probabilities of default\n",
        "print(test_pred_df['prob_default'].describe())  \n",
        "\n",
        "# Calculate the threshold for a 85% acceptance rate\n",
        "threshold_85 = np.quantile(test_pred_df['prob_default'], 0.85)\n",
        "\n",
        "#^ very imp step above\n",
        "#of all probabilities of default, that had values between 0 and 1, what value will be at 85% quantile.\n",
        "#so we will create a new thereshold that will be that particular value\n",
        "#and we reject prob_default above those as defaults, so atleast 85% of loans are accepted\n",
        "#this is acceptance rate\n",
        "\n",
        "# Apply acceptance rate threshold\n",
        "test_pred_df['pred_loan_status'] = test_pred_df['prob_default'].apply(lambda x: 1 if x > threshold_85 else 0)\n",
        "\n",
        "# Print the counts of loan status after the threshold\n",
        "print(test_pred_df['pred_loan_status'].value_counts())  #so all value counts 0 are not summed, only 1s are, so in total there are 3098 predicted defaults, or loans that will be rejected"
      ],
      "execution_count": 119,
      "outputs": [
        {
          "output_type": "stream",
          "text": [
            "count    3098.000000\n",
            "mean        0.427372\n",
            "std         0.494777\n",
            "min         0.000000\n",
            "25%         0.000000\n",
            "50%         0.000000\n",
            "75%         1.000000\n",
            "max         1.000000\n",
            "Name: prob_default, dtype: float64\n",
            "0    3098\n",
            "Name: pred_loan_status, dtype: int64\n"
          ],
          "name": "stdout"
        }
      ]
    },
    {
      "cell_type": "markdown",
      "metadata": {
        "id": "ayOKnlxNK5_D"
      },
      "source": [
        "^Actually this output is just to sow, but its wrong. As test_pred_df hould have completely new test data with probailities of default, that havent been converted to 0, 1 using thresholds yet.\n",
        "\n",
        "we used gbt_preds which has already been converted to 0,1 based on threshold =0.4.\n",
        "\n",
        "anway, real output should look like-"
      ]
    },
    {
      "cell_type": "markdown",
      "metadata": {
        "id": "4Z5UMxLOLUaX"
      },
      "source": [
        "<script.py> output:\n",
        "\n",
        "\n",
        "    count    11784.000000\n",
        "    mean         0.216866\n",
        "    std          0.333038\n",
        "    min          0.000354\n",
        "    25%          0.022246\n",
        "    50%          0.065633\n",
        "    75%          0.177804\n",
        "    max          0.999557\n",
        "    Name: prob_default, dtype: float64\n",
        "    0    10016\n",
        "    1     1768\n",
        "    Name: pred_loan_status, dtype: int64\n",
        "\n",
        "\n",
        "\n",
        "    In the results of .describe() do you see how it's not until 75% that you start to see double-digit numbers? That's because the majority of our test set is non-default loans. "
      ]
    },
    {
      "cell_type": "code",
      "metadata": {
        "id": "AVtvI7liLfW6"
      },
      "source": [
        "# Plot the predicted probabilities of default\n",
        "plt.hist(clf_gbt_preds, color = 'blue', bins = 40)\n",
        "\n",
        "# Calculate the threshold with quantile\n",
        "threshold = np.quantile(clf_gbt_preds, 0.85)\n",
        "\n",
        "# Add a reference line to the plot for the threshold\n",
        "plt.axvline(x = threshold, color = 'red')\n",
        "plt.show()"
      ],
      "execution_count": null,
      "outputs": []
    },
    {
      "cell_type": "markdown",
      "metadata": {
        "id": "iCdlrpuCLkcq"
      },
      "source": [
        "![image.png](data:image/png;base64,iVBORw0KGgoAAAANSUhEUgAAAYsAAADwCAYAAADxckg9AAAgAElEQVR4Ae2dbYxV1bmAp97ENFUijhlBuOL0oogMDCKKIHPLqEVaFAXMiLZVKK1TEQylBaHVljHBWEFaB5GPH9YBLe3MTa1IwaCGUakJEFIsYixXkTsNAldiNWqd9E/fm3dd9/Z87P2es4b5WodnJWv2Wuvd+8xez7vPeWbvfc6ZMqFAAAIQgAAEEgi81/bf0v7JCVfLEuIMQQACEIAABARZcBBAAAIQgEBBAsiiICJWgAAEIAABZMExAAEIQAACBQkgi4KIWAECEIAABJAFxwAEIAABCBQkgCwKImIFCEAAAhBAFhwDEIAABCBQkACyKIiIFSAAAQhAAFlwDEAAAhCAQEECvV4WM2bMkJEjR8qkSZOoMOAY4BjIPgaGDZNJWuFSFIPKykrZuHFjQTEkrdDrZfHAAw/IE088IR988AEVBhwDHAPZx8BXvyof3Hpr9hiMUnnMnTtXtmzZkuSCgmO9XhYrVqyQ5ubmghNhBQhA4BQkcOGFIjNnnoIT79iUf/zjH8srr7zSoY2RRYewsREEINArCCALrzQgCy9crAwBCJQMAWThlUpk4YWLlSEAgZIhgCy8UoksvHCxMgQgUDIEkIVXKpGFFy5WhgAESoYAsvBKJbLwwsXKEIBAyRBAFl6pRBYGruPHRQpVY3NCEIBAbyaALLyygywMXLNmiZSVpdejR42NCUEAAr2bALLwyg+yMHAhCwMOIQiETgBZeGUQWRi4kIUBhxAEQieALLwyiCwMXMjCgEMIAqETQBZeGUQWBi5kYcAhBIHQCSALrwwiCwMXsjDgEIJA6ASQhVcGkYWBC1kYcAhBIHQCyMIrg90mi3379sn777+ft3OHDx+WvXv35o1/8skn0traKrrMLbq+bleonOxXlCOLQoSJQyBgAsjCK3ldLgt9wR8/frzU1tZKRUWFfP3rX493sKGhQcrLy+Xmm2+Wurq6ePzAgQNSVVUlGtel9qOi6+n6ffv2dfFoPGmJLJKoMAYBCDgCyMLrQOhyWbz99tvxDu3Zs0f69Onj+idOnJAzzzwzjo0ZM0bWrl3r+osWLZJXX33VtXWpfS0a1/Wiotvrf8FLK8gijQzjEICAIAuvg6DLZZG5N/X19TJkyBA3pGccUVsHHnroIZk/f76LVVdXx5eZ9HKT9rVoXNeLim6vj5NZ9FJXVPXM5GT+Ux6XoTLJ0oZAiRFAFl4J7RZZ6At6WVmZq/oCrkXH9NJUVDL7um5mifq6fqYccvu6TWNjo0yePNnVoUOHIotMkLQhAIEvCCCLL1gU0eoWWWTuh77wRzevL9RkfV4efvhhmTNnjuvpfYq2tjbX1qX2tWhc14uKbp8pj2g8WnIZKiLBEgIQyCOALPKQWANdLovcewoqi/b2dneZKfOexbRp02T9+vVuX/Vy1c6dO11bl9rXonFdLyq6/TvvvBN185bIIg8JAxCAQEQAWUQkilp2uSz0spO+G0rfxXTuuefK7Nmz4x3TmL6rqSPvhtJ3UUWXtOIHzGkgixwgdCEAgS8IIIsvWBTR6nJZ6M1mvVTU0tIin332Wd4upX3O4uOPP3bb6TK38DmLXCL0IQABbwLIwgtZl8vCa286eWXOLDoZKA8HgVIigCy8soksDFy8ddaAQwgCoRNAFl4ZRBYGLmRhwCEEgdAJIAuvDCILAxeyMOAQgkDoBJCFVwaRhYELWRhwCEEgdALIwiuDyMLAhSwMOIQgEDoBZOGVQWRh4EIWBhxCEAidALLwyiCyMHAhCwMOIQiETgBZeGUQWRi4kIUBhxAEQieALLwyiCwMXMjCgEMIAqETQBZeGUQWBi5kYcAhBIHQCSALrwwiCwMXsjDgEIJA6ASQhVcGkYWBC1kYcAhBIHQCyMIrg8jCwIUsDDiEIBA6AWThlUFkYeBCFgYcQhAInQCy8MogsjBwIQsDDiEIhE4AWXhlEFkYuJCFAYcQBEIngCy8MogsDFzIwoBDCAKhE0AWXhlEFgYuZGHAIQSB0AkgC68MIgsDF7Iw4BCCQOgEkIVXBpGFgQtZGHAIQSB0AsjCK4NdLouGhgYpKyuTmpoaueGGG6S1tTXeQR3PrHFAROrq6lxMl5ll06ZN0q9fPxk+fLi0tLRkhvLaK1askObm5rzxYgeQRbGkWA8CARJAFl5J6xZZvPfee26nNm7cKLW1tfEOqiiSigrm6aefdiFdal/Lli1b5LrrrnPt3bt3S9++feXTTz91/aQfyCKJCmMQgIAjgCy8DoQul0Xm3rS1tcmPfvSjeEhlMXv2bNmwYUM8po1Ro0bJW2+95cZ0qX0tCxYskPvuu8+19cegQYOyzlTiwOcNZJFLhD4EIBATQBYximIa3SqL1atXy/r16+P9Ulk88sgjMmzYMHfJKQp85Stfkfb2dtfVpfa1TJ482Z1dROuNHTs2TxaNjY3u7EXPYC666CIuQ0WwWEIAAtkEkEU2jwK9bpOF3mtYtGhR6u7o2UN06WnIkCFy/Phxt64uta+lvr5e1qxZEz/GiBEj8mShl6Wi+uCDDyKLmBYNCEAgiwCyyMJRqNMtstCziW9/+9vmvmTKYtasWbJnzx63vi61r0UvK02bNi1+nHPOOSe+XBUPZjS4DJUBgyYEIJBNAFlk8yjQ63JZ6M3pa665xp0VzJ8/X37605+6XdJ3Ren9Bz3jyL0MtXXrVqmqqnJnDXqpSvtajh49KhUVFaKXs6ZPn+7eMWXND1lYdIhB4BQngCy8DoAul4W+0GfWF154we2gymL58uXuBT/3BreusG3bNvcuKF1mFr1JvnLlSmlqasocTmwji0QsDEIAAkoAWXgdB10uC6+96eSVkUUnA+XhIFBKBJCFVzaRhYGLD+UZcAhBIHQCyMIrg8jCwIUsDDiEIBA6AWThlUFkYeBCFgYcQhAInQCy8MogsjBwIQsDDiEIhE4AWXhlEFkYuJCFAYcQBEIngCy8MogsDFzIwoBDCAKhE0AWXhlEFgYuZGHAIQSB0AkgC68MIgsDF7Iw4BCCQOgEkIVXBpGFgQtZGHAIQSB0AsjCK4PIwsCFLAw4hCAQOgFk4ZVBZGHgQhYGHEIQCJ0AsvDKILIwcCELAw4hCIROAFl4ZRBZGLiQhQGHEARCJ4AsvDKILAxcyMKAQwgCoRNAFl4ZRBYGLmRhwCEEgdAJIAuvDCILAxeyMOAQgkDoBJCFVwaRhYELWRhwCEEgdALIwiuDyMLAhSwMOIQgEDoBZOGVQWRh4EIWBhxCEAidALLwyiCyMHAhCwMOIQiETgBZeGWwy2XR0NAgV199tZSVlcmNN94ohw8fjnewpaVFqqqqpLy8XHS9zFJXV+e20WVm0fV0fd1Ot7fKihUrpLm52VrFjCELEw9BCIRNAFl45a9bZBHt0apVq2SWvgJ/Xvr37y+NjY1y4MABueSSS6S1tdVFVq5cKXPnznVtXeqLvpaXX37Zrafr63aVlZVuPO0HskgjwzgEICDIwusg6HJZZO6NnlX07dvXDakYBg4cGIcXLFggixcvdv3x48fLn//8Z9fWZU1NjWtrXNeLim4fCSYay1wii0watCEAgSwCyCILR6FOt8pCLyndfffdbp/0Rf7KK6+M92/z5s0yZcoU1+/Tp4/84x//cG1dal+LxnW9qOj2ubLQM46ZM2e6evnll3MZKoLFEgIQyCaALLJ5FOh1myz0XsPEiRPj3dEXeb3vEJV169bFl6j08tKxY8dcSJfR5Sa9hKXrRUW3z5XFm2++KVFduHAhsohgsYQABLIJIItsHgV63SKLHTt2SO6Nan2R1xvVUbnjjjvim9zXX3+97Nq1y4V0qX0tKhxdLyq6fa4sopguuQyVSYM2BCCQRQBZZOEo1OlyWeg7lpYtWyZbtmxx9fnnn4/3SS8jTZ06VR5//HH3zic9I9DS1NQk1dXVopLR5caNG9243tjWd1U99thjMn36dBk9enT8WEkNZJFEhTEIQMARQBZeB0KXy2LevHmi9Z577hG9LHT//ffHO6gv/nq2oDX3bbDRuC4zi64XxXR7qyALiw4xCJziBJCF1wHQ5bLw2ptOXhlZdDJQHg4CpUQAWXhlE1kYuPhQngGHEARCJ4AsvDKILAxcyMKAQwgCoRNAFl4ZRBYGLmRhwCEEgdAJIAuvDCILAxeyMOAQgkDoBJCFVwaRhYGrkCxuuEFEv+cwrRoPTQgCEOhpAsjCKwPIwsBVSBbnnitSVpZcR4wwHpgQBCDQ8wSQhVcOkIWBC1kYcAhBIHQCyMIrg8jCwIUsDDiEIBA6AWThlUFkYeBCFgYcQhAInQCy8MogsjBwIQsDDiEIhE4AWXhlEFkYuJCFAYcQBEIngCy8MogsDFzIwoBDCAKhE0AWXhlEFgYuZGHAIQSB0AkgC68MIgsDF7Iw4BCCQOgEkIVXBpGFgQtZGHAIQSB0AsjCK4PIwsCFLAw4hCAQOgFk4ZVBZGHgQhYGHEIQCJ0AsvDKILIwcCELAw4hCIROAFl4ZRBZGLiQhQGHEARCJ4AsvDKILAxcyMKAQwgCoRNAFl4Z7HJZfPjhh9LU1CQNDQ3S2tqatXM6llkzgzpeW1vr4pnjO3fulClTpsidd94pBw4cyAzltVesWCHNzc1548UOIItiSbEeBAIkgCy8ktblsjh8+LAsXbpUZs6c6ZaZe1dWViYtLS2ubt68OQ49+eSTcs8997i+LrWvZffu3aLb7N27VxobG+XKK6+Mt0lqIIskKoxBAAKOALLwOhC6XBbR3qgwtGYWfeE/fvx45pBrT548Wfbt2+fautS+Fj3bmDNnjmvrjwEDBuSdrcRBEUEWmTRoQwACWQSQRRaOQp0el8Vll10m/fr1c5ecop3Vvl6+0qJL7Wu57bbb5De/+Y1r64/Ro0fnyULPOH7+85+7OnHiRC5DxbRoQAACWQSQRRaOQp0elUXmzo0aNSo+m6ioqJCPPvrIhXWpfS11dXWyadOmeDPdJvc+yLZt2ySq3/ve95BFTIsGBCCQRQBZZOEo1Ok1slARrFq1yu1vTU2N7N+/37V1qX0tS5YskXnz5rm2/ujfv3+eLOIgl6EyUdCGAARyCSCLXCJmv1tkoX/9z5o1y9WXX37Z7ZCOPfvss+4y0/r1692N63fffdfFtF9fX+/autS+ltwb3CNGjHDjaT+4Z5FGhnEIQECQhddB0C2ymDBhgmRW3UOVhd647tu3r4wbN06WLVuWteO8dTYLBx0IQKCzCSALL6LdIguvPerElTmz6ESYPBQESo0AsvDKKLIwcPGhPAMOIQiETgBZeGUQWRi4kIUBhxAEQieALLwyiCwMXMjCgEMIAqETQBZeGUQWBi5kYcAhBIHQCSALrwwiCwPXycjiootEfvc7uxq/mhAEINDVBJCFF2FkYeA6WVmUlYmk1YULjV9MCAIQ6HoCyMKLMbIwcCELAw4hCIROAFl4ZRBZGLiQhQGHEARCJ4AsvDKILAxcyMKAQwgCoRNAFl4ZRBYGLmRhwCEEgdAJIAuvDCILAxeyMOAQgkDoBJCFVwaRhYELWRhwCEEgdALIwiuDyMLAhSwMOIQgEDqBEpTFhg0ip52WXp96quNJQxYGO2RhwCEEgdAJlKgs0j7bpePIIuWg7cmvKNdPcFtJ40N5KUljGALdRQBZeJHmzMLAxZmFAYcQBEIngCy8MogsDFzIwoBDCAKhE0AWXhlEFgYuZGHAIQSB0AkgC68MIgsDF7Iw4BCCQOgEkIVXBpGFgQtZGHAIQSB0AsjCK4PdIovW1lZ59NFHRZe5pampSVauXCltbW1Zoe3bt0tDQ4PoMrPoerq+bleo8G6oQoSIQ+AUJoAsvJLf5bLYt2+f3HTTTTJhwgRZunRp1s7V1dXJ9OnTZfXq1TJ48GA5cuSIi2/ZskWqq6udXMrKykT7Wo4ePerW0/WnTp0qur1VkIVFhxgETnECyMLrAOhyWUR7o6LIlIWeZZSXl0dhuf32292ZhA5MmTJFdu3a5WK61L4WPdPQ9aKi2yedrURxZBGRYAkBCOQRQBZ5SKyBHpXFsGHD4n1bt26dzNKbBCJy/vnny7Fjx1xbl9rXonFdLyq6fa4sfv3rX0tUb7nlFmlubo5W915yz8IbGRtAIBwCyMIrVz0qi3HjxsU7q5eaojOIPn36SHt7u4vpUvtaNB5dktK+bp8rizVr1khU9RIXsnDo+AEBCOQSQBa5RMx+j8qisrIy3rklS5bI4sWLXb+mpkYOHjzo2rrUvhaN63pR0e1zZRHFdMllqEwatCEAgSwCyCILR6FOj8lCd0wvL0X3JgYOHCjPPPOM29/ly5fLBv36RBG31L6WrVu3iq6nRbcbMGCAa6f96M2yqK8X+Z//sWvavBiHAAQ6gQCy8ILYLbLQd0Jl1mgPW1paZPjw4dKvXz/ZtGlTNOyW+k4nfSdU7juedD1dv6qqSnR7q/RmWUyYYH/RYM47hq1pEoMABDpCAFl4UesWWXjtUSeujCw6ESYPBYFSI4AsvDKKLAxcXfluKM4sDPCEINAdBJCFF2VkYeBCFgYcQhAInQCy8MogsjBwIQsDDiEIhE4AWXhlEFkYuJCFAYcQBEIngCy8MogsDFzIwoBDCAKhE0AWXhlEFgYuZGHAIQSB0AkgC68MIgsDF7Iw4BCCQOgEkIVXBpGFgQtZGHAIQSB0AsjCK4PIwsCFLAw4hCAQOgFk4ZVBZGHgQhYGHEIQCJ0AsvDKILIwcCELAw4hCIROAFl4ZRBZGLiQhQGHEARCJ4AsvDKILAxcyMKAQwgCoRNAFl4ZRBYGrp6Uhf432P/93/Rq7DYhCECgGALIohhK8TrIIkaR3+hJWYwenf7/Lr70pfx9ZQQCEPAkgCy8gCELAxeyMOAQgkDoBJCFVwaRhYELWRhwCEEgdALIwiuDyMLAhSwMOIQgEDoBZOGVQWRh4EIWBhxCEAidALLwyiCyMHAhCwMOIQiETgBZeGWwR2XR2toqmTVzz7dv3y4NDQ2iy8zS1tYmK1eulKampszhxPaKFSukWd+D2sGCLDoIjs0gEAIBZOGVpR6VRVlZmdTV1cns2bPl3nvvjXd869atUl1d7USi62hfy5EjR6SiokJWr14tU6dOddvGGyU0kEUCFIYgAIH/J4AsvI6EHpdF0t7OmjVLdu3a5UK61L4WffGfNm1avMk555wjb7/9dtzPbSCLXCL0IQCBmACyiFEU0+hxWeiZw7hx42TZsmXx/g4ePFiOHTvm+rrUvpb6+npZs2ZNvN6IESPc2Uc8ICI7duyI61133cVlqEw4tCEAgS8IIIsvWBTR6lFZ/OUvf3G7uH79elFpvPvuu65/xhlnSHt7u2vrUvtaJk+eLM8995xr64+xY8fmyaKxsdFd0tLLWrW1tcgipkUDAhDIIoAssnAU6vSoLDJ3Tu9drFq1yg1dccUVcvDgQdfWpfa1LFiwQO677z7X1h+DBg3Kk0Uc/PyyFTe4M4nQhgAEYgLIIkZRTKPHZKHvgorK0aNHpbKyUvbv3++GFi1aJBs2bHBtXWpfS0tLi0ycONG19V7G6aefLidOnHD9pB+lfM/iuutE0uqkSUk0GIMABLIIIIssHIU6PSoLvbykl5/0RvX8+fPjfX3nnXfcjWyN6Q1t7Udl4cKFcu6550pVVZWsXbs2Gk5clrIsysrSv2gQWSQeDgxCIJsAssjmUaDXY7IosF+dEkYWnYKRB4FAaRJAFl55RRYGrt78oTzOLIzEEYJAMQSQRTGU4nWQRYwiv4Es8pkwAoGSIYAsvFKJLAxcyMKAQwgCoRNAFl4ZRBYGrlBlcfXVIvomMasa0yYEgVODALLwyjOyMHCFKgvrX7LqvY6VK41JE4LAqUIAWXhlGlkYuJCFAYcQBEIngCy8MogsDFzIwoBDCAKhE0AWXhlEFgYuZGHAIQSB0AkgC68MIgsDV6nKYsIEkQsuSK9vvGFAIQSBUiEQoCyOHxd5/PH0escd6d/soPcrn3qq48lDFga7UpaF9aE+ZGEcFIRKh0CgsrCeu+PHI4sOHaCn6td9FHo3lJ5ZWAccsujQ4cZGoRFAFl4Z48zCwMWZhQGHEARCJ4AsvDKILAxcyMKAQwgCoRNAFl4ZRBYGLmRhwCEEgdAJIAuvDCILA9epKgt9DpWXJ9eBAw1ghCAQEgFk4ZUtZGHgOpVlkXYDvH9/kVdftauBlBAEeg8BZOGVC2Rh4EIW+e+aUlmkiUTHv/tdAyghCPQmAsjCKxvIwsCFLPLFUEgWNTUid96ZXn/7WwM4IQh0JwFk4UUbWRi4kEXHZGGdeSAL44Aj1L0EeqksFiwQSas/+EH+czLz+caH8jp4CPGhvOQDq9CH8vQ5lHkAZraLObPIXD+3jSw6eDCzWecT6KWyGDky/flXUZEe0+cassg5TPbu3SuHDx/OGc3vIovkA6snZTFtmsj996fX558Xee219JqfZUYg0EECPSSLe+8VGTUqvQ4Zkvy8VRkgC49c19XVyc033yx9+/aVhoYGc0tkkXzQ9aQsxo1L3qfoDOTss9PjV1xhpluWLROZOze9vvKKvT3RU4xAF8li504Rq37rW+nHuD4PkEUnHIdr166VMWPGxI905plnygcffBD3cxvIIvmgDFUWw4aJjBiRXmtrk+cbiciSRXu7yF13pde6OpHXX0+v27aJ6MmuVXOPT/o9TMCQhZVrjQ0fnn4cXnaZfRwWev4hi044LubPny8PPfRQ/EhDhgyR1tbWuK+NQ4cOxfWuu+6Sxx57LO5nxopp33zzISkrS6/nnJMeq6xMj+ljXnmlHR8+PD3+pS+lx/SxrW2L+d0XXJD++BUV6TF97Msvt+OjRtnxs85Kj194YXqsmHldcskhOeOM9KqPkVYvvTQ9ptuMGWPHhw07JDr3pFpVdUi+9a30eu21h2TRovQ6a9YheeCB9PrSS4fk1VeTa1NT+nb6mPfdl7xd9HhPPnlI/uu/kuumTYfkxRfT62OPHZJ169LrpEnpTJTXtGnp8euvPyT9+qVXff7t+soF8tt/ny66bm4dMcLO57/9W3pc85l2HOl4oef+V7+avn15eXpMH3v0aDu+cuUXr4/FvAZmrvP9739fftvBm47vtf23tH9ywtWyrFfsLurU1tZmySG3r7+2sbFRZsyY4er5558vV111VdyPxotZTpo0SQYOvESuumpGar388vTYpZemx/QxL77Yjg8bZset/Sq0rfW7hw6tkfPOG9GhORczL+t36/ZjxqTPu7o6PVbM7x4+PH37yspRctFFY1PnPXRo+rbF/O7LLkvffvToGTJuXHodMiQ9pttpvq3tr756hlx7bXIdMOASqaq6JnX7kSOTt4seb+zYGfKf/5lcx4+fIfq706rOW9ml1aoqe14Wt0LPv/LyS2TCf4yWr198VeLvL/QcUt7WfqfFdLzQc0CZp21/xRXpsWIeW1/Tinn9S1rn4osvlo0bN3bo1b3bZVHMmUWHZpKw0euvvy5q0lOtPPvss7JML/6fYkX/yHjqZP4zTKC8Tua984FO2e223vdsa2sLeQre+/6vf/0r6zK+9wOcxAbdLoukexYnTpw4iSmkb4os0tmUYgRZlGJW0+eELNLZdEWk22Whk4jeDVVeXl7w3VAnM2lkcTL0wtsWWYSXs5PZ4+985zun5JmFzrsnSo/IQida7OcsegIKvxMCEIAABLIJ9JgssneDHgQgAAEI9GYCyKI3Z4d9gwAEINBLCJSMLP7whz+4eyG///3vTbT6trGOvnXMfOAeCm7atEn0g4vbt29P3YP777/f3RvK/TxL6gYBBH71q19JfX29HDhwwNzbDz/80M29mK+WMR+olwTXr18vjz/+uDnvN998UzTnP/zhD2Xz5s29ZM87vhuaY52zzt0qLS0t7jVgm366sgSKPl8fffTRrI8aJE2r2OdC0rY+YyUhiy1btkhZWZnowVJRUSHz5s1LZKA31u+9915XtR16WbJkiYwePdo9ib785S+Lcsgt+nUqCxYskB07dsjUqVO79A0Fub+7q/oTJ04U/XzOL3/5Sxk8eLAcOXIk9VfpW7XPOuusgk+41AfoRYEpU6Y4QS5cuFCqqqrk/fffz9u7v/3tby6mx3lzc3Pw+T527Fg8H/3j4MYbb8ybsw4sXrxYxo0b514DKisrE58LiRv20sF9+/bJTTfdJBMmTJClS5em7qXPcyH1QYoMlIQsbrjhBlm3bp2b8muvvSaXXnpp3vRfeOEFBz8KaCJ0LNTS3t4u5513nrzxxhtuCjp/5ZBbPvvss6yhnfqFN4EX/cMgKrfffnvqC6L+Zaay0Cdc6GdVL774ohNjNG89fpO+V03/UNI3j5RK0TnqXKOifxwoi9wyaNCgeEhzfeutt8b9kBsqCksWxT4XOoNBSchC/5KIXjSPHj3qzi5y4ejnO/SrQ6KibR0LtRw8eFAGDBgQ777OXzlYRU/j0866rO16U+yvf/2rXKjfB/R5UUnO0n9aklP08tPIkSNFl6UgiyeeeEJuu+22eJZ6/CbJQr8+Z9GiRe5MWzmFfklG55j5vFUGyiK3/OxnP3Nz1j8e9AX0ueeey10lyL4li2KfC5018ZKQRZ8+feSjjz5yTPQv6dNPPz2PzyOPPCI/+clP4nFt61ioRf961EtQUdH5K4e0op90nTt3ruzfvz9tlSDG9+zZI1dkfHWtXnrTyzO5Rc8o9D6WllKQhR6r+kntqOjxmySL4cOHy8MPP+xW0/tYerkq5KJzzHzeKoOk560eE6eddprMnj3bySKJTYgcLFkU+1zorHmXhCxqamrkj3/8o2OiN8OS/sLWF5XMv0C1nXSNv7PAdvXj/P3vf3dPikiSOn/lkFRUFLfcckvwotC5ffrpp3LGGWfE09T7Nnq9OrfoX5d6X0OrfhW+XprU68ChFj1WM/M7c+bMRFmcffbZWZfcMi9ThDh3fdHXuUZFGSQ9b/WYiI79dS0AAAJ6SURBVN7EoK8BoUsymq8li2KfC9FjneyyJGShN/PuuOMOx2L58uXuBUI7eu1yzZo1blzB6k1gvSmoVds6FnKprq6W1atXuynok0rnrkUvr0Xz1m+c1CfYn/70p5CnmrXv+gIYvftr4MCB8swzz7i4zjmad+YGpXBm8cknn7g/Dnbv3u2+0v/aa6+V6P6Tzlm/D0yLspkzZ45rl8KZxa5du+Saa65xc9a56/w+/vhjNz+d91tvveXaevntpZdecu2nn35aHnzwQdcO/UeuLP75z39mHeNpz4WumHdJyELB6LubFNw3vvEN0XeEaFFZ6DfWRkXfLaXXcbVqO/SiZwx333239O/f380/mo/KQk/Hteip+dChQ931e/0/Il/72tei1YJd6ouCvjhovjMvN+i7vn7xi1/kzUsvSYV8VhFNSOWgL5x6Mzdz3t/85jdjWei6kydPdmxK4Z6FzkfnesEFF7i5R4LUcf1jKZKF3qfRm996TIwdOza+0hCxC22px6v+kZNZdQ4qC513VNKeC1G8M5clI4vOhMJjQQACEIBANgFkkc2DHgQgAAEIJBBAFglQGIIABCAAgWwCyCKbBz0IQAACEEgggCwSoDAEAQhAAALZBJBFNg96EIAABCCQQABZJEBhCAIQgAAEsgkgi2we9CAAAQhAIIEAskiAwhAEIAABCGQTQBbZPOhBAAIQgEACAWSRAIUhCEAAAhDIJoAssnnQgwAEIACBBALIIgEKQxCAAAQgkE0AWWTzoAcBCEAAAgkEkEUCFIYgAAEIQCCbALLI5kEPAhCAAAQSCCCLBCgMQQACEIBANgFkkc2DHgQgAAEIJBDIlMX/Ab5CqUAxqTCdAAAAAElFTkSuQmCC)\n",
        "\n",
        "\n",
        "Here, you can see where the threshold is on the range of predicted probabilities. Not only can you see how many loans will be accepted (left side), but also how many loans will be rejected (right side)."
      ]
    },
    {
      "cell_type": "markdown",
      "metadata": {
        "id": "k0vuiX9-LuKc"
      },
      "source": [
        "#Bad rate"
      ]
    },
    {
      "cell_type": "code",
      "metadata": {
        "id": "h2-jd84YLynJ"
      },
      "source": [
        "# Print the top 5 rows of the new data frame\n",
        "print(test_pred_df.head())\n",
        "\n",
        "# Create a subset of only accepted loans\n",
        "accepted_loans = test_pred_df[test_pred_df['pred_loan_status'] == 0]\n",
        "\n",
        "# Calculate the bad rate\n",
        "print(np.sum(accepted_loans['true_loan_status']) / accepted_loans['true_loan_status'].count())"
      ],
      "execution_count": null,
      "outputs": []
    },
    {
      "cell_type": "markdown",
      "metadata": {
        "id": "834J1FTIL_wV"
      },
      "source": [
        "<script.py> output:\n",
        "\n",
        "       true_loan_status  prob_default  pred_loan_status\n",
        "    0                 1      0.982387                 1\n",
        "    1                 1      0.975163                 1\n",
        "    2                 0      0.003474                 0\n",
        "    3                 0      0.005457                 0\n",
        "    4                 1      0.119876                 0\n",
        "    0.08256789137380191\n",
        "\n",
        "    This bad rate doesn't look half bad! The bad rate with the threshold set by the 85% quantile() is about 8%. This means that of all the loans we've decided to accept from the test set, only 8% were actual defaults! If we accepted all loans, the percentage of defaults would be around 22%."
      ]
    },
    {
      "cell_type": "markdown",
      "metadata": {
        "id": "MFc8M_R_ML77"
      },
      "source": [
        "In terms of money,whats the impact"
      ]
    },
    {
      "cell_type": "code",
      "metadata": {
        "id": "yXZgR1O7MPW9"
      },
      "source": [
        "# Print the statistics of the loan amount column\n",
        "print(test_pred_df['loan_amnt'].describe())\n",
        "\n",
        "# Store the average loan amount\n",
        "avg_loan = np.mean(test_pred_df['loan_amnt'])\n",
        "\n",
        "# Set the formatting for currency, and print the cross tab\n",
        "pd.options.display.float_format = '${:,.2f}'.format\n",
        "print(pd.crosstab(test_pred_df['true_loan_status'],\n",
        "                 test_pred_df['pred_loan_status_15']).apply(lambda x: x * avg_loan, axis = 0))"
      ],
      "execution_count": null,
      "outputs": []
    },
    {
      "cell_type": "markdown",
      "metadata": {
        "id": "4BcSwI5VMeW7"
      },
      "source": [
        "<script.py> output:\n",
        "\n",
        "    count    11784.000000\n",
        "    mean      9556.283944\n",
        "    std       6238.005674\n",
        "    min        500.000000\n",
        "    25%       5000.000000\n",
        "    50%       8000.000000\n",
        "    75%      12000.000000\n",
        "    max      35000.000000\n",
        "    Name: loan_amnt, dtype: float64\n",
        "    pred_loan_status_15              0              1\n",
        "    true_loan_status                                 \n",
        "    0                   $87,812,693.16     $86,006.56\n",
        "    1                    $7,903,046.82 $16,809,503.46"
      ]
    },
    {
      "cell_type": "markdown",
      "metadata": {
        "id": "BEE8dSlfMjAU"
      },
      "source": [
        "Nice! With this, we can see that our bad rate of about 8% represents an estimated loan value of about 7.9 million dollars. This may seem like a lot at first, but compare it to the total value of non-default loans! With this, we are ready to start talking about our acceptance strategy going forward."
      ]
    },
    {
      "cell_type": "code",
      "metadata": {
        "colab": {
          "base_uri": "https://localhost:8080/",
          "height": 408
        },
        "id": "bqueFFFZUXoL",
        "outputId": "a488e81e-6978-4ed2-cc63-05f6325c30cb"
      },
      "source": [
        "accept_rates = [1.0, 0.95, 0.9, 0.85, 0.8, 0.75, 0.7, 0.65, 0.6, 0.55, 0.5, 0.45, 0.4, 0.35, 0.3, 0.25, 0.2, 0.15, 0.1, 0.05]\n",
        "preds_df\n",
        "preds_df_gbt\n",
        "test_pred_df\n",
        "gbt_preds\n",
        "preds1\n",
        "log_preds_df"
      ],
      "execution_count": 120,
      "outputs": [
        {
          "output_type": "execute_result",
          "data": {
            "text/html": [
              "<div>\n",
              "<style scoped>\n",
              "    .dataframe tbody tr th:only-of-type {\n",
              "        vertical-align: middle;\n",
              "    }\n",
              "\n",
              "    .dataframe tbody tr th {\n",
              "        vertical-align: top;\n",
              "    }\n",
              "\n",
              "    .dataframe thead th {\n",
              "        text-align: right;\n",
              "    }\n",
              "</style>\n",
              "<table border=\"1\" class=\"dataframe\">\n",
              "  <thead>\n",
              "    <tr style=\"text-align: right;\">\n",
              "      <th></th>\n",
              "      <th>prob_default</th>\n",
              "      <th>loan_status</th>\n",
              "    </tr>\n",
              "  </thead>\n",
              "  <tbody>\n",
              "    <tr>\n",
              "      <th>0</th>\n",
              "      <td>0.203595</td>\n",
              "      <td>0</td>\n",
              "    </tr>\n",
              "    <tr>\n",
              "      <th>1</th>\n",
              "      <td>0.137401</td>\n",
              "      <td>0</td>\n",
              "    </tr>\n",
              "    <tr>\n",
              "      <th>2</th>\n",
              "      <td>0.119622</td>\n",
              "      <td>0</td>\n",
              "    </tr>\n",
              "    <tr>\n",
              "      <th>3</th>\n",
              "      <td>0.307440</td>\n",
              "      <td>0</td>\n",
              "    </tr>\n",
              "    <tr>\n",
              "      <th>4</th>\n",
              "      <td>0.505785</td>\n",
              "      <td>1</td>\n",
              "    </tr>\n",
              "    <tr>\n",
              "      <th>...</th>\n",
              "      <td>...</td>\n",
              "      <td>...</td>\n",
              "    </tr>\n",
              "    <tr>\n",
              "      <th>11781</th>\n",
              "      <td>0.117611</td>\n",
              "      <td>0</td>\n",
              "    </tr>\n",
              "    <tr>\n",
              "      <th>11782</th>\n",
              "      <td>0.478990</td>\n",
              "      <td>1</td>\n",
              "    </tr>\n",
              "    <tr>\n",
              "      <th>11783</th>\n",
              "      <td>0.343653</td>\n",
              "      <td>0</td>\n",
              "    </tr>\n",
              "    <tr>\n",
              "      <th>11784</th>\n",
              "      <td>0.040130</td>\n",
              "      <td>0</td>\n",
              "    </tr>\n",
              "    <tr>\n",
              "      <th>11785</th>\n",
              "      <td>0.049490</td>\n",
              "      <td>0</td>\n",
              "    </tr>\n",
              "  </tbody>\n",
              "</table>\n",
              "<p>11786 rows × 2 columns</p>\n",
              "</div>"
            ],
            "text/plain": [
              "       prob_default  loan_status\n",
              "0          0.203595            0\n",
              "1          0.137401            0\n",
              "2          0.119622            0\n",
              "3          0.307440            0\n",
              "4          0.505785            1\n",
              "...             ...          ...\n",
              "11781      0.117611            0\n",
              "11782      0.478990            1\n",
              "11783      0.343653            0\n",
              "11784      0.040130            0\n",
              "11785      0.049490            0\n",
              "\n",
              "[11786 rows x 2 columns]"
            ]
          },
          "metadata": {
            "tags": []
          },
          "execution_count": 120
        }
      ]
    },
    {
      "cell_type": "code",
      "metadata": {
        "colab": {
          "base_uri": "https://localhost:8080/"
        },
        "id": "5gUE3-uWYPY5",
        "outputId": "e4f8ac32-374b-42dd-9513-9cbea3277760"
      },
      "source": [
        "thresholds = []\n",
        "bad_rates = []\n",
        "\n",
        "# Populate the arrays for the strategy table with a for loop\n",
        "for rate in accept_rates:\n",
        "  \t# Calculate the threshold for the acceptance rate\n",
        "    thresh = np.quantile(preds_df_gbt['prob_default'], rate).round(3)\n",
        "    #thresh = np.quantile(log_preds_df['prob_default'], rate).round(3)\n",
        "    # Add the threshold value to the list of thresholds\n",
        "    thresholds.append(np.quantile(preds_df_gbt['prob_default'], rate).round(3))\n",
        "    #thresholds.append(np.quantile(log_preds_df['prob_default'], rate).round(3))\n",
        "    # Reassign the loan_status value using the threshold\n",
        "    test_pred_df['pred_loan_status'] = test_pred_df['prob_default'].apply(lambda x: 1 if x > thresh else 0)\n",
        "    # Create a set of accepted loans using this acceptance rate\n",
        "    accepted_loans = test_pred_df[test_pred_df['pred_loan_status'] == 0]\n",
        "    # Calculate and append the bad rate using the acceptance rate\n",
        "    bad_rates.append(np.sum((accepted_loans['true_loan_status']) / len(accepted_loans['true_loan_status'])).round(3))\n",
        "    #print(accepted_loans)"
      ],
      "execution_count": 124,
      "outputs": [
        {
          "output_type": "stream",
          "text": [
            "      prob_default  pred_loan_status\n",
            "1                0                 0\n",
            "2                0                 0\n",
            "4                0                 0\n",
            "5                0                 0\n",
            "7                0                 0\n",
            "...            ...               ...\n",
            "3090             0                 0\n",
            "3092             0                 0\n",
            "3094             0                 0\n",
            "3096             0                 0\n",
            "3097             0                 0\n",
            "\n",
            "[1774 rows x 2 columns]\n",
            "      prob_default  pred_loan_status\n",
            "1                0                 0\n",
            "2                0                 0\n",
            "4                0                 0\n",
            "5                0                 0\n",
            "7                0                 0\n",
            "...            ...               ...\n",
            "3090             0                 0\n",
            "3092             0                 0\n",
            "3094             0                 0\n",
            "3096             0                 0\n",
            "3097             0                 0\n",
            "\n",
            "[1774 rows x 2 columns]\n",
            "      prob_default  pred_loan_status\n",
            "1                0                 0\n",
            "2                0                 0\n",
            "4                0                 0\n",
            "5                0                 0\n",
            "7                0                 0\n",
            "...            ...               ...\n",
            "3090             0                 0\n",
            "3092             0                 0\n",
            "3094             0                 0\n",
            "3096             0                 0\n",
            "3097             0                 0\n",
            "\n",
            "[1774 rows x 2 columns]\n",
            "      prob_default  pred_loan_status\n",
            "1                0                 0\n",
            "2                0                 0\n",
            "4                0                 0\n",
            "5                0                 0\n",
            "7                0                 0\n",
            "...            ...               ...\n",
            "3090             0                 0\n",
            "3092             0                 0\n",
            "3094             0                 0\n",
            "3096             0                 0\n",
            "3097             0                 0\n",
            "\n",
            "[1774 rows x 2 columns]\n",
            "      prob_default  pred_loan_status\n",
            "1                0                 0\n",
            "2                0                 0\n",
            "4                0                 0\n",
            "5                0                 0\n",
            "7                0                 0\n",
            "...            ...               ...\n",
            "3090             0                 0\n",
            "3092             0                 0\n",
            "3094             0                 0\n",
            "3096             0                 0\n",
            "3097             0                 0\n",
            "\n",
            "[1774 rows x 2 columns]\n",
            "      prob_default  pred_loan_status\n",
            "1                0                 0\n",
            "2                0                 0\n",
            "4                0                 0\n",
            "5                0                 0\n",
            "7                0                 0\n",
            "...            ...               ...\n",
            "3090             0                 0\n",
            "3092             0                 0\n",
            "3094             0                 0\n",
            "3096             0                 0\n",
            "3097             0                 0\n",
            "\n",
            "[1774 rows x 2 columns]\n",
            "      prob_default  pred_loan_status\n",
            "1                0                 0\n",
            "2                0                 0\n",
            "4                0                 0\n",
            "5                0                 0\n",
            "7                0                 0\n",
            "...            ...               ...\n",
            "3090             0                 0\n",
            "3092             0                 0\n",
            "3094             0                 0\n",
            "3096             0                 0\n",
            "3097             0                 0\n",
            "\n",
            "[1774 rows x 2 columns]\n",
            "      prob_default  pred_loan_status\n",
            "1                0                 0\n",
            "2                0                 0\n",
            "4                0                 0\n",
            "5                0                 0\n",
            "7                0                 0\n",
            "...            ...               ...\n",
            "3090             0                 0\n",
            "3092             0                 0\n",
            "3094             0                 0\n",
            "3096             0                 0\n",
            "3097             0                 0\n",
            "\n",
            "[1774 rows x 2 columns]\n",
            "      prob_default  pred_loan_status\n",
            "1                0                 0\n",
            "2                0                 0\n",
            "4                0                 0\n",
            "5                0                 0\n",
            "7                0                 0\n",
            "...            ...               ...\n",
            "3090             0                 0\n",
            "3092             0                 0\n",
            "3094             0                 0\n",
            "3096             0                 0\n",
            "3097             0                 0\n",
            "\n",
            "[1774 rows x 2 columns]\n",
            "      prob_default  pred_loan_status\n",
            "1                0                 0\n",
            "2                0                 0\n",
            "4                0                 0\n",
            "5                0                 0\n",
            "7                0                 0\n",
            "...            ...               ...\n",
            "3090             0                 0\n",
            "3092             0                 0\n",
            "3094             0                 0\n",
            "3096             0                 0\n",
            "3097             0                 0\n",
            "\n",
            "[1774 rows x 2 columns]\n",
            "      prob_default  pred_loan_status\n",
            "1                0                 0\n",
            "2                0                 0\n",
            "4                0                 0\n",
            "5                0                 0\n",
            "7                0                 0\n",
            "...            ...               ...\n",
            "3090             0                 0\n",
            "3092             0                 0\n",
            "3094             0                 0\n",
            "3096             0                 0\n",
            "3097             0                 0\n",
            "\n",
            "[1774 rows x 2 columns]\n",
            "      prob_default  pred_loan_status\n",
            "1                0                 0\n",
            "2                0                 0\n",
            "4                0                 0\n",
            "5                0                 0\n",
            "7                0                 0\n",
            "...            ...               ...\n",
            "3090             0                 0\n",
            "3092             0                 0\n",
            "3094             0                 0\n",
            "3096             0                 0\n",
            "3097             0                 0\n",
            "\n",
            "[1774 rows x 2 columns]\n",
            "      prob_default  pred_loan_status\n",
            "1                0                 0\n",
            "2                0                 0\n",
            "4                0                 0\n",
            "5                0                 0\n",
            "7                0                 0\n",
            "...            ...               ...\n",
            "3090             0                 0\n",
            "3092             0                 0\n",
            "3094             0                 0\n",
            "3096             0                 0\n",
            "3097             0                 0\n",
            "\n",
            "[1774 rows x 2 columns]\n",
            "      prob_default  pred_loan_status\n",
            "1                0                 0\n",
            "2                0                 0\n",
            "4                0                 0\n",
            "5                0                 0\n",
            "7                0                 0\n",
            "...            ...               ...\n",
            "3090             0                 0\n",
            "3092             0                 0\n",
            "3094             0                 0\n",
            "3096             0                 0\n",
            "3097             0                 0\n",
            "\n",
            "[1774 rows x 2 columns]\n",
            "      prob_default  pred_loan_status\n",
            "1                0                 0\n",
            "2                0                 0\n",
            "4                0                 0\n",
            "5                0                 0\n",
            "7                0                 0\n",
            "...            ...               ...\n",
            "3090             0                 0\n",
            "3092             0                 0\n",
            "3094             0                 0\n",
            "3096             0                 0\n",
            "3097             0                 0\n",
            "\n",
            "[1774 rows x 2 columns]\n",
            "      prob_default  pred_loan_status\n",
            "1                0                 0\n",
            "2                0                 0\n",
            "4                0                 0\n",
            "5                0                 0\n",
            "7                0                 0\n",
            "...            ...               ...\n",
            "3090             0                 0\n",
            "3092             0                 0\n",
            "3094             0                 0\n",
            "3096             0                 0\n",
            "3097             0                 0\n",
            "\n",
            "[1774 rows x 2 columns]\n",
            "      prob_default  pred_loan_status\n",
            "1                0                 0\n",
            "2                0                 0\n",
            "4                0                 0\n",
            "5                0                 0\n",
            "7                0                 0\n",
            "...            ...               ...\n",
            "3090             0                 0\n",
            "3092             0                 0\n",
            "3094             0                 0\n",
            "3096             0                 0\n",
            "3097             0                 0\n",
            "\n",
            "[1774 rows x 2 columns]\n",
            "      prob_default  pred_loan_status\n",
            "1                0                 0\n",
            "2                0                 0\n",
            "4                0                 0\n",
            "5                0                 0\n",
            "7                0                 0\n",
            "...            ...               ...\n",
            "3090             0                 0\n",
            "3092             0                 0\n",
            "3094             0                 0\n",
            "3096             0                 0\n",
            "3097             0                 0\n",
            "\n",
            "[1774 rows x 2 columns]\n",
            "      prob_default  pred_loan_status\n",
            "1                0                 0\n",
            "2                0                 0\n",
            "4                0                 0\n",
            "5                0                 0\n",
            "7                0                 0\n",
            "...            ...               ...\n",
            "3090             0                 0\n",
            "3092             0                 0\n",
            "3094             0                 0\n",
            "3096             0                 0\n",
            "3097             0                 0\n",
            "\n",
            "[1774 rows x 2 columns]\n",
            "      prob_default  pred_loan_status\n",
            "1                0                 0\n",
            "2                0                 0\n",
            "4                0                 0\n",
            "5                0                 0\n",
            "7                0                 0\n",
            "...            ...               ...\n",
            "3090             0                 0\n",
            "3092             0                 0\n",
            "3094             0                 0\n",
            "3096             0                 0\n",
            "3097             0                 0\n",
            "\n",
            "[1774 rows x 2 columns]\n"
          ],
          "name": "stdout"
        }
      ]
    },
    {
      "cell_type": "markdown",
      "metadata": {
        "id": "-P-EkoiPbNvk"
      },
      "source": [
        "<script.py> output:\n",
        "    [1.0, 0.95, 0.9, 0.85, 0.8, 0.75, 0.7, 0.65, 0.6, 0.55, 0.5, 0.45, 0.4, 0.35, 0.3, 0.25, 0.2, 0.15, 0.1, 0.05]"
      ]
    },
    {
      "cell_type": "code",
      "metadata": {
        "id": "GoKazkA5bQhk"
      },
      "source": [
        "# Create a data frame of the strategy table\n",
        "strat_df = pd.DataFrame(zip(accept_rates, thresholds, bad_rates),\n",
        "                        columns = ['Acceptance Rate','Threshold','Bad Rate'])\n",
        "\n",
        "# Print the entire table\n",
        "print(strat_df)"
      ],
      "execution_count": null,
      "outputs": []
    },
    {
      "cell_type": "markdown",
      "metadata": {
        "id": "lSfvUw8cbVl1"
      },
      "source": [
        "<script.py> output:\n",
        "\n",
        "        Acceptance Rate  Threshold  Bad Rate\n",
        "    0              1.00      1.000     0.219\n",
        "    1              0.95      0.992     0.179\n",
        "    2              0.90      0.976     0.132\n",
        "    3              0.85      0.804     0.083\n",
        "    4              0.80      0.254     0.061\n",
        "    5              0.75      0.178     0.052\n",
        "    6              0.70      0.138     0.043\n",
        "    7              0.65      0.111     0.036\n",
        "    8              0.60      0.093     0.030\n",
        "    9              0.55      0.078     0.027\n",
        "    10             0.50      0.066     0.023\n",
        "    11             0.45      0.055     0.020\n",
        "    12             0.40      0.045     0.017\n",
        "    13             0.35      0.037     0.014\n",
        "    14             0.30      0.030     0.010\n",
        "    15             0.25      0.022     0.008\n",
        "    16             0.20      0.015     0.005\n",
        "    17             0.15      0.008     0.001\n",
        "    18             0.10      0.004     0.000\n",
        "    19             0.05      0.002     0.000"
      ]
    },
    {
      "cell_type": "code",
      "metadata": {
        "id": "nl2jBw7bbfPt"
      },
      "source": [
        "# Visualize the distributions in the strategy table with a boxplot\n",
        "strat_df.boxplot()\n",
        "plt.show()"
      ],
      "execution_count": null,
      "outputs": []
    },
    {
      "cell_type": "markdown",
      "metadata": {
        "id": "m5lhNOtGbkS7"
      },
      "source": [
        "![image.png](data:image/png;base64,iVBORw0KGgoAAAANSUhEUgAAAqgAAAJdCAYAAAD+54X2AAAgAElEQVR4Ae2df7RdVXXv0786hlKoBSuI8nvQIj994A8qP4IPbEF+tRWEUiD8KBlSUECgT/SVlCJYHmBen+gDRdACQhQFSSghYCQGRYghMhJ+KIYilqBAQQhCH46x3phnd+97crPuvXsnc63vvWt/zhiHu+8668x51mfOe+Yn996EaYEbBCAAAQhAAAIQgAAEJhGBaZPotfBSIAABCEAAAhCAAAQgEBBUmgACEIAABCAAAQhAYFIRQFAnVTl4MRCAAAQgAAEIQAACCCo9AAEIQAACEIAABCAwqQggqJOqHLwYCEAAAhCAAAQgAIFeC+p+++0XDjnkkHDiiSdyz8jg2GOPDccccwzMMzKnx7Vf4/S8lj/9n58/PZ+fed3nu+66a7jxxhunvOH2WlCtmHPmzAmPPfYY94wMli5dGm699VaYZ2ROj2u/xh988MFwyy230PP0fG96gJ7Xvef8zd/8DYI61fX84x//eLjvvvum+jGm3Ot/6aWXwrJly6bc6+YFQ2BdCbz88svBBjY3CPSFAD2vq/Tf/d3fhcWLF+tegFPmXn8HFUF16qKOYRDUjsDYPuUJMKynfAk5QEcC9HxHYI7bEVRHmKpQCKqGPIKq4U5WHQGGtY49mTUE6HkNd8uKoOrYu2VGUN1QdgqEoHbCxeYCCDCsCygiR+hEgJ7vhMt1M4LqilMTDEHVcEdQNdzJqiPAsNaxJ7OGAD2v4W5ZEVQde7fMCKobyk6BENROuNhcAAGGdQFF5AidCNDznXC5bkZQXXFqgiGoGu4IqoY7WXUEGNY69mTWEKDnNdwtK4KqY++WGUF1Q9kpEILaCRebCyDAsC6giByhEwF6vhMu180IqitOTTAEVcMdQdVwJ6uOAMNax57MGgL0vIa7ZUVQdezdMiOobig7BUJQO+FicwEEGNYFFJEjdCJAz3fC5boZQXXFqQmGoGq4I6ga7mTVEWBY69iTWUOAntdwt6wIqo69W2YE1Q1lp0AIaidcbC6AAMO6gCJyhE4E6PlOuFw3I6iuODXBEFQNdwRVw52sOgIMax17MmsI0PMa7pYVQdWxd8uMoLqh7BQIQe2Ei80FEGBYF1BEjtCJAD3fCZfrZgTVFacmGIKq4Y6gariTVUeAYa1jT2YNAXpew92yIqg69m6ZEVQ3lJ0CIaidcLG5AAIM6wKKyBE6EaDnO+Fy3YyguuLUBENQNdwRVA13suoIMKx17MmsIUDPa7hbVgRVx94tM4LqhrJTIAS1Ey42F0CAYV1AETlCJwL0fCdcrpsRVFecmmAIqoY7gqrhTlYdAYa1jj2ZNQToeQ13y4qg6ti7ZUZQ3VB2CoSgdsLF5gIIMKwLKCJH6ESAnu+Ey3UzguqKUxMMQdVwR1A13MmqI8Cw1rEns4YAPa/hblkRVAH7a665JsyaNSssXLhwzOzLly8P06dPD3vttVd46KGHxtxnDyCo4+JJ9iCCmgwtgSchgRUrVoRzzz03/OVf/mW46qqrJuEr5CVBwJ8AgurPtG1EBLUtKcd9559/fjj++OODfRzrtscee4Qrr7xycJ82bdpY2wbrCOq4eJI9iKAmQ0vgSUbg9ttvDxtssEH4+7//+/DpT386HHPMMeGQQw6ZZK+SlwMBfwIIqj/TthER1LaknPeZnI4lqHPnzg3vfOc7m4z7779/+MY3vtF8PvoCQR1NJM/nCGoezmTRE3jPe94T5s2bF4aH9XHHHReuuOIK/YvjFUAgIYHhnk+YhtARAghqBEqOpfEE1d70TznllOZlnHrqqeHSSy9tPreL2bNnh7/9278d3HfZZZdw/fXXD34VwH4dgHs3BhdffHH4kz/5k873XXZ/T3jz9v+t8/PqXNSpW53gpeH13e9+N7zlLW8ZvK8sWbIk3H333YPryy67LBx66KG83/CeW3QPDPc870F534NOPPHEsHjx4jXcZyp+Mv7PwCfhicYTVPvR/kknndS8apPVyy+/vPncLpYtW9bcjz766HDXXXeFF198kfs6MLjjjjvCutz/9zU3hT1Pu3ydnmv5qBf9OhV64Pnnnw8bbbRR+MlPfhI+97nPhTPOOGPw3dSLLroonHbaafTxOrznTIW68xqr96dVq1aFH/7wh/S5oM/tvQZBXUP98nwynqAuWLAgbL/99s0L2XHHHcNtt93WfD76gh/xjyaS5/MfPPbv4YOXLciTjCwQEBI49thjw5ve9KbwoQ99aPCH5x122CG84Q1vCPfff7/wVZEaAukJ8CP+9IzHysCP+Mcik3Dd5NT+hr7d7W/z22316tVh9913b7LaX0Cw75zafdttt23WYxcIaoxK+jUENT1jMkwOAgceeGA44IADwhvf+MawxRZbhJ133nnwe/L2q0XcIFAyAQRVV10EVcC+/u5p/dFeggnqtddeu8arseLYfaIbgjoRoTSPI6hpuBJ1chGwH/Hb76Da7Ve/+lWwv9Fvt+uuu26NX0UaLPIfCBRGAEHVFRRB1bF3y4yguqHsFAhB7YSLzVOUgP3h2X4H9be//e0af4vf/i1U+wuc3CBQMgEEVVddBFXH3i0zguqGslMgBLUTLjZPYQLHHXfc4NeR6mH95JNPhl133XXwFwSn8LF46RCYkEDd8xNuZIM7AQTVHWn+gAhqfuaWEUHVcCdrfgLPPvtsOOyww8Juu+0W9t1337Dhhhuu9U/f5X9VZIRAegIIanrGY2VAUMciM4XWEVRNsRBUDXey6gjce++94Qtf+EIwYeUGgT4QQFB1VUZQdezdMiOobig7BUJQO+FicwEE7N+EHO+fvCvgiBwBAmsQQFDXwJH1EwQ1K+40yRDUNFwnioqgTkSIx0sicPrppw/+stTWW28d7N9BvfHGG0s6HmeBQJQAghrFkmURQc2COW0SBDUt37GiI6hjkWG9NAJnnnlmmDlz5uCfmXrwwQfD9773vbDZZpuF++67r7Sjch4IrEEAQV0DR9ZPENSsuNMkQ1DTcJ0oKoI6ESEeL4HA66+/PvjO6QsvvLDGPzM1e/bscNZZZ5VwRM4AgTEJIKhjokn+AIKaHHH6BAhqesaxDAhqjAprpRH45S9/Gd72trcNjjU8rOfMmROOP/740o7LeSCwBoHhnl/jAT5JTgBBTY44fQIENT3jWAYENUaFtRIJ7LnnnuHb3/72Gt9B/eu//uvw+c9/vsTjciYINAQQ1AZF9gsENTty/4QIqj/TNhER1DaU2FMCgTvuuCP83u/9XvjkJz8ZLrjggvDhD384HH744SUcjTNAYFwCCOq4eJI+iKAmxZsnOIKah/PoLAjqaCJ8XjKBRx99NJx33nnhyCOPDFdffXXJR+VsEGgIIKgNiuwXCGp25P4JEVR/pm0iIqhtKLGnJAIM65KqyVnaEKDn21BKswdBTcM1a1QENSvuJhmC2qDgoicEGNY9KTTHbAjQ8w2K7BcIanbk/gkRVH+mbSIiqG0osackAgzrkqrJWdoQoOfbUEqzB0FNwzVrVAQ1K+4mGYLaoOCiJwQY1j0pNMdsCNDzDYrsFwhqduT+CRFUf6ZtIiKobSixpyQCDOuSqslZ2hCg59tQSrMHQU3DNWtUBDUr7iYZgtqg4KInBBjWPSk0x2wI0PMNiuwXCGp25P4JEVR/pm0iIqhtKLGnJAIM65KqyVnaEKDn21BKswdBTcM1a1QENSvuJhmC2qDgoicEGNY9KTTHbAjQ8w2K7BcIanbk/gkRVH+mbSIiqG0osackAgzrkqrJWdoQoOfbUEqzB0FNwzVrVAQ1K+4mGYLaoOCiJwQY1j0pNMdsCNDzDYrsFwhqduT+CRFUf6ZtIiKobSixpyQCDOuSqslZ2hCg59tQSrMHQU3DNWtUBDUr7iYZgtqg4KInBBjWPSk0x2wI0PMNiuwXCGp25P4JEVR/pm0iIqhtKLGnJAIM65KqyVnaEKDn21BKswdBTcM1a1QENSvuJhmC2qDgoicEGNY9KTTHbAjQ8w2K7BcIanbk/gkRVH+mbSIiqG0osackAgzrkqrJWdoQoOfbUEqzB0FNwzVrVAQ1K+4mGYLaoOCiJwQY1j0pNMdsCNDzDYrsFwhqduT+CRFUf6ZtIiKobSixpyQCDOuSqslZ2hCg59tQSrMHQU3DNWtUBDUr7iYZgtqg4KInBBjWPSk0x2wI0PMNiuwXCGp25P4JEVR/pm0iIqhtKLGnJAIM65KqyVnaEKDn21BKswdBTcM1a1QENSvuJhmC2qDgoicEGNY9KTTHbAjQ8w2K7BcIanbk/gkRVH+mbSIiqG0osackAgzrkqrJWdoQoOfbUEqzB0FNwzVrVAQ1K+4mGYLaoOCiJwQY1j0pNMdsCNDzDYrsFwhqduT+CRFUf6ZtIiKobSixpyQCDOuSqslZ2hCg59tQSrMHQU3DNWtUBDUr7iYZgtqg4KInBBjWPSk0x2wI0PMNiuwXCGp25P4JEVR/pm0iIqhtKLGnJAIM65KqyVnaEKDn21BKswdBTcM1a1QENSvuJhmC2qDgoicEGNY9KTTHbAjQ8w2K7BcIanbk/gkRVH+mbSIiqG0osackAgzrkqrJWdoQoOfbUEqzB0FNwzVrVAQ1K+4mGYLaoOCiJwQY1j0pNMdsCNDzDYrsFwhqduT+CRFUf6ZtIiKobSixpyQCDOuSqslZ2hCg59tQSrMHQU3DNWtUBDUr7iYZgtqg4KInBBjWPSk0x2wI0PMNiuwXCGp25P4JEVR/pm0iIqhtKLGnJAIM65KqyVnaEKDn21BKswdBTcM1a1QENSvuJhmC2qDgoicEGNY9KTTHbAjQ8w2K7BcIanbk/gkRVH+mbSIiqG0osackAgzrkqrJWdoQoOfbUEqzB0FNwzVrVAQ1K+4mGYLaoOCiJwQY1j0pNMdsCNDzDYrsFwhqduT+CRFUf6ZtIiKobSixpyQCDOuSqslZ2hCg59tQSrMHQU3DNWtUBDUr7iYZgtqg4KInBBjWPSk0x2wI0PMNiuwXCGp25P4JEVR/pm0iIqhtKLGnJAIM65KqyVnaEKDn21BKswdBTcM1a1QENSvuJhmC2qDgoicEGNY9KTTHbAjQ8w2K7BcIanbk/gkRVH+mbSIiqG0osackAgzrkqrJWdoQoOfbUEqzB0FNwzVrVAQ1K+4mGYLaoOCiJwQY1j0pNMdsCNDzDYrsFwhqduT+CRFUf6ZtIiKobSixpyQCDOuSqslZ2hCg59tQSrMHQU3DNWtUBDUr7iYZgtqg4KInBBjWPSk0x2wI0PMNiuwXCGp25P4JEVR/pm0iIqhtKLGnJAIM65KqyVnaEKDn21BKswdBTcM1a1QENSvuJhmC2qDgoicEGNY9KTTHbAjQ8w2K7BcIanbk/gkRVH+mbSIiqG0osackAgzrkqrJWdoQoOfbUEqzB0FNwzVrVAQ1K+4mGYLaoOCiJwQY1j0pNMdsCNDzDYrsFwhqduT+CRFUf6ZtIiKobSixpyQCDOuSqslZ2hCg59tQSrMHQU3DNWtUBDUr7iYZgtqg4KInBBjWPSk0x2wI0PMNiuwXCGp25P4JEVR/pm0iIqhtKLGnJAIM65KqyVnaEKDn21BKswdBTcM1a1QENSvuJhmC2qDgoicEGNY9KTTHbAjQ8w2K7BcIanbk/gkRVH+mbSIiqG0osackAgzrkqrJWdoQoOfbUEqzB0FNwzVrVAQ1K+4mGYLaoOCiJwQY1j0pNMdsCNDzDYrsFwhqduT+CRFUf6ZtIiKobSixpyQCDOuSqslZ2hCg59tQSrMHQU3DNWtUBDUr7iYZgtqg4KInBBjWPSk0x2wI0PMNiuwXCGp25P4JEVR/pm0iIqhtKLGnJAIM65KqyVnaEKDn21BKswdBTcM1a1QENSvuJhmC2qDgoicEGNY9KTTHbAjQ8w2K7BcIanbk/gkRVH+mbSIiqG0osackAgzrkqrJWdoQoOfbUEqzB0FNwzVrVAQ1K+4mGYLaoOCiJwQY1j0pNMdsCNDzDYrsFwhqduT+CRFUf6ZtIiKobSixpyQCDOuSqslZ2hCg59tQSrMHQU3DNWtUBDUr7iYZgtqg4KInBBjWPSk0x2wI0PMNiuwXCGp25P4JEVR/pm0iIqhtKLGnJAIM65KqyVnaEKDn21BKswdBTcM1a1QENSvuJhmC2qDgoicEGNY9KTTHbAjQ8w2K7BcIanbk/gkRVH+mbSIiqG0osackAgzrkqrJWdoQoOfbUEqzB0FNwzVrVAQ1K+4mGYLaoOCiJwQY1j0pNMdsCNDzDYrsFwhqduT+CRFUf6ZtIiKobSixpyQCDOuSqslZ2hCg59tQSrMHQU3DNWtUBDUr7iYZgtqg4KInBBjWPSk0x2wI0PMNiuwXCGp25P4JEVR/pm0iIqhtKLGnJAIM65KqyVnaEKDn21BKswdBTcM1a1QENSvuJhmC2qDgoicEGNY9KTTHbAjQ8w2K7BcIanbk/gkRVH+mbSIiqG0osackAgzrkqrJWdoQoOfbUEqzB0FNwzVrVAQ1K+4mGYLaoOCiJwQY1j0pNMdsCNDzDYrsFwhqduT+CRFUf6ZtIiKobSixpyQCDOuSqslZ2hCg59tQSrMHQU3DNWtUBDUr7iYZgtqg4KInBBjWPSk0x2wI0PMNiuwXCGp25P4JEVR/pm0iIqhtKLGnJAIM65KqyVnaEKDn21BKswdBTcM1a1QENSvuJhmC2qDgoicEGNY9KTTHbAjQ8w2K7BcIanbk/gkRVH+mbSIiqG0osackAgzrkqrJWdoQoOfbUEqzB0FNwzVrVAQ1K+4mGYLaoOCiJwQY1j0pNMdsCNDzDYrsFwhqduT+CRFUf6ZtIiKobSixpyQCDOuSqslZ2hCg59tQSrMHQU3DNWtUBDUr7iYZgtqg4KInBBjWPSk0x2wI0PMNiuwXCGp25P4JEVR/pm0iIqhtKLGnJAIM65KqyVnaEKDn21BKswdBTcM1a1QENSvuJhmC2qDgoicEGNY9KTTHbAjQ8w2K7BcIanbk/gkRVH+mbSIiqG0osackAgzrkqrJWdoQoOfbUEqzB0FNwzVrVAQ1K+4mGYLaoOCiJwQY1j0pNMdsCNDzDYrsFwhqduT+CRFUf6ZtIiKobSixpxQCv/rVr8Kll14aTjnllHDLLbeUcizOAYFxCSCo4+JJ+iCCmhRvnuAIah7Oo7MgqKOJ8HmpBBYvXhze/va3h4985CPhzDPPDB/4wAfCcccdV+pxORcEGgIIaoMi+wWCmh15CMuXLw9XXHFFuPLKK8fMvmrVqnDRRReFWbNmDfaPuTGEgKCORyfdYwhqOrZEnlwE9ttvv/C1r30tDA/rv/iLvwhf/vKXJ9cL5dVAwJnAcM87hybcBAQQ1AkAeT9szb7jjjuGc889d/CjskMPPTSaYtq0aYPH7bsVdj3eDUEdj066xxDUdGyJPHkIPPvss2GzzTYbvKDhYW3CesIJJ0yeF8orgUACAsM9nyA8IcchgKCOAyfFQwsXLgzvf//7m9CbbLJJsLXh29KlS8Nb3vKWZumP/uiPwv333998PvoCQR1NJM/nCGoezmTREnj11VfDBhtsEH7zm9+s8R3Uz3/+8+H000/XvjiyQyAxAQQ1MeBxwiOo48BJ8dDnPve5cOqppzahd91117UE1R6075oO35sn/NfF7Nmzw+WXXz6477333uHmm28Ojz/+OPeMDG5ZtDT82SX/CvOMzOlxzdf40UcfHU4++eTw8MMPh0WLFoXbb789bLXVVuH666+n/+n/onug7nnee/K/98ycOTPY779P9dv4PwOfRKf753/+53DGGWc0r+id73znWoL60ksvDeTURPbEE08cXNvvpA7fTEjr+0EHHRTmzZsXnn76ae4ZGdx+34pw4P+6A+YZmdPjmq/xn/3sZ+FDH/pQ2GKLLcIuu+wS3vzmN4dLLrmE3qf3i++BlStXhnvvvbf4c07G99bTTjsNQR0Wv9TX9p2HI444okmz6aabriWoc+bMWWOP/UUpu49140f8Y5FJu86P+NPyJfrkI7BixYpw3XXXhddff33yvTheEQQSEOBH/AmgtgzJj/hbgvLa9swzz4Rtt9128CMy+1v8O++88yD06tWrm79w8J//+Z9hm222GYir/X6q/aj/xRdfHPMlIKhjokn6AIKaFC/BJyEBhvUkLAovKSkBej4p3nGDI6jj4knzoH2H9Kijjhr8LuqTTz45SGKCetZZZzUJr7766nDssceGGTNmDH7Pq3kgcoGgRqBkWEJQM0AmxaQiwLCeVOXgxWQgQM9ngDxGCgR1DDBTaRlB1VQLQdVwJ6uOAMNax57MGgL0vIa7ZUVQdezdMiOobig7BUJQO+FicwEEGNYFFJEjdCJAz3fC5boZQXXFqQmGoGq4I6ga7mTVEWBY69iTWUOAntdwt6wIqo69W2YE1Q1lp0AIaidcbC6AAMO6gCJyhE4E6PlOuFw3I6iuODXBEFQNdwRVw52sOgIMax17MmsI0PMa7pYVQdWxd8uMoLqh7BQIQe2Ei80FEGBYF1BEjtCJAD3fCZfrZgTVFacmGIKq4Y6gariTVUeAYa1jT2YNAXpew92yIqg69m6ZEVQ3lJ0CIaidcLG5AAIM6wKKyBE6EaDnO+Fy3YyguuLUBENQNdwRVA13suoIMKx17MmsIUDPa7hbVgRVx94tM4LqhrJTIAS1Ey42F0CAYV1AETlCJwL0fCdcrpsRVFecmmAIqoY7gqrhTlYdAYa1jj2ZNQToeQ13y4qg6ti7ZUZQ3VB2CoSgdsLF5gIIMKwLKCJH6ESAnu+Ey3UzguqKUxMMQdVwR1A13MmqI8Cw1rEns4YAPa/hblkRVB17t8wIqhvKToEQ1E642FwAAYZ1AUXkCJ0I0POdcLluRlBdcWqCIagV91f+87ch5/27y58KB166IGtOOx83CKgIMKxV5MmrIkDPq8jzHVQdecfMCGoF8x/nrgg7/v0dYfd/XJDlvsusO8K2n5ibJVd9pgNnLwo/f/4Vx+4hFATaE2BYt2fFzjII0PO6OvIdVB17t8wIaoXyonkPh6/+4N/cuE4U6KWXXgrLli2baJvr4x/47D0IqitRgnUhwLDuQou9JRCg53VVRFB17N0yI6gVSgTVraUIBIEoAYZ1FAuLBROg53XFRVB17N0yI6gVSgTVraUIBIEoAYZ1FAuLBROg53XFRVB17N0yI6gVSgTVraUIBIEoAYZ1FAuLBROg53XFRVB17N0yI6gVSgTVraUIBIEoAYZ1FAuLBROg53XFRVB17N0yI6gVSgTVraUIBIEoAYZ1FAuLBROg53XFRVB17N0yI6gVSgTVraUIBIEoAYZ1FAuLBROg53XFRVB17N0yI6gVSgTVraUIBIEoAYZ1FAuLBROg53XFRVB17N0yI6gVSgTVraUIBIEoAYZ1FAuLBROg53XFRVB17N0yI6gVSgTVraUIBIEoAYZ1FAuLBROg53XFRVB17N0yI6gVSgTVraUIBIEoAYZ1FAuLBROg53XFRVB17N0yI6gVSgTVraUIBIEoAYZ1FAuLBROg53XFRVB17N0yI6gVSgTVraUIBIEoAYZ1FAuLBROg53XFRVB17N0yI6gVSgTVraUIBIEoAYZ1FAuLBROg53XFRVB17N0yI6gVSgTVraUIBIEoAYZ1FAuLBROg53XFRVB17N0yI6gVSgTVraUIBIEoAYZ1FAuLBROg53XFRVB17N0yI6gVSgTVraUIBIEoAYZ1FAuLBROg53XFRVB17N0yI6gVSgTVraUIBIEoAYZ1FAuLBROg53XFRVB17N0yI6gVSgTVraUIBIEoAYZ1FAuLBROg53XFRVB17N0yI6gVSgTVraUIBIEoAYZ1FAuLBROg53XFRVB17N0yI6gVSgTVraUIBIEoAYZ1FAuLBROg53XFRVB17N0yI6gVSgTVraUIBIEoAYZ1FAuLBROg53XFRVB17N0yI6gVSgTVraUIBIEoAYZ1FAuLBROg53XFRVB17N0yI6gVSgTVraUIBIEoAYZ1FAuLBROg53XFRVB17N0yI6gVSgTVraUIBIEoAYZ1FAuLBROg53XFRVB17N0yI6gVSgTVraUIBIEoAYZ1FAuLBROg53XFRVB17N0yI6gVSgTVraUIBIEoAYZ1FAuLBROg53XFRVB17N0yI6gVSgTVraUIBIEoAYZ1FAuLBROg53XFRVB17N0yI6gVSgTVraUIBIEoAYZ1FAuLBROg53XFRVB17N0yI6gVSgTVraUIBIEoAYZ1FAuLBROg53XFRVB17N0yI6gVSgTVraUIBIEoAYZ1FAuLBROg53XFRVB17N0yI6gVSgTVraUIBIEoAYZ1FAuLBROg53XFRVB17N0yI6gVSgTVraUIBIEoAYZ1FAuLBROg53XFRVB17N0yI6gVSgTVraUIBIEoAYZ1FAuLBROg53XFRVB17N0yI6gVSgTVraUIBIEoAYZ1FAuLBROg53XFRVB17N0yI6gVSgTVraUIBIEoAYZ1FAuLBROg53XFRVB17N0yI6gVSgTVraUIBIEoAYZ1FAuLBROg53XFRVB17N0yI6gVSgTVraUIBIEoAYZ1FAuLBROg53XFRVB17N0yI6gVSgTVraUIBIEoAYZ1FAuLBROg53XFRVB17N0yI6gVSgTVraUIBIEoAYZ1FAuLBROg53XFRVB17N0yI6gVSgTVraUIBIEoAYZ1FAuLBROg53XFRVB17N0yI6gVSgTVraUIBIEoAYZ1FAuLBROg53XFRVB17N0yI6gVSgTVraUIBIEoAYZ1FAuLBROg53XFRVB17N0yI6gVSgTVraUIBIEoAYZ1FAuLBROg53XFRVB17N0yI6gVSgTVraUIBIEoAYZ1FAuLBROg53XFRVB17N0yI6gVSgTVraUIBIEoAYZ1FAuLBROg53XFRVB17N0yI6gVSgTVraUIBIEoAYZ1FAuLBROg53XFRVB17N0yI6gVSgTVraUIBB5wJNYAACAASURBVIEoAYZ1FAuLBROg53XFRVB17N0yI6gVSgTVraUIBIEoAYZ1FAuLBROg53XFRVB17N0yI6gVSgTVraUIBIEoAYZ1FAuLBROg53XFRVB17N0yI6gVSgTVraUIBIEoAYZ1FAuLBROg53XFRVB17N0yI6gVSgTVraUIBIEoAYZ1FAuLBROg53XFRVB17N0yI6gVSgTVraUIBIEoAYZ1FAuLBROg53XFRVB17N0yI6gVSgTVraUIBIEoAYZ1FAuLBROg53XFRVB17N0yI6gVSgTVraUIBIEoAYZ1FAuLBROg53XFRVB17N0yI6gVSgTVraUIBIEoAYZ1FAuLBROg53XFRVB17N0yI6gVSgTVraUIBIEoAYZ1FAuLBROg53XFRVB17N0yI6gVSgTVraUIBIEoAYZ1FAuLBROg53XFRVB17N0yI6gVSgTVraUIBIEoAYZ1FAuLBROg53XFRVB17N0yI6gVSgTVraUIBIEoAYZ1FAuLBROg53XFRVB17N0yI6gVSgTVraUIBIEoAYZ1FAuLBROg53XFRVB17N0yI6gVSgTVraUIBIEoAYZ1FAuLBROg53XFRVB17N0yI6gVSgTVraUIBIEoAYZ1FAuLBROg53XFRVB17N0yI6gVSgTVraUIBIEoAYZ1FAuLBROg53XFRVB17N0yI6gVSgTVraUIBIEoAYZ1FAuLBROg53XFRVB17N0yI6gVSgTVraUIBIEoAYZ1FAuLBROg53XFRVB17N0yI6gVSgTVraUIBIEoAYZ1FAuLBROg53XFRVB17N0yI6gVSgTVraUIBIEoAYZ1FAuLBROg53XFRVB17N0yI6gVSgTVraUIBIEoAYZ1FAuLBROg53XFRVB17N0yI6gVSgTVraUIBIEoAYZ1FAuLBROg53XFRVB17N0yI6gVSgTVraUIBIEoAYZ1FAuLBROg53XFRVB17N0yI6gVSgTVraUIBIEoAYZ1FAuLBROg53XFRVB17N0yI6gVSgTVraUIBIEoAYZ1FAuLBROg53XFRVB17N0yI6gVSgTVraUIBIEoAYZ1FAuLBROg53XFRVB17N0yI6gVSgTVraUIBIEoAYZ1FAuLBROg53XFRVB17N0yI6gVSgTVraUIBIEoAYZ1FAuLBROg53XFRVB17N0yI6gVSgTVraUIBIEoAYZ1FAuLBROg53XFRVB17N0yI6gVSgTVraUIBIEoAYZ1FAuLBROg53XFRVB17N0yI6gVSgTVraUIBIEoAYZ1FAuLBROg53XFRVB17N0yI6gVSgTVraUIBIEoAYZ1FAuLBROg53XFRVAF7JcvXx4WLlw4uI+X/qmnngpz5swJS5YsGW9bQFArPAjquG3CgxBYbwIM6/VGSIApRoCe1xUMQc3M/pVXXgk77rhjOPDAA8Nee+0VjjjiiOgrOP3008O0adMGj+++++7RPfUiglqRQFDrjuAjBNIQYFin4UrUyUuAntfVBkHNzH7p0qVh+vTpTdaNN944/PSnP20+t4v77rsvbLLJJmusjfcJglrRQVDH6xIeg8D6E2BYrz9DIkwtAvS8rl4Iamb2V199dZgxY0aTdeedd17rR/324/8///M/D9ttt93gu6izZs1q9tcXt956a6jvBx98cJg3b15YtWpVr++fnPNA+Nz8h7IxWLlyZfj+97+fLZ/V9/2X3B1+9Oi/Zc3Z977i/CPvK0888UT2nof/CH9Y5GdBz+dnXvf5aaedFhYvXlxrz5T9OG2qvPJLLrkknHPOOc3L3XPPPaOCuv322w++k2obf+d3fif8+Mc/bp5jF7Nnzw4Wy+7ve9/7wje+8Y3Bd2Ltu7F9vZ9z/ffDZd9+INv57XeJFy1alC2f1XX6ZxaERUsfzpqzr/3Eudd+L1mxYkW455576L8ev8/27euCnl/7fSBXD8ycORNBXcP8En8yd+7ccMghhzRZttpqq6igDv8agH0HNfZd1DoIP+KvSPAj/roj+AiBNAT4cWcarkSdvAToeV1t+BF/ZvY///nPB7+D+vzzzwf7k9nmm28+eAWrV68Ol19+efNqttxyy+Y7qFtsscXgR7rNg6MuENQKCII6qjH4FALOBBjWzkAJN+kJ0PO6EiGoAvb23VD7Dqn9TX37S1N2M0E94IADmlfz9a9/Pbz1rW8d/A6q7RvvhqBWdBDU8bqExyCw/gQY1uvPkAhTiwA9r6sXgqpj75YZQa1QIqhuLUUgCEQJMKyjWFgsmAA9rysugqpj75YZQa1QIqhuLUUgCEQJMKyjWFgsmAA9rysugqpj75YZQa1QIqhuLUUgCEQJMKyjWFgsmAA9rysugqpj75YZQa1QIqhuLUUgCEQJMKyjWFgsmAA9rysugqpj75YZQa1QIqhuLUUgCEQJMKyjWFgsmAA9rysugqpj75YZQa1QIqhuLUUgCEQJMKyjWFgsmAA9rysugqpj75YZQa1QIqhuLUUgCEQJMKyjWFgsmAA9rysugqpj75YZQa1QIqhuLUUgCEQJMKyjWFgsmAA9rysugqpj75YZQa1QIqhuLUUgCEQJMKyjWFgsmAA9rysugqpj75YZQa1QIqhuLUUgCEQJMKyjWFgsmAA9rysugqpj75YZQa1QIqhuLUUgCEQJMKyjWFgsmAA9rysugqpj75YZQa1QIqhuLUUgCEQJMKyjWFgsmAA9rysugqpj75YZQa1QIqhuLUUgCEQJMKyjWFgsmAA9rysugqpj75YZQa1QIqhuLUUgCEQJMKyjWFgsmAA9rysugqpj75YZQa1QIqhuLUUgCEQJMKyjWFgsmAA9rysugqpj75YZQa1QIqhuLUUgCEQJMKyjWFgsmAA9rysugqpj75YZQa1QIqhuLUUgCEQJMKyjWFgsmAA9rysugqpj75YZQa1QIqhuLUUgCEQJMKyjWFgsmAA9rysugqpj75YZQa1QIqhuLUUgCEQJMKyjWFgsmAA9rysugqpj75YZQa1QIqhuLUUgCEQJMKyjWFgsmAA9rysugqpj75YZQa1QIqhuLUUgCEQJMKyjWFgsmAA9rysugqpj75YZQa1QIqhuLUUgCEQJMKyjWFgsmAA9rysugqpj75YZQa1QIqhuLUUgCEQJMKyjWFgsmAA9rysugqpj75YZQa1QIqhuLUUgCEQJMKyjWFgsmAA9rysugqpj75YZQa1QIqhuLUUgCEQJMKyjWFgsmAA9rysugqpj75YZQa1QIqhuLUUgCEQJMKyjWFgsmAA9rysugqpj75YZQa1QIqhuLUUgCEQJMKyjWFgsmAA9rysugqpj75YZQa1QIqhuLUUgCEQJMKyjWFgsmAA9rysugqpj75YZQa1QIqhuLUUgCEQJMKyjWFgsmAA9rysugqpj75YZQa1QIqhuLUUgCEQJMKyjWFgsmAA9rysugqpj75YZQa1QIqhuLUUgCEQJMKyjWFgsmAA9rysugqpj75YZQa1QIqhuLUUgCEQJMKyjWFgsmAA9rysugqpj75YZQa1QIqhuLUUgCEQJMKyjWFgsmAA9rysugqpj75YZQa1QIqhuLUUgCEQJMKyjWFgsmAA9rysugqpj75YZQa1QfuSb14ZPLfhauOvJu7Lcb3v0tvCle76UJVd9pn0+989h6b8/4dY7BIJAFwIM6y602FsCAXpeV0UEVcfeLTOCWqH88Jz/GT78zdPD/1j0P7LcP/6dj4eZt87Mkqs+07uuOhFBdfvKIVBXAgzrrsTYP9UJ0PO6CiKoOvZumRHUCiU/4ndrKQJBIEqAYR3FwmLBBOh5XXERVB17t8wIaoUSQXVrKQJBIEqAYR3FwmLBBOh5XXERVB17t8wIaoUSQXVrKQJBIEqAYR3FwmLBBOh5XXERVB17t8wIaoUSQXVrKQJBIEqAYR3FwmLBBOh5XXERVB17t8wIaoUSQXVrKQJBIEqAYR3FwmLBBOh5XXERVB17t8wIaoUSQXVrKQJBIEqAYR3FwmLBBOh5XXERVB17t8wIaoUSQXVrKQJBIEqAYR3FwmLBBOh5XXERVB17t8wIaoUSQXVrKQJBIEqAYR3FwmLBBOh5XXERVB17t8wIaoUSQXVrKQJBIEqAYR3FwmLBBOh5XXERVB17t8wIaoUSQXVrKQJBIEqAYR3FwmLBBOh5XXERVB17t8wIaoUSQXVrKQJBIEqAYR3FwmLBBOh5XXERVB17t8wIaoUSQXVrKQJBIEqAYR3FwmLBBOh5XXERVB17t8wIaoUSQXVrKQJBIEqAYR3FwmLBBOh5XXERVB17t8wIaoUSQXVrKQJBIEqAYR3FwmLBBOh5XXERVB17t8wIaoUSQXVrKQJBIEqAYR3FwmLBBOh5XXERVB17t8wIaoUSQXVrKQJBIEqAYR3FwmLBBOh5XXERVB17t8wIaoUSQXVrKQJBIEqAYR3FwmLBBOh5XXERVB17t8wIaoUSQXVrKQJBIEqAYR3FwmLBBOh5XXERVB17t8wIaoUSQXVrKQJBIEqAYR3FwmLBBOh5XXERVB17t8wIaoUSQXVrKQJBIEqAYR3FwmLBBOh5XXERVB17t8wIaoUSQXVrKQJBIEqAYR3FwmLBBOh5XXERVB17t8wIaoUSQXVrKQJBIEqAYR3FwmLBBOh5XXERVB17t8wIaoUSQXVrKQJBIEqAYR3FwmLBBOh5XXERVB17t8wIaoUSQXVrKQJBIEqAYR3FwmLBBOh5XXERVB17t8wIaoUSQXVrKQJBIEqAYR3FwmLBBOh5XXERVB17t8wIaoUSQXVrKQJBIEqAYR3FwmLBBOh5XXERVB17t8wIaoUSQXVrKQJBIEqAYR3FwmLBBOh5XXERVB17t8wIaoUSQXVrKQJBIEqAYR3FwmLBBOh5XXERVB17t8wIaoUSQXVrKQJBIEqAYR3FwmLBBOh5XXERVB17t8wIaoUSQXVrKQJBIEqAYR3FwmLBBOh5XXERVB17t8wIaoUSQXVrKQJBIEqAYR3FwmLBBOh5XXERVB17t8wIaoUSQXVrKQJBIEqAYR3FwmLBBOh5XXERVB17t8wIaoUSQXVrKQJBIEqAYR3FwmLBBOh5XXERVB17t8wIaoUSQXVrKQJBIEqAYR3FwmLBBOh5XXERVB17t8wIaoUSQXVrKQJBIEqAYR3FwmLBBOh5XXERVB17t8wIaoUSQXVrKQJBIEqAYR3FwmLBBOh5XXERVB17t8wIaoUSQXVrKQJBIEqAYR3FwmLBBOh5XXERVB17t8wIaoUSQXVrKQJBIEqAYR3FwmLBBOh5XXERVB17t8wIaoUSQXVrKQJBIEqAYR3FwmLBBOh5XXERVB17t8wIaoUSQXVrKQJBIEqAYR3FwmLBBOh5XXERVB17t8wIaoUSQXVrKQJBIEqAYR3FwmLBBOh5XXERVB17t8wIaoUSQXVrKQJBIEqAYR3FwmLBBOh5XXERVB17t8wIaoUSQXVrKQJBIEqAYR3FwmLBBOh5XXERVB17t8wIaoUSQXVrKQJBIEqAYR3FwmLBBOh5XXERVB17t8wIaoUSQXVrKQJBIEqAYR3FwmLBBOh5XXERVB17t8wIaoUSQXVrKQJBIEqAYR3FwmLBBOh5XXERVB17t8wIaoUSQXVrKQJBIEqAYR3FwmLBBOh5XXERVB17t8wIaoUSQXVrKQJBIEqAYR3FwmLBBOh5XXERVB17t8wIaoUSQXVrKQJBIEqAYR3FwmLBBOh5XXERVB17t8wIaoUSQXVrKQJBIEqAYR3FwmLBBOh5XXERVB17t8wIaoUSQXVrKQJBIEqAYR3FwmLBBOh5XXERVB17t8wIaoUSQXVrKQJBIEqAYR3FwmLBBOh5XXERVB17t8wIaoUSQXVrKQJBIEqAYR3FwmLBBOh5XXERVB17t8wIaoUSQXVrKQJBIEqAYR3FwmLBBOh5XXERVB17t8wIaoUSQXVrKQJBIEqAYR3FwmLBBOh5XXERVB17t8wIaoUSQXVrKQJBIEqAYR3FwmLBBOh5XXERVB17t8wIaoUSQXVrKQJBIEqAYR3FwmLBBOh5XXERVB17t8wIaoUSQXVrKQJBIEqAYR3FwmLBBOh5XXERVB17t8wIaoUSQXVrKQJBIEqAYR3FwmLBBOh5XXERVB17t8wIaoUSQXVrKQJBIEqAYR3FwmLBBOh5XXERVBH7FStWhMcee8wlO4JaYURQXdqJIBAYkwDDekw0PFAoAXpeV1gEVcD+iCOOCO9+97vDO97xjjBr1qwxX8ELL7wQNtpoo3D++eePucceQFArPAjquG3CgxBYbwIM6/VGSIApRoCe1xUMQc3M/tFHHw3Tp09vsm6wwQbhueeeaz4fvjjssMPC8ccfj6AOQxnnGkEdBw4PQcCBAMPaASIhphQBel5XLgQ1M/sbb7wx2HdQ69v2228fFi5cWH/afPzWt741EFP77mnsO6jLly8P9f2YY44J3/nOd8JLL73U6/usby0LVy18NBuDVatWhQceeCBbPqvv/pcuDA///FdZc/a9rzj/yPvKM888E+6//376r+fvtX36mqDnR77+c9f9zDPPDIsXL268aKpeTJsqL9x+pD/8Y337bupoQbUf7e+7776DI40lqLNnzw4zZ84c3HfaaafwL//yL2HZsmW9vp9x7T3h4q8vzsbA5PTuu+/Ols/qu89F88P8xUuy5ux7X3H+kfcVRc/Df4Q/LPKzoOfzM6/7/IQTTkBQc8rtnDlz1vgO6jbbbLOWoJqUHn744QORNYGNSezwa+Z3UCsa/Ih/uCu4hoA/AX7c6c+UiJObAD2vqw8/4s/M3n4Hde+99x783qn9Tf7f/d3fDc8++2xYvXp1WLBgweDVPPHEEwNpte+s2u+g2t3WxrohqBUZBHWsDmEdAj4EGNY+HIkydQjQ87paIagC9meffXbYcsstwx577BHsd1LtZoK66aabrvVqxvoR//BGBLWigaAOdwXXEPAnwLD2Z0rEyU2AntfVB0HVsXfLjKBWKBFUt5YiEASiBBjWUSwsFkyAntcVF0HVsXfLjKBWKBFUt5YiEASiBBjWUSwsFkyAntcVF0HVsXfLjKBWKBFUt5YiEASiBBjWUSwsFkyAntcVF0HVsXfLjKBWKBFUt5YiEASiBBjWUSwsFkyAntcVF0HVsXfLjKBWKBFUt5YiEASiBBjWUSwsFkyAntcVF0HVsXfLjKBWKBFUt5YiEASiBBjWUSwsFkyAntcVF0HVsXfLjKBWKBFUt5YiEASiBBjWUSwsFkyAntcVF0HVsXfLjKBWKBFUt5YiEASiBBjWUSwsFkyAntcVF0HVsXfLjKBWKBFUt5YiEASiBBjWUSwsFkyAntcVF0HVsXfLjKBWKBFUt5YiEASiBBjWUSwsFkyAntcVF0HVsXfLjKBWKBFUt5YiEASiBBjWUSwsFkyAntcVF0HVsXfLjKBWKBFUt5YiEASiBBjWUSwsFkyAntcVF0HVsXfLjKBWKBFUt5YiEASiBBjWUSwsFkyAntcVF0HVsXfLjKBWKBFUt5YiEASiBBjWUSwsFkyAntcVF0HVsXfLjKBWKBFUt5YiEASiBBjWUSwsFkyAntcVF0HVsXfLjKBWKBFUt5YiEASiBBjWUSwsFkyAntcVF0HVsXfLjKBWKBFUt5YiEASiBBjWUSwsFkyAntcVF0HVsXfLjKBWKBFUt5YiEASiBBjWUSwsFkyAntcVF0HVsXfLjKBWKBFUt5YiEASiBBjWUSwsFkyAntcVF0HVsXfLjKBWKBFUt5YiEASiBBjWUSwsFkyAntcVF0HVsXfLjKBWKBFUt5YiEASiBBjWUSwsFkyAntcVF0HVsXfLjKBWKBFUt5YiEASiBBjWUSwsFkyAntcVF0HVsXfLjKBWKBFUt5YiEASiBBjWUSwsFkyAntcVF0HVsXfLjKBWKBFUt5YiEASiBBjWUSwsFkyAntcVF0HVsXfLjKBWKBFUt5YiEASiBBjWUSwsFkyAntcVF0HVsXfLjKBWKBFUt5YiEASiBBjWUSwsFkyAntcVF0HVsXfLjKBWKBFUt5YiEASiBBjWUSwsFkyAntcVF0HVsXfLjKBWKBFUt5YiEASiBBjWUSwsFkyAntcVF0HVsXfLjKBWKBFUt5YiEASiBBjWUSwsFkyAntcVF0HVsXfLjKBWKBFUt5YiEASiBBjWUSwsFkyAntcVF0HVsXfLjKBWKBFUt5YiEASiBBjWUSwsFkyAntcVF0HVsXfLjKBWKBFUt5YiEASiBBjWUSwsFkyAntcVF0HVsXfLjKBWKBFUt5YiEASiBBjWUSwsFkyAntcVF0HVsXfLjKBWKBFUt5YiEASiBBjWUSwsFkyAntcVF0HVsXfLjKBWKBFUt5YiEASiBBjWUSwsFkyAntcVF0HVsXfLjKBWKBFUt5YiEASiBBjWUSwsFkyAntcVF0HVsXfLjKBWKBFUt5YiEASiBBjWUSwsFkyAntcVF0HVsXfLjKBWKBFUt5YiEASiBBjWUSwsFkyAntcVF0HVsXfLjKBWKBFUt5YiEASiBBjWUSwsFkyAntcVF0HVsXfLjKBWKBFUt5YiEASiBBjWUSwsFkyAntcVF0HVsXfLjKBWKBFUt5YiEASiBBjWUSwsFkyAntcVF0HVsXfLjKBWKBFUt5YiEASiBBjWUSwsFkyAntcVF0HVsXfLjKBWKBFUt5YiEASiBBjWUSwsFkyAntcVF0HVsXfLjKBWKBFUt5YiEASiBBjWUSwsFkyAntcVF0HVsXfLjKBWKBFUt5YiEASiBBjWUSwsFkyAntcVF0HVsXfLjKBWKBFUt5YiEASiBBjWUSwsFkyAntcVF0HVsXfLjKBWKBFUt5YiEASiBBjWUSwsFkyAntcVF0HVsXfLjKBWKBFUt5YiEASiBBjWUSwsFkyAntcVF0HVsXfLjKBWKBFUt5YiEASiBBjWUSwsFkyAntcVF0HVsXfLjKBWKBFUt5YiEASiBBjWUSwsFkyAntcVF0HVsXfLjKBWKBFUt5YiEASiBBjWUSwsFkyAntcVF0HVsXfLjKBWKBFUt5YiEASiBBjWUSwsFkyAntcVF0HVsXfLjKBWKBFUt5YiEASiBBjWUSwsFkyAntcVF0HVsXfLjKBWKBFUt5YiEASiBBjWUSwsFkyAntcVF0HVsXfLjKBWKM+/dXn40Be+H8775kNZ7iddc1/Y56L5WXLVZ9r1H+aHnz//ilvvEAgCXQgwrLvQYm8JBOh5XRURVB17t8wIaoXy17/5f+GbS3+R7X7JvOXhfZ++I1u++mxujUMgCHQkwLDuCIztU54APa8rIYKqY++WGUF1Q9kp0A8e+/fwwcsWdHoOmyEwlQkwrKdy9Xjt60KAnl8Xaj7PQVB9OEqjIKga/AiqhjtZdQQY1jr2ZNYQoOc13C0rgqpj75YZQXVD2SkQgtoJF5sLIMCwLqCIHKETAXq+Ey7XzQiqK05NMARVwx1B1XAnq44Aw1rHnswaAvS8hrtlRVB17N0yI6huKDsFQlA74WJzAQQY1gUUkSN0IkDPd8LluhlBdcWpCYagargjqBruZNURYFjr2JNZQ4Ce13C3rAiqjr1bZgTVDWWnQAhqJ1xsLoAAw7qAInKETgTo+U64XDcjqK44NcEQVA13BFXDnaw6AgxrHXsyawjQ8xrulhVB1bF3y4yguqHsFAhB7YSLzQUQYFgXUESO0IkAPd8Jl+tmBNUVpyYYgqrhjqBquJNVR4BhrWNPZg0Bel7D3bIiqDr2bpkRVDeUnQIhqJ1wsbkAAgzrAorIEToRoOc74XLdjKC64tQEQ1A13BFUDXey6ggwrHXsyawhQM9ruFtWBFXH3i0zguqGslMgBLUTLjYXQIBhXUAROUInAvR8J1yumxFUV5yaYAiqhjuCquFOVh0BhrWOPZk1BOh5DXfLiqDq2LtlRlDdUHYKhKB2wsXmAggwrAsoIkfoRICe74TLdTOC6opTEwxB1XBHUDXcybr+BFasWBHW5f7tuxaH//svc9bpuZaPGwSmGgEEVVcxBFXH3i0zguqGslMgBLUTLjZPIgI33HBDeNe73tX5/o6ddwsbvf2POj+vzjWJEPBSINCKAILaClOSTQhqEqx5gyKoeXnX2RDUmgQf+0Lghz95Ohx06Z19OS7nhEBAUHVNgKDq2LtlRlDdUHYKhKB2wsXmAgggqAUUkSN0IoCgdsLluhlBdcWpCYagargjqBruZNURQFB17MmsIYCgarhbVgRVx94tM4LqhrJTIAS1Ey42F0AAQS2giByhEwEEtRMu180IqitOTTAEVcMdQdVwJ6uOAIKqY09mDQEEVcPdsiKoOvZumRFUN5SdAiGonXCxuQACCGoBReQInQggqJ1wuW5GUF1xaoIhqBruCKqGO1l1BBBUHXsyawggqBrulhVB1bF3y4yguqHsFAhB7YSLzQUQQFALKCJH6EQAQe2Ey3UzguqKUxMMQdVwR1A13MmqI4Cg6tiTWUMAQdVwt6wIqo69W2YE1Q1lp0AIaidcbC6AAIJaQBE5QicCCGonXK6bEVRXnJpgCKqGO4Kq4U5WHQEEVceezBoCCKqGu2VFUHXs3TIjqG4oOwVCUDvhYnMBBBDUAorIEToRQFA74XLdjKC64tQEQ1A13BFUDXey6gggqDr2ZNYQQFA13C0rgqpj75YZQXVD2SkQgtoJF5sLIICgFlBEjtCJAILaCZfrZgTVFacmGIKq4Y6gariTVUcAQdWxJ3N+Arfccks49NBDw2677RbOOOOM8Itf/CL/i+hxRgS1gOIjqJoiIqga7mTVEUBQdezJnJfAl7/85bDTTjuF66+/Ptx0003hggsuCLvsskt4/vnn876QHmdDUAsoPoKqKSKCquFOVh0BBFXHnsx5CfzxH/9xeOCBB8Lwj/jPPvvscOGFF+Z9IT3OhqAWUHwEVVNEBFXDnaw6Agiqjj2Z8xF45plnwtvf/vZBwmFBtR/5H3PMMfleSM8z1eFPUQAAIABJREFUIagFNACCqikigqrhTlYdAQRVx57MeQlsscUW4bHHHlvjO6izZs0Kn/rUp/K+kB5nQ1ALKD6CqikigqrhTlYdAQRVx57MeQlcdtll4f3vf39YuHBhuOeee8IXv/jF8Na3vjWsXLky7wvpcTYEtYDiI6iaIiKoGu5k1RFAUHXsyZyfwBe+8IWw++67h0033TQcccQR4Uc/+lH+F9HjjAhqAcVHUDVFRFA13MmqI4Cg6tiTWUNg+HdQNa+gv1kR1AJqj6BqioigariTVUcAQdWxJ7OGAIKq4W5ZEVQde7fMCKobyk6BENROuNhcAAEEtYAicoROBBDUTrhcNyOorjjbBbO/CWh/Q9B+Aft73/veWk+yX8qeNm3a4P7GN74xnHXWWWvtGV5AUIdp5LtGUPOxJtPkIICgTo468CryEUBQ87EenQlBHU0k8eePP/54mD59+uD/RrF8+fKwySabhNWrV6+R1QR1yZIlgzUT2De96U1rPD76EwR1NJE8nyOoeTiTZfIQQFAnTy14JXkIIKh5OMeyIKgxKgnX5syZM/jbgHWKbbbZZvDPWNSfxz7ad1NH31599dVQ3z/60Y+G73//++G3v/0t94wM7n3kF+GDly2AeUbm9Lj2a9z+UHbgpXfS8/R8b3rg17/+dVi6dGlvzjuZ3mPPPffcsHjx4tH6M+U+X9vgJukR7Mf7dq9v9t1U+47pWDd7/NOf/vRaD8+ePTvsv//+g7v9/4Lt32gzSeWej8FXblsYPvCZeTCn73rTA1+9bWHY/2J6nvfZfO+zataLFi0K8+fP783XuJr3cP4TTjgBQV3L/hIuXHfddcGg17fttttuTEE97bTTwqmnnlpvHfMjP+IfE03SB/gRf1K8BG9B4KVXXw//97s/y3b/5M0Phnf/479my1efrQUKtkAgCQF+xJ8Ea6ug/Ii/FSa/TT/+8Y/DgQce2ATcYIMNgv1eqv0e6qpVq5r1k046KcyYMaP5fLwLBHU8OukeQ1DTsSVyOwL/cNuKMOPL94fZC36S5X7OTUvDoZcvyJKrPtMeFy4I//bcK+2AsAsCzgQQVGegHcIhqB1geW21/yOF/d8p3vGOdzQ/7jdB3XDDDQcpPvvZzw7+l2rbb799eOc73xn23nvvcVMjqOPiSfYggpoMLYFbErj49kfCtd9/ouXu9d+mGNZ/NnsRgrr+pSPCOhJQ9Pw6vtTinoagikq6YsWK8NhjjzXZTVCffvrp5vMuFwhqF1p+exFUP5ZEWjcCCOq6ceNZEGhLAEFtS8p/H4LqzzR7RAQ1O/JBQgRVw52sIwQQ1BEWXEEgBQEENQXVdjER1HacJvUuBFVTHgRVw52sIwQQ1BEWXEEgBQEENQXVdjER1HacJvUuBFVTHgRVw52sIwQQ1BEWXEEgBQEENQXVdjER1HacJvUuBFVTHgRVw52sIwQQ1BEWXEHAm8Dll18edthhh7DRRhuFD37wg0X8m5zejFLGQ1BT0s0UG0HNBHpUGgR1FBA+zU4AQc2OnIQ9IXDxxReHgw46KNx3333h/vvvD/ZvmG+88cZr/OXmnqCQHRNBlaH3S4yg+rHsEglB7UKLvSkIIKgpqBITAiFsvvnmYeXKlWH4R/wXXnhh+MQnPgGeTAQQ1EygU6ZBUFPSHTs2gjo2Gx7JQwBBzcOZLP0i8Mwzz4S3ve1tg0MPC+ott9wSjjnmmH7BEJ4WQRXC90qNoHqR7BYHQe3Gi93+BBBUf6ZEhIAR2GmnncK99967xndQP/axj4XPfOYzAMpEAEHNBDplGgQ1Jd2xYyOoY7PhkTwEENQ8nMnSPwL2O6fbbbdd+OIXvxiuvfbawY/23/Wudw2EtX80NCdGUDXcXbMiqK44WwdDUFujYmMiAghqIrCEhUAIYf78+eGoo44K733ve8N5550XnnvuObhkJICgZoSdKhWCmors+HER1PH58Gh6AghqesZk6DeB4d9B7TeJ/KdHUPMzd8+IoLojbRUQQW2FiU0JCSCoCeESGgIhrPE7qADJSwBBzcs7STYENQnWCYMiqBMiYkNiAghqYsCE7z0BvoOqawEEVcfeLTOC6oayUyAEtRMuNicggKAmgEpICAwRQFCHYGS+RFAzA0+RDkFNQXXimAjqxIzYkZYAgpqWL9EhgKDqegBB1bF3y4yguqHsFAhB7YSLzQkIIKgJoBISAkMEENQhGJkvEdTMwFOkQ1BTUJ04JoI6MSN2pCWAoKblS3QIIKi6HkBQdezdMiOobig7BUJQO+FicwICCGoCqISEwBABBHUIRuZLBDUz8BTpENQUVCeOiaBOzIgdaQkgqGn5Eh0CCKquBxBUHXu3zAiqG8pOgRDUTrjYnIAAgpoAKiEhMEQAQR2CkfkSQc0MPEU6BDUF1YljIqgTM2JHWgIIalq+RIcAgqrrAQRVx94tM4LqhrJTIAS1Ey42JyCAoCaASkgIDBFAUIdgZL5EUDMDT5EOQU1BdeKYCOrEjNiRlgCCmpYv0SGAoOp6AEHVsXfLjKC6oewUCEHthIvNCQggqAmgEhICQwQQ1CEYmS8R1MzAU6RDUFNQnTgmgjoxI3akJYCgpuVLdAggqLoeQFB17N0yI6huKDsFQlA74WJzAgIIagKohITAEAEEdQhG5ksENTPwFOkQ1BRUJ46JoE7MiB1pCSCoafkSHQIIqq4HEFQde7fMCKobyk6BENROuNicgACCmgAqISHwXwRMTq+44opw+umnh/nz58MlMwEENTPwFOkQ1BRUJ46JoE7MiB1pCSCoafkSvb8EHnjggbD99tuH448/Ppx66qlhn332CSeffHJ/gQhOjqAKoHunRFC9ibaLh6C248SudAQQ1HRsidxvAn/6p38arrnmmjD8I/7DDjssXHvttf0Gk/H0CGpG2KlSIaipyI4fF0Ednw+PpieAoKZnTIb+EfiP//iP8Id/+IeDgw8L6o033hhmzJjRPyCiEyOoIvCeaRFUT5rtYyGo7VmxMw0BBDUNV6L2m8Crr74aNthgg/Daa6+t8R3Uq666avDj/n7TyXd6BDUf62SZENRkaMcNjKCOi4cHMxBAUDNAJkUvCZx00knhvPPOawT18ccfDzvvvDN/WSpjNyCoGWGnSoWgpiI7flwEdXw+PJqeAIKanjEZ+kngxRdfDEceeWTYYYcdwp577hk23HDDMHv27H7CEJ0aQRWB90yLoHrSbB8LQW3Pip1pCCCoabgSFQI1gSVLloQvfelL4de//nW9xMdMBBDUTKBTpkFQU9IdOzaCOjYbHslDAEHNw5ks/SUw/Jek+ktBc3IEVcPdNSuC6oqzdTAEtTUqNiYigKAmAktYCPwXAQRV1woIqo69W2YE1Q1lp0AIaidcbE5AAEFNAJWQEBgigKAOwch8iaBmBp4iHYKagurEMRHUiRmxIy0BBDUtX6JDAEHV9QCCqmPvlhlBdUPZKRCC2gkXmxMQQFATQCUkBIYIIKhDMDJfIqiZgadIh6CmoDpxTAR1YkbsSEsAQU3Ll+gQQFB1PYCg6ti7ZUZQ3VB2CoSgdsLF5gQEENQEUAkJgSECCOoQjMyXCGpm4CnSIagpqE4cE0GdmBE70hJAUNPyJToEEFRdDyCoOvZumRFUN5SdAiGonXCxOQEBBDUBVEJCYIgAgjoEI/MlgpoZeIp0CGoKqhPHRFAnZsSOtAQQ1LR8iQ4BBFXXAwiqjr1bZgTVDWWnQAhqJ1xsTkAAQU0AlZAQGCKAoA7ByHyJoGYGniIdgpqC6sQxEdSJGbEjLQEENS1fokMAQdX1AIKqY++WGUF1Q9kpEILaCRebExBAUBNAJSQEhgggqEMwMl8iqJmBp0iHoKagOnFMBHViRuxISwBBTcuX6BBAUHU9gKDq2LtlRlDdUHYKhKB2wsXmBAQQ1ARQCQmBIQII6hCMzJcIambgKdIhqCmoThwTQZ2YETvSEkBQ0/IlOgQQVF0PIKg69m6ZEVQ3lJ0CIaidcLE5AQEENQFUQkJgiACCOgQj8yWCmhl4inQIagqqE8dEUCdmxI60BBDUtHyJDgEEVdcDCKqOvVtmBNUNZadACGonXGxOQABBTQCVkBAYIoCgDsHIfImgZgaeIh2CmoLqxDER1IkZsSMtAQQ1LV+iQwBB1fUAgqpj75YZQXVD2SkQgtoJF5sTEEBQE0AlZJEEVq1aFdblvnT5o+GWeXeu03MtH7d1J4Cgrju7SfNMBFVTCgRVw52sIwQQ1BEWXEFgPAI33nhj2HbbbTvf37bFVuENG2/W+Xl1rvFeE4+NTwBBHZ/PlHgUQdWUCUHVcCfrCAEEdYQFVxBIQeCBn64Kf3bpnSlCE3MCAgjqBICmwsMIqqZKCKqGO1lHCCCoIyy4gkAKAghqCqrtYiKo7ThN6l0IqqY8CKqGO1lHCCCoIyy4gkAKAghqCqrtYiKo7ThN6l0IqqY8CKqGO1lHCCCoIyy4gkAKAghqCqrtYiKo7ThN6l0IqqY8CKqGO1lHCMz85hfD382/NsxbOS/L/eaHbw6f/87ns+Sqz7TP5y8LDzy1cuTQXEEgIwEENSPsUakQ1FFApuKnCKqmagiqhjtZRwgc9fXzw1996+Ph/HvPz3I/757zwmnfPi1LrvpM77lqJoI6UnKuMhNAUDMDH0qHoA7BmKqXCKqmcgiqhjtZRwjwI/4RFlxBIAUBBDUF1XYxEdR2nCb1LgRVUx4EVcOdrCMEENQRFlxBIAUBBDUF1XYxEdR2nCb1LgRVUx4EVcOdrCMEENQRFlxBIAUBBDUF1XYxEdR2nCb1LgRVUx4EVcOdrCMEENQRFlxBIAUBBDUF1XYxEdR2nCb1LgRVUx4EVcOdrCMEENQRFlxBIAUBBDUF1XYxEdR2nCb1LgRVUx4EVcOdrCMEENQRFlxBIAUBBDUF1XYxEdR2nCb1LgRVUx4EVcOdrCMEENQRFlxBIAUBBDUF1XYxEdR2nCb1LgRVUx4EVcOdrCMEENQRFlz1g8Dq114P//7Cb7Ldb1/2ZNj/n+Zny1efrR/VHP+UCOr4fKbEowiqpkwIqoY7WUcIIKgjLLjqB4EL5z4c9rhwQfjvl303y/19F98Vtj9vXpZc9Zn2u3RhWPns6n4UdJxTIqjjwJkqDyGomkohqBruZB0hgKCOsOCqHwT+6V8fCdfc+0S2w7788svhwQcfzJbPEh34vxchqCEEBDVr26VJhqCuH9frrrsubL311p3vb33bFuENf7Bp5+fVudbvVfNsCISAoNIFfSOAoPan4ghqAbVGUNeviL/85S/DutyXPfyTcNv8u9bpuZaPGwTWlwCCur4Eef5UI4CgTrWKrfvrRVDXnd2keSaCqinFSy+9FJYtW6ZJTlYIBL6DShP0jwCC2p+aI6gF1BpB1RQRQdVwJ+sIAb6DOsKCq34QQFD7UWc7JYJaQK0RVE0REVQNd7KOEEBQR1hw1Q8CCGo/6mynRFALqDWCqikigqrhTtYRAgjqCAuu+kEAQe1Hne2UCGoBtUZQNUVEUDXcyTpCAEEdYcFVPwggqP2os50SQS2g1giqpogIqoY7WUcIIKgjLLjqBwEEtR91tlMiqAXUGkHVFBFB1XAn6wgBBHWEBVf9IICg9qPOdkoEtYBaI6iaIiKoGu5kHSGAoI6w4KofBBDUftTZTomgFlBrBFVTRARVw52sIwQQ1BEWXPWDAILajzrbKRHUAmqNoGqKiKBquJN1hMA/3LYifOS6Hw3+3+T2/ydPfZ91y4/DX11xd/I8w+d496fvCv/23Csjh+aq1wQQ1P6UH0EtoNYIqqaICKqGO1lHCDzz69fChXNXBBvaOe4fu2FJ2P0f/jVLrvo8dr7Vr70+cmiuek0AQe1P+RHUAmqNoGqKiKBquJNVR+CHP3k6HHTpnboXQObeE/irr88Ke9/wp+Hgbx6c5X7QNw4KB3ztgCy56jPt9uX/Hu77+U97X2sEtYAWQFA1RURQNdzJqiOAoOrYk7kicP7cxeH/3LMkPPPKM1nuP/vVz8Ld99+dJVd9pg/8n2+HB55a2fuSI6gFtACCqikigqrhTlYdAQRVx57MFQF+xN+fTkBQC6g1gqopIoKq4U5WHQEEVceezBUBBLU/nYCgFlBrBFVTRARVw52sOgIIqo49mSsCCGp/OgFBLaDWCKqmiAiqhjtZdQQQVB17MlcEENT+dAKCWkCtEVRNERFUDXey6gggqDr2ZK4IIKj96QQEtYBaI6iaIiKoGu5k1RFAUHXsyVwRQFD70wkIagG1RlA1RURQNdzJqiOAoOrYk7kicOHch8Nen/lO+PMr7s1yP+DyhWGHT83Lkqs+k51v5bOre19yBLWAFkBQNUVEUDXcyaojgKDq2JO5ImD/V7FHVr2U7f6N+1eG/T4zP1u++mzUOwQEVdAFX/3qV8NRRx0VZs6cGR566KHoK7j33nvD9OnTw1577RUWLVoU3VMvIqg1ibwfEdS8vMmmJ4Cg6mvAK8hL4IGfrgp/xv89LS/0/8qGoGbG/uSTT4atttoqzJs3L9x0001hyy23XOsVrF69Omy99dZhzpw54Stf+UqYNm1asLWxbgjqWGTSriOoafkSffIRQFAnX014RWkJIKhp+Y4XHUEdj06Cx+bOnRsOPvjgJvLmm28eFi5c2HxuF7fddlt497vf3awdcMABA1ltFkZdIKijgGT6FEHNBJo07gRuuOGGsM0223S+b/72LcMbNt6s8/PqXO4HISAEEhNAUBMDHic8gjoOnBQPXXLJJeGcc85pQr/nPe9ZS1AvvfTScOaZZzZ7TEAvvvji5nO7mD17dvjwhz88uO+0007hmmuuCQ888AD3jAx+8IMfhAULFsA8I3N63OdrfP78+WFd7nNumRuuveGmdXqu5aN+PvWDY3eOF110Udh2220739++1TZhg7ds2fl5dS5q1b1WNbMTTjghLF68eA33mYqfTJsqL9pEcsaMGc3L3XnnndcSVPux/tFHH93ssesrrrii+dwufvGLXzT3k08+efB7qq+++mrgno/Bs88+G370ox/BnL7rTQ8899xzYcmSJb05L++n+d5PU7N+5JFHwrrc5y+6L3zlpm+t03MtX+pzlRz/7LPPRlDXML/EnyxdunTwl5/qNBtvvPGg8evP7aP9BakNN9ywWfqDP/iDcOeddzafj77gR/yjieT5nB/x5+FMlslD4OWXXw4PPvjg5HlBvBIIJCZAzycGPE54fsQ/DpwUD73yyithxx13DPYng1NOOSUceuihgzT2l6A222yzJqX9DX573O72o4LxbgjqeHTSPYagpmNL5MlJgGE9OevCq0pHgJ5Px3aiyAjqRIQSPL58+fLBj+yvvPLKJroJ6ujvklpx7D7RDUGdiFCaxxHUNFyJOnkJMKwnb214ZWkI0PNpuLaJiqC2oTTJ9yComgIhqBruZNURYFjr2JNZQ4Ce13C3rAiqjr1bZgTVDWWnQAhqJ1xsLoAAw7qAInKETgTo+U64XDcjqK44NcEQVA13BFXDnaw6AgxrHXsyawjQ8xrulhVB1bF3y4yguqHsFAhB7YSLzQUQYFgXUESO0IkAPd8Jl+tmBNUVpyYYgqrhjqBquJNVR4BhrWNPZg0Bel7D3bIiqDr2bpkRVDeUnQIhqJ1wsbkAAgzrAorIEToRoOc74XLdjKC64tQEQ1A13BFUDXey6ggwrHXsyawhQM9ruFtWBFXH3i0zguqGslMgBLUTLjYXQIBhXUAROUInAvR8J1yumxFUV5yaYAiqhjuCquFOVh0BhrWOPZk1BOh5DXfLiqDq2LtlRlDdUHYKhKB2wsXmAggwrAsoIkfoRICe74TLdTOC6opTEwxB1XBHUDXcyaojwLDWsSezhgA9r+FuWRFUHXu3zAiqG8pOgRDUTrjYXAABhnUBReQInQjQ851wuW5GUF1xaoIhqBruCKqGO1l1BBjWOvZk1hCg5zXcLSuCqmPvlhlBdUPZKRCC2gkXmwsgwLAuoIgcoRMBer4TLtfNCKorTk0wBFXDHUHVcCerjgDDWseezBoC9LyGu2VFUHXs3TIjqG4oOwVCUDvhYnMBBBjWBRSRI3QiQM93wuW6GUF1xakJhqBquCOoGu5k1RFgWOvYk1lDgJ7XcLesCKqOvVtmBNUNZadACGonXGwugADDuoAicoROBOj5TrhcNyOorjg1wRBUDXcEVcOdrDoCDGsdezJrCNDzGu6WFUHVsXfLjKC6oewUCEHthIvNBRBgWBdQRI7QiQA93wmX62YE1RWnJhiCquGOoGq4k1VHgGGtY09mDQF6XsPdsiKoOvZumffZZ5/wwQ9+MBx//PHcMzIw5nvttRfMMzKnx7Vf4wcffDA9T7/36j3vkEMOoedFPb/TTjuFG2+80c2VVIGmqRJPhrwPPfRQsPvjjz/OPSODO+64Ixx11FEwz8icHtd+jc+fPz8ceeSR9Dw935seuPPOO8MRRxzRm/NOpvfY2m0mg2etz2votaCuDzieu+4EVqxYEU455ZR1D8AzITDFCDzyyCPh5JNPnmKvmpcLgXUn8Oijj4aTTjpp3QPwzN4TQFB73wL5ASCo+ZmTUUsAQdXyJ3t+AghqfualZURQS6voFDjPa6+9FuzODQJ9IUDP96XSnLMmQM/XJPi4rgQQ1HUlx/MgAAEIQAACEIAABJIQQFCTYCUoBCAAAQhAAAIQgMC6EkBQ15XcFHneE088Eexe8s3O993vfre5l3xWzpaOwOg+qnvK1mfNmhUWLlzomtxidrl94hOfCM8+++xaT0nx2tZKwkLxBB588MHmPdR6v+ttrH62r5v6a+mFF17oGpb9PSaAoBZe/C233DLYPcfN3ojOP//8HKnWyGE5991330Huww47LEyfPn2Nx2OfTJtG68e49Hmt7l/rJ+sP+2h3W7eeso+eN+vZLrf3vve9UUFN8dq6vC72lkHA+tH+vWTr+bbvo8Mn33///Yc/ba7rr6WPfexjg1k00TdM6q+5JgAXvSXAlC649DZQ7Q3H3mzsT8f1zf4Ua3/atcF2xhln1MvhmmuuCYcffniYMWNG811Xi2Gf2776jcWea9/N2WOPPYL9A+RPPfXUIIblspj2uO2tn2sxr7322jXyfOtb3xrksrjDf6r+7Gc/u9ZrsL31axjeWwesRaL+fFg+6zz2/Fow7KPtsddpZ7ab8bE9dh9mVcfkY78IDPeQnbyWwO22227w9WT/rqndrJfq/qx7yXrY9s+ePbuBVvehfS3UfWhCYD24++67hwsuuKDZW399jv66GRbU22+/PdhrsaFfv7YmABcQWAcC1o91b9rTh78G7D3W+mx4Dtieug/tfdP+Yf7YbTiO9at9fditfs8d/lqxuWGfWzz72rDbWF8Pgwf5T9EEENSCy2vCaIPR7nZd3+yNqH6TqN+Q7A3I9tibgb1J1IJpcmtr9may6667DkLYG4e96Vx88cXh5ptvbt7ILJbFqW/2HHuu3S2OvQ671X9St/XhNyy7rp9fvwZ7Tv0aLL49d/TNnlM/z/ZstNFGzRb7vH4N9votrt2G3zRtzeLWOW2fPYdbfwkM94dRsKFpff/000+H4447LpxzzjkDONZ31p/WO9Yz9jVUf20N96X9FKPuw7oHd9ttt3DWWWcN4ljsuXPnDq6tF012bb/FrsW3FtSlS5eGTTbZJDz88MODP/jZa7M+5waB9SFgfVeLoX209+P6VveXfazfg4f70HrQ/kcUsVv9tWR9v9VWWzW9avOh/lqwXHWf29dNnc/iWb7683qmxfKwVh4BBLW8mg5OZMNt+Ef79YC0N4T6DWb46LV8Dq/Zm0b9hmUD1N5c7Pl2PfwP7VtsG5b2JlKLosWx12B77TtBNozrx4bfcOw5NoTtNiyW9euwx0a/hvqx+qPFtddgcS1GLcL2eP167Q10+M2xftO0Pfb8WkDs9TLwa7L9/TjcH0bBeuLWW28dALGetc/tZr1TD0/73J5nPVTf6681+/qy7z7ZUK5v++23X/jZz342+NRi2P91x27DXwfDXx+1oF500UVrfP1tvvnma7yGOj4fIdCFgPWq/eHKes4+Dv9B3eTR+tf6vv7aGN2Hb37zm6PpbL/FtnjD0mvzwX7KYO/vNh/qb6IMf03Z+7e9b9dfT6PFOZqQxWIIIKjFlHLNg9gbSi1t9uZg17Y2lqDa46Nv9mZSv2HZm5bda+k8/fTTm+323Jigmlzac+xmue2Nx272eup1+2if2214MA8WQhjI6+jXUD9Wf7S4dWw7n70ee512szdFW7ObnafOW7/J2ro9194c7bH6Xj9/8ET+0zsCw/1hhx/+Q4v1yHiCWveQfayF1Pqp/mlAPaTrGBbf9tbrw1+Ltl7/AQ5B7V0bZj3w8PuyJa4/r3uwfk+s36dHC6r9QSl2G/5aqmPaPutre2+3m+Wo54C9H9vndrP3bnsPt8/re/01NdjAf4omgKAWWl77Yh/+Qrbr+g2g/oK3ow/Lm/0p1W72RjQ8UOs3pjqe7bNfiF+yZMlaP+K375bWN8tjz7HnW+5aIu26fgOyj/XrGv7xaP0aTGwtZv0a6ufVOeyjxa1jj/68llV7vl3Xz7fXVses3wSHP6+5DOfhuj8EhoeqnbqtoFoPW8/WN+s366W6n+xj3e+jBbX++rPH658C2BCv49WCOvyjVfvd7uHXVuflIwS6Ehh+X7b++/3f//1B31r/1X94svX6ayPWh7Gc9X57bPj9fvgbGHZdf13Ye3ktrvac4Xll79H1HIrlYq0sAghqWfUcnMa+iO0LfvTN1uwxG5I2SO0NwT7azdbtjcHWbF89UO0NydbsXr9J2SCdM2dO2Guvvdb4S1IWx95YbK+9idRvRhbP3uTqQWtx6jcZ+1jHtddg16Nfgz1v9GsYPttw7Pos9fnr59byW+e112ZrdW773J5jeWy9Pv9wHq77Q8D6YPg2LIHWK7VcWn8VYv2UAAABT0lEQVTVPWX7h7+OLIY9Pvz1Zj1W769j2PMsZi2oFsN60J4//Aevj370o83f4q//csqpp56KoA4Xiut1JlC/91rf2bX1ZH0b7sf6PdMeG92H9f7hj6O/lur3V/s6qN9z7eukjjs8ByzO6K+f4dc1nIfr8gggqOXVNPmJbJDaGwo3CEAAAhCAAAQgkIIAgpqCauExTVDr7/YUflSOBwEIQAACEICAgACCKoBOSghAAAIQgAAEIACBsQkgqGOz4REIQAACEIAABCAAAQEBBFUAnZQQgAAEIAABCEAAAmMTQFDHZsMjEIAABCAAAQhAAAICAgiqADopIQABCEAAAhCAAATGJoCgjs2GRyAAAQhAAAIQgAAEBAQQVAF0UkIAAhCAAAQgAAEIjE0AQR2bDY9AAAIQgAAEIAABCAgIIKgC6KSEAAQgAAEIQAACEBibwP8HbSO7oDfjx8UAAAAASUVORK5CYII=)"
      ]
    },
    {
      "cell_type": "code",
      "metadata": {
        "id": "YdsTuPSNbo-T"
      },
      "source": [
        "# Plot the strategy curve\n",
        "plt.plot(strat_df['Acceptance Rate'], strat_df['Bad Rate'])\n",
        "plt.xlabel('Acceptance Rate')\n",
        "plt.ylabel('Bad Rate')\n",
        "plt.title('Acceptance and Bad Rates')\n",
        "plt.axes().yaxis.grid()\n",
        "plt.axes().xaxis.grid()\n",
        "plt.show()"
      ],
      "execution_count": null,
      "outputs": []
    },
    {
      "cell_type": "markdown",
      "metadata": {
        "id": "s5wPirbcbsnL"
      },
      "source": [
        "![image.png](data:image/png;base64,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)"
      ]
    },
    {
      "cell_type": "markdown",
      "metadata": {
        "id": "w0H6vt2ybwMN"
      },
      "source": [
        "The bad rates are very low up until the acceptance rate 0.6 where they suddenly increase. This suggests that many of the accepted defaults may have a prob_default value between 0.6 and 0.8"
      ]
    },
    {
      "cell_type": "markdown",
      "metadata": {
        "id": "Xwb5p0Zmel8q"
      },
      "source": [
        "So now we have a table like this:\n",
        "\n",
        "In [1]:\n",
        "strat_df\n",
        "\n",
        "Out[1]:\n",
        "\n",
        "\n",
        "    Acceptance Rate  Threshold  Bad Rate  Num Accepted Loans  Avg Loan Amnt  Estimated Value\n",
        "\n",
        "0              1.00      1.000     0.219               11379        9556.28      61112391.49\n",
        "\n",
        "1              0.95      0.992     0.179               10591        9556.28      64977180.47\n",
        "\n",
        "2              0.90      0.976     0.132               10025        9556.28      70510056.35\n",
        "\n",
        "3              0.85      0.804     0.083                9390        9556.28      74837713.31\n",
        "\n",
        "4              0.80      0.254     0.061                8857        9556.28      74313895.38\n",
        "\n",
        "5              0.75      0.178     0.052                8229        9556.28      70460210.80\n",
        "6              0.70      0.138     0.043                7685        9556.28      67124170.79\n",
        "7              0.65      0.111     0.036                7104        9556.28      62999890.58\n",
        "8              0.60      0.093     0.030                6456        9556.28      57993623.06\n",
        "9              0.55      0.078     0.027                5870        9556.28      53066213.97\n",
        "10             0.50      0.066     0.023                5288        9556.28      48209062.64\n",
        "11             0.45      0.055     0.020                4726        9556.28      43356460.11\n",
        "12             0.40      0.045     0.017                4131        9556.28      38134774.93\n",
        "13             0.35      0.037     0.014                3536        9556.28      32844857.91\n",
        "14             0.30      0.030     0.010                2941        9556.28      27542919.09\n",
        "15             0.25      0.022     0.008                2359        9556.28      22182572.29\n",
        "16             0.20      0.015     0.005                1768        9556.28      16726548.01\n",
        "17             0.15      0.008     0.001                1187        9556.28      11320617.75\n",
        "18             0.10      0.004     0.000                 576        9556.28       5504417.28\n",
        "19             0.05      0.002     0.000                 405        9556.28       3870293.40"
      ]
    },
    {
      "cell_type": "markdown",
      "metadata": {
        "id": "FDIEHQDPfAoQ"
      },
      "source": [
        "The strat_df data frame is loaded and has been enhanced already with the following columns:\n",
        "\n",
        "Num Accepted Loans-\tThe number of accepted loans based on the threshold, \n",
        "\n",
        "Avg Loan Amnt-\tThe average loan amount of the entire test set,\n",
        "\n",
        "Estimated value-\tThe estimated net value of non-defaults minus defaults."
      ]
    },
    {
      "cell_type": "code",
      "metadata": {
        "id": "dk4nk0Pbe25w"
      },
      "source": [
        "# Print the contents of the strategy df\n",
        "print(strat_df)\n",
        "\n",
        "# Create a line plot of estimated value\n",
        "plt.plot(strat_df['Acceptance Rate'],strat_df['Estimated Value'])\n",
        "plt.title('Estimated Value by Acceptance Rate')\n",
        "plt.xlabel('Acceptance Rate')\n",
        "plt.ylabel('Estimated Value')\n",
        "plt.axes().yaxis.grid()\n",
        "plt.show()"
      ],
      "execution_count": 124,
      "outputs": []
    },
    {
      "cell_type": "markdown",
      "metadata": {
        "id": "FUoStlIQfUfI"
      },
      "source": [
        "![image.png](data:image/png;base64,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)"
      ]
    },
    {
      "cell_type": "code",
      "metadata": {
        "id": "UJndDuplfe5s"
      },
      "source": [
        "# Print the row with the max estimated value\n",
        "print(strat_df.loc[strat_df['Estimated Value'] == np.max(strat_df['Estimated Value'])])"
      ],
      "execution_count": null,
      "outputs": []
    },
    {
      "cell_type": "markdown",
      "metadata": {
        "id": "qB9u-X-efcv5"
      },
      "source": [
        "With our credit data and our estimated averag loan value, we clearly see that the acceptance rate 0.85 has the highest potential estimated value. Normally, the allowable bad rate is set, but we can use analyses like this to explore other options."
      ]
    },
    {
      "cell_type": "code",
      "metadata": {
        "id": "8zRqZewXfhaQ"
      },
      "source": [
        "# Print the first five rows of the data frame\n",
        "print(test_pred_df.head())\n",
        "\n",
        "# Calculate the bank's expected loss and assign it to a new column\n",
        "test_pred_df['expected_loss'] = test_pred_df['prob_default'] * test_pred_df['loan_amnt'] * test_pred_df['loss_given_default']\n",
        "\n",
        "# Calculate the total expected loss to two decimal places\n",
        "tot_exp_loss = round(np.sum(test_pred_df['expected_loss']),2)\n",
        "\n",
        "# Print the total expected loss\n",
        "print('Total expected loss: ', '${:,.2f}'.format(tot_exp_loss))"
      ],
      "execution_count": null,
      "outputs": []
    },
    {
      "cell_type": "markdown",
      "metadata": {
        "id": "7VdLsSWEfoa9"
      },
      "source": [
        "<script.py> output:\n",
        "\n",
        "       true_loan_status  prob_default  loan_amnt  loss_given_default\n",
        "    0                 1      0.982387      15000                 1.0\n",
        "    1                 1      0.975163      11200                 1.0\n",
        "    2                 0      0.003474      15000                 1.0\n",
        "    3                 0      0.005457      10800                 1.0\n",
        "    4                 1      0.119876       3000                 1.0\n",
        "\n",
        "    Total expected loss:  $27,084,153.38"
      ]
    },
    {
      "cell_type": "markdown",
      "metadata": {
        "id": "7LqJrplAfuWo"
      },
      "source": [
        "This is the total expected loss for the entire portfolio using the gradient boosted tree. \n",
        "27 million dollars is a lot, but the total expected loss would have been over 28 million dollars with the logistic regression. we still might have saved the company a million dollars!"
      ]
    }
  ]
}